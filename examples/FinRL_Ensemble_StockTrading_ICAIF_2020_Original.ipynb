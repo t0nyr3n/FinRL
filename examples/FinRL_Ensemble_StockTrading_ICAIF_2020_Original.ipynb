{
 "cells": [
  {
   "cell_type": "markdown",
   "metadata": {
    "id": "Lb9q2_QZgdNk"
   },
   "source": [
    "<a target=\"_blank\" href=\"https://colab.research.google.com/github/AI4Finance-Foundation/FinRL-Tutorials/blob/master/2-Advance/FinRL_Ensemble_StockTrading_ICAIF_2020.ipynb\">\n",
    "  <img src=\"https://colab.research.google.com/assets/colab-badge.svg\" alt=\"Open In Colab\"/>\n",
    "</a>"
   ]
  },
  {
   "cell_type": "markdown",
   "metadata": {
    "id": "gXaoZs2lh1hi"
   },
   "source": [
    "# Deep Reinforcement Learning for Stock Trading from Scratch: Multiple Stock Trading Using Ensemble Strategy\n",
    "\n",
    "Tutorials to use OpenAI DRL to trade multiple stocks using ensemble strategy in one Jupyter Notebook | Presented at ICAIF 2020\n",
    "\n",
    "* This notebook is the reimplementation of our paper: Deep Reinforcement Learning for Automated Stock Trading: An Ensemble Strategy, using FinRL.\n",
    "* Check out medium blog for detailed explanations: https://medium.com/@ai4finance/deep-reinforcement-learning-for-automated-stock-trading-f1dad0126a02\n",
    "* Please report any issues to our Github: https://github.com/AI4Finance-LLC/FinRL-Library/issues\n",
    "* **Pytorch Version**\n",
    "\n"
   ]
  },
  {
   "cell_type": "markdown",
   "metadata": {
    "id": "lGunVt8oLCVS"
   },
   "source": [
    "# Content"
   ]
  },
  {
   "cell_type": "markdown",
   "metadata": {
    "id": "HOzAKQ-SLGX6"
   },
   "source": [
    "* [1. Problem Definition](#0)\n",
    "* [2. Getting Started - Load Python packages](#1)\n",
    "    * [2.1. Install Packages](#1.1)    \n",
    "    * [2.2. Check Additional Packages](#1.2)\n",
    "    * [2.3. Import Packages](#1.3)\n",
    "    * [2.4. Create Folders](#1.4)\n",
    "* [3. Download Data](#2)\n",
    "* [4. Preprocess Data](#3)        \n",
    "    * [4.1. Technical Indicators](#3.1)\n",
    "    * [4.2. Perform Feature Engineering](#3.2)\n",
    "* [5.Build Environment](#4)  \n",
    "    * [5.1. Training & Trade Data Split](#4.1)\n",
    "    * [5.2. User-defined Environment](#4.2)   \n",
    "    * [5.3. Initialize Environment](#4.3)    \n",
    "* [6.Implement DRL Algorithms](#5)  \n",
    "* [7.Backtesting Performance](#6)  \n",
    "    * [7.1. BackTestStats](#6.1)\n",
    "    * [7.2. BackTestPlot](#6.2)   \n",
    "    * [7.3. Baseline Stats](#6.3)   \n",
    "    * [7.3. Compare to Stock Market Index](#6.4)             "
   ]
  },
  {
   "cell_type": "markdown",
   "metadata": {
    "id": "sApkDlD9LIZv"
   },
   "source": [
    "<a id='0'></a>\n",
    "# Part 1. Problem Definition"
   ]
  },
  {
   "cell_type": "markdown",
   "metadata": {
    "id": "HjLD2TZSLKZ-"
   },
   "source": [
    "This problem is to design an automated trading solution for single stock trading. We model the stock trading process as a Markov Decision Process (MDP). We then formulate our trading goal as a maximization problem.\n",
    "\n",
    "The algorithm is trained using Deep Reinforcement Learning (DRL) algorithms and the components of the reinforcement learning environment are:\n",
    "\n",
    "\n",
    "* Action: The action space describes the allowed actions that the agent interacts with the\n",
    "environment. Normally, a ∈ A includes three actions: a ∈ {−1, 0, 1}, where −1, 0, 1 represent\n",
    "selling, holding, and buying one stock. Also, an action can be carried upon multiple shares. We use\n",
    "an action space {−k, ..., −1, 0, 1, ..., k}, where k denotes the number of shares. For example, \"Buy\n",
    "10 shares of AAPL\" or \"Sell 10 shares of AAPL\" are 10 or −10, respectively\n",
    "\n",
    "* Reward function: r(s, a, s′) is the incentive mechanism for an agent to learn a better action. The change of the portfolio value when action a is taken at state s and arriving at new state s',  i.e., r(s, a, s′) = v′ − v, where v′ and v represent the portfolio\n",
    "values at state s′ and s, respectively\n",
    "\n",
    "* State: The state space describes the observations that the agent receives from the environment. Just as a human trader needs to analyze various information before executing a trade, so\n",
    "our trading agent observes many different features to better learn in an interactive environment.\n",
    "\n",
    "* Environment: Dow 30 consituents\n",
    "\n",
    "\n",
    "The data of the single stock that we will be using for this case study is obtained from Yahoo Finance API. The data contains Open-High-Low-Close price and volume.\n"
   ]
  },
  {
   "cell_type": "markdown",
   "metadata": {
    "id": "Ffsre789LY08"
   },
   "source": [
    "<a id='1'></a>\n",
    "# Part 2. Getting Started- Load Python Packages"
   ]
  },
  {
   "cell_type": "markdown",
   "metadata": {
    "id": "Uy5_PTmOh1hj"
   },
   "source": [
    "<a id='1.1'></a>\n",
    "## 2.1. Install all the packages through FinRL library\n"
   ]
  },
  {
   "cell_type": "code",
   "metadata": {
    "colab": {
     "base_uri": "https://localhost:8080/"
    },
    "id": "mPT0ipYE28wL",
    "outputId": "31d6a8ab-c43f-4558-fbc2-6b633ef7654b",
    "scrolled": true,
    "ExecuteTime": {
     "end_time": "2024-11-27T04:01:23.332676Z",
     "start_time": "2024-11-27T04:01:16.576893Z"
    }
   },
   "source": [
    "# ## install finrl library\n",
    "!pip install wrds\n",
    "!pip install swig\n",
    "!apt-get update -y -qq && apt-get install -y -qq cmake libopenmpi-dev python3-dev zlib1g-dev libgl1-mesa-glx swig\n",
    "!pip install -e ~/Workspace/AI4Finance/FinRL"
   ],
   "outputs": [
    {
     "name": "stdout",
     "output_type": "stream",
     "text": [
      "Requirement already satisfied: wrds in /Users/tonyren/Workspace/AI4Finance/FinRL/.venv/lib/python3.10/site-packages (3.2.0)\r\n",
      "Requirement already satisfied: numpy<1.27,>=1.26 in /Users/tonyren/Workspace/AI4Finance/FinRL/.venv/lib/python3.10/site-packages (from wrds) (1.26.4)\r\n",
      "Requirement already satisfied: packaging<23.3 in /Users/tonyren/Workspace/AI4Finance/FinRL/.venv/lib/python3.10/site-packages (from wrds) (23.2)\r\n",
      "Requirement already satisfied: pandas<2.3,>=2.2 in /Users/tonyren/Workspace/AI4Finance/FinRL/.venv/lib/python3.10/site-packages (from wrds) (2.2.3)\r\n",
      "Requirement already satisfied: psycopg2-binary<2.10,>=2.9 in /Users/tonyren/Workspace/AI4Finance/FinRL/.venv/lib/python3.10/site-packages (from wrds) (2.9.10)\r\n",
      "Requirement already satisfied: scipy<1.13,>=1.12 in /Users/tonyren/Workspace/AI4Finance/FinRL/.venv/lib/python3.10/site-packages (from wrds) (1.12.0)\r\n",
      "Requirement already satisfied: sqlalchemy<2.1,>=2 in /Users/tonyren/Workspace/AI4Finance/FinRL/.venv/lib/python3.10/site-packages (from wrds) (2.0.36)\r\n",
      "Requirement already satisfied: python-dateutil>=2.8.2 in /Users/tonyren/Workspace/AI4Finance/FinRL/.venv/lib/python3.10/site-packages (from pandas<2.3,>=2.2->wrds) (2.9.0.post0)\r\n",
      "Requirement already satisfied: pytz>=2020.1 in /Users/tonyren/Workspace/AI4Finance/FinRL/.venv/lib/python3.10/site-packages (from pandas<2.3,>=2.2->wrds) (2024.2)\r\n",
      "Requirement already satisfied: tzdata>=2022.7 in /Users/tonyren/Workspace/AI4Finance/FinRL/.venv/lib/python3.10/site-packages (from pandas<2.3,>=2.2->wrds) (2024.2)\r\n",
      "Requirement already satisfied: typing-extensions>=4.6.0 in /Users/tonyren/Workspace/AI4Finance/FinRL/.venv/lib/python3.10/site-packages (from sqlalchemy<2.1,>=2->wrds) (4.12.2)\r\n",
      "Requirement already satisfied: six>=1.5 in /Users/tonyren/Workspace/AI4Finance/FinRL/.venv/lib/python3.10/site-packages (from python-dateutil>=2.8.2->pandas<2.3,>=2.2->wrds) (1.16.0)\r\n",
      "Requirement already satisfied: swig in /Users/tonyren/Workspace/AI4Finance/FinRL/.venv/lib/python3.10/site-packages (4.2.1.post0)\r\n",
      "zsh:1: command not found: apt-get\r\n",
      "Obtaining file:///Users/tonyren/Workspace/AI4Finance/FinRL\r\n",
      "  Installing build dependencies ... \u001B[?25ldone\r\n",
      "\u001B[?25h  Checking if build backend supports build_editable ... \u001B[?25ldone\r\n",
      "\u001B[?25h  Getting requirements to build editable ... \u001B[?25ldone\r\n",
      "\u001B[?25h  Preparing editable metadata (pyproject.toml) ... \u001B[?25ldone\r\n",
      "\u001B[?25hCollecting elegantrl@ git+https://github.com/AI4Finance-Foundation/ElegantRL.git#egg=elegantrl (from finrl==0.3.6)\r\n",
      "  Cloning https://github.com/AI4Finance-Foundation/ElegantRL.git to /private/var/folders/fk/ghrbpzjd2ljb898y6fvw8sgc0000gn/T/pip-install-ad_340xc/elegantrl_b9f1b7daed7a4b678f5109d196a0cd29\r\n",
      "  Running command git clone --filter=blob:none --quiet https://github.com/AI4Finance-Foundation/ElegantRL.git /private/var/folders/fk/ghrbpzjd2ljb898y6fvw8sgc0000gn/T/pip-install-ad_340xc/elegantrl_b9f1b7daed7a4b678f5109d196a0cd29\r\n",
      "  Resolved https://github.com/AI4Finance-Foundation/ElegantRL.git to commit c2939fefe0e3ec55601ded49e39fdf9d7d781ea0\r\n",
      "  Preparing metadata (setup.py) ... \u001B[?25ldone\r\n",
      "\u001B[?25hRequirement already satisfied: alpaca-trade-api<4,>=3 in /Users/tonyren/Workspace/AI4Finance/FinRL/.venv/lib/python3.10/site-packages (from finrl==0.3.6) (3.2.0)\r\n",
      "Requirement already satisfied: ccxt<4,>=3 in /Users/tonyren/Workspace/AI4Finance/FinRL/.venv/lib/python3.10/site-packages (from finrl==0.3.6) (3.1.60)\r\n",
      "Requirement already satisfied: exchange-calendars<5,>=4 in /Users/tonyren/Workspace/AI4Finance/FinRL/.venv/lib/python3.10/site-packages (from finrl==0.3.6) (4.6)\r\n",
      "Requirement already satisfied: jqdatasdk<2,>=1 in /Users/tonyren/Workspace/AI4Finance/FinRL/.venv/lib/python3.10/site-packages (from finrl==0.3.6) (1.9.6)\r\n",
      "Requirement already satisfied: pyfolio<0.10,>=0.9 in /Users/tonyren/Workspace/AI4Finance/FinRL/.venv/lib/python3.10/site-packages (from finrl==0.3.6) (0.9.2)\r\n",
      "Requirement already satisfied: pyportfolioopt<2,>=1 in /Users/tonyren/Workspace/AI4Finance/FinRL/.venv/lib/python3.10/site-packages (from finrl==0.3.6) (1.5.5)\r\n",
      "Requirement already satisfied: ray<3,>=2 in /Users/tonyren/Workspace/AI4Finance/FinRL/.venv/lib/python3.10/site-packages (from ray[default,tune]<3,>=2->finrl==0.3.6) (2.38.0)\r\n",
      "Requirement already satisfied: scikit-learn<2,>=1 in /Users/tonyren/Workspace/AI4Finance/FinRL/.venv/lib/python3.10/site-packages (from finrl==0.3.6) (1.5.2)\r\n",
      "Requirement already satisfied: stable-baselines3>=2.0.0a5 in /Users/tonyren/Workspace/AI4Finance/FinRL/.venv/lib/python3.10/site-packages (from stable-baselines3[extra]>=2.0.0a5->finrl==0.3.6) (2.3.2)\r\n",
      "Requirement already satisfied: stockstats<0.6,>=0.5 in /Users/tonyren/Workspace/AI4Finance/FinRL/.venv/lib/python3.10/site-packages (from finrl==0.3.6) (0.5.4)\r\n",
      "Requirement already satisfied: wrds<4,>=3 in /Users/tonyren/Workspace/AI4Finance/FinRL/.venv/lib/python3.10/site-packages (from finrl==0.3.6) (3.2.0)\r\n",
      "Requirement already satisfied: yfinance<0.3,>=0.2 in /Users/tonyren/Workspace/AI4Finance/FinRL/.venv/lib/python3.10/site-packages (from finrl==0.3.6) (0.2.49)\r\n",
      "Requirement already satisfied: pandas>=0.18.1 in /Users/tonyren/Workspace/AI4Finance/FinRL/.venv/lib/python3.10/site-packages (from alpaca-trade-api<4,>=3->finrl==0.3.6) (2.2.3)\r\n",
      "Requirement already satisfied: numpy>=1.11.1 in /Users/tonyren/Workspace/AI4Finance/FinRL/.venv/lib/python3.10/site-packages (from alpaca-trade-api<4,>=3->finrl==0.3.6) (1.26.4)\r\n",
      "Requirement already satisfied: requests<3,>2 in /Users/tonyren/Workspace/AI4Finance/FinRL/.venv/lib/python3.10/site-packages (from alpaca-trade-api<4,>=3->finrl==0.3.6) (2.32.3)\r\n",
      "Requirement already satisfied: urllib3<2,>1.24 in /Users/tonyren/Workspace/AI4Finance/FinRL/.venv/lib/python3.10/site-packages (from alpaca-trade-api<4,>=3->finrl==0.3.6) (1.26.20)\r\n",
      "Requirement already satisfied: websocket-client<2,>=0.56.0 in /Users/tonyren/Workspace/AI4Finance/FinRL/.venv/lib/python3.10/site-packages (from alpaca-trade-api<4,>=3->finrl==0.3.6) (1.8.0)\r\n",
      "Requirement already satisfied: websockets<11,>=9.0 in /Users/tonyren/Workspace/AI4Finance/FinRL/.venv/lib/python3.10/site-packages (from alpaca-trade-api<4,>=3->finrl==0.3.6) (10.4)\r\n",
      "Requirement already satisfied: msgpack==1.0.3 in /Users/tonyren/Workspace/AI4Finance/FinRL/.venv/lib/python3.10/site-packages (from alpaca-trade-api<4,>=3->finrl==0.3.6) (1.0.3)\r\n",
      "Requirement already satisfied: aiohttp<4,>=3.8.3 in /Users/tonyren/Workspace/AI4Finance/FinRL/.venv/lib/python3.10/site-packages (from alpaca-trade-api<4,>=3->finrl==0.3.6) (3.10.10)\r\n",
      "Requirement already satisfied: PyYAML==6.0.1 in /Users/tonyren/Workspace/AI4Finance/FinRL/.venv/lib/python3.10/site-packages (from alpaca-trade-api<4,>=3->finrl==0.3.6) (6.0.1)\r\n",
      "Requirement already satisfied: deprecation==2.1.0 in /Users/tonyren/Workspace/AI4Finance/FinRL/.venv/lib/python3.10/site-packages (from alpaca-trade-api<4,>=3->finrl==0.3.6) (2.1.0)\r\n",
      "Requirement already satisfied: packaging in /Users/tonyren/Workspace/AI4Finance/FinRL/.venv/lib/python3.10/site-packages (from deprecation==2.1.0->alpaca-trade-api<4,>=3->finrl==0.3.6) (23.2)\r\n",
      "Requirement already satisfied: setuptools>=60.9.0 in /Users/tonyren/Workspace/AI4Finance/FinRL/.venv/lib/python3.10/site-packages (from ccxt<4,>=3->finrl==0.3.6) (68.2.0)\r\n",
      "Requirement already satisfied: certifi>=2018.1.18 in /Users/tonyren/Workspace/AI4Finance/FinRL/.venv/lib/python3.10/site-packages (from ccxt<4,>=3->finrl==0.3.6) (2024.8.30)\r\n",
      "Requirement already satisfied: cryptography>=2.6.1 in /Users/tonyren/Workspace/AI4Finance/FinRL/.venv/lib/python3.10/site-packages (from ccxt<4,>=3->finrl==0.3.6) (43.0.3)\r\n",
      "Requirement already satisfied: aiodns>=1.1.1 in /Users/tonyren/Workspace/AI4Finance/FinRL/.venv/lib/python3.10/site-packages (from ccxt<4,>=3->finrl==0.3.6) (3.2.0)\r\n",
      "Requirement already satisfied: yarl>=1.7.2 in /Users/tonyren/Workspace/AI4Finance/FinRL/.venv/lib/python3.10/site-packages (from ccxt<4,>=3->finrl==0.3.6) (1.17.1)\r\n",
      "Requirement already satisfied: pyluach in /Users/tonyren/Workspace/AI4Finance/FinRL/.venv/lib/python3.10/site-packages (from exchange-calendars<5,>=4->finrl==0.3.6) (2.2.0)\r\n",
      "Requirement already satisfied: toolz in /Users/tonyren/Workspace/AI4Finance/FinRL/.venv/lib/python3.10/site-packages (from exchange-calendars<5,>=4->finrl==0.3.6) (1.0.0)\r\n",
      "Requirement already satisfied: tzdata in /Users/tonyren/Workspace/AI4Finance/FinRL/.venv/lib/python3.10/site-packages (from exchange-calendars<5,>=4->finrl==0.3.6) (2024.2)\r\n",
      "Requirement already satisfied: korean_lunar_calendar in /Users/tonyren/Workspace/AI4Finance/FinRL/.venv/lib/python3.10/site-packages (from exchange-calendars<5,>=4->finrl==0.3.6) (0.3.1)\r\n",
      "Requirement already satisfied: six in /Users/tonyren/Workspace/AI4Finance/FinRL/.venv/lib/python3.10/site-packages (from jqdatasdk<2,>=1->finrl==0.3.6) (1.16.0)\r\n",
      "Requirement already satisfied: SQLAlchemy>=1.2.8 in /Users/tonyren/Workspace/AI4Finance/FinRL/.venv/lib/python3.10/site-packages (from jqdatasdk<2,>=1->finrl==0.3.6) (2.0.36)\r\n",
      "Requirement already satisfied: pymysql>=0.7.6 in /Users/tonyren/Workspace/AI4Finance/FinRL/.venv/lib/python3.10/site-packages (from jqdatasdk<2,>=1->finrl==0.3.6) (1.1.1)\r\n",
      "Requirement already satisfied: thriftpy2!=0.5.1,>=0.3.9 in /Users/tonyren/Workspace/AI4Finance/FinRL/.venv/lib/python3.10/site-packages (from jqdatasdk<2,>=1->finrl==0.3.6) (0.5.2)\r\n",
      "Requirement already satisfied: ipython>=3.2.3 in /Users/tonyren/Workspace/AI4Finance/FinRL/.venv/lib/python3.10/site-packages (from pyfolio<0.10,>=0.9->finrl==0.3.6) (8.29.0)\r\n",
      "Requirement already satisfied: matplotlib>=1.4.0 in /Users/tonyren/Workspace/AI4Finance/FinRL/.venv/lib/python3.10/site-packages (from pyfolio<0.10,>=0.9->finrl==0.3.6) (3.9.2)\r\n",
      "Requirement already satisfied: pytz>=2014.10 in /Users/tonyren/Workspace/AI4Finance/FinRL/.venv/lib/python3.10/site-packages (from pyfolio<0.10,>=0.9->finrl==0.3.6) (2024.2)\r\n",
      "Requirement already satisfied: scipy>=0.14.0 in /Users/tonyren/Workspace/AI4Finance/FinRL/.venv/lib/python3.10/site-packages (from pyfolio<0.10,>=0.9->finrl==0.3.6) (1.12.0)\r\n",
      "Requirement already satisfied: seaborn>=0.7.1 in /Users/tonyren/Workspace/AI4Finance/FinRL/.venv/lib/python3.10/site-packages (from pyfolio<0.10,>=0.9->finrl==0.3.6) (0.13.2)\r\n",
      "Requirement already satisfied: empyrical>=0.5.0 in /Users/tonyren/Workspace/AI4Finance/FinRL/.venv/lib/python3.10/site-packages (from pyfolio<0.10,>=0.9->finrl==0.3.6) (0.5.5)\r\n",
      "Requirement already satisfied: cvxpy<2.0.0,>=1.1.19 in /Users/tonyren/Workspace/AI4Finance/FinRL/.venv/lib/python3.10/site-packages (from pyportfolioopt<2,>=1->finrl==0.3.6) (1.6.0)\r\n",
      "Requirement already satisfied: click>=7.0 in /Users/tonyren/Workspace/AI4Finance/FinRL/.venv/lib/python3.10/site-packages (from ray<3,>=2->ray[default,tune]<3,>=2->finrl==0.3.6) (8.1.7)\r\n",
      "Requirement already satisfied: filelock in /Users/tonyren/Workspace/AI4Finance/FinRL/.venv/lib/python3.10/site-packages (from ray<3,>=2->ray[default,tune]<3,>=2->finrl==0.3.6) (3.16.1)\r\n",
      "Requirement already satisfied: jsonschema in /Users/tonyren/Workspace/AI4Finance/FinRL/.venv/lib/python3.10/site-packages (from ray<3,>=2->ray[default,tune]<3,>=2->finrl==0.3.6) (4.23.0)\r\n",
      "Requirement already satisfied: protobuf!=3.19.5,>=3.15.3 in /Users/tonyren/Workspace/AI4Finance/FinRL/.venv/lib/python3.10/site-packages (from ray<3,>=2->ray[default,tune]<3,>=2->finrl==0.3.6) (5.28.3)\r\n",
      "Requirement already satisfied: aiosignal in /Users/tonyren/Workspace/AI4Finance/FinRL/.venv/lib/python3.10/site-packages (from ray<3,>=2->ray[default,tune]<3,>=2->finrl==0.3.6) (1.3.1)\r\n",
      "Requirement already satisfied: frozenlist in /Users/tonyren/Workspace/AI4Finance/FinRL/.venv/lib/python3.10/site-packages (from ray<3,>=2->ray[default,tune]<3,>=2->finrl==0.3.6) (1.5.0)\r\n",
      "Requirement already satisfied: tensorboardX>=1.9 in /Users/tonyren/Workspace/AI4Finance/FinRL/.venv/lib/python3.10/site-packages (from ray[default,tune]<3,>=2->finrl==0.3.6) (2.6.2.2)\r\n",
      "Requirement already satisfied: pyarrow>=6.0.1 in /Users/tonyren/Workspace/AI4Finance/FinRL/.venv/lib/python3.10/site-packages (from ray[default,tune]<3,>=2->finrl==0.3.6) (18.0.0)\r\n",
      "Requirement already satisfied: fsspec in /Users/tonyren/Workspace/AI4Finance/FinRL/.venv/lib/python3.10/site-packages (from ray[default,tune]<3,>=2->finrl==0.3.6) (2024.10.0)\r\n",
      "Requirement already satisfied: aiohttp-cors in /Users/tonyren/Workspace/AI4Finance/FinRL/.venv/lib/python3.10/site-packages (from ray[default,tune]<3,>=2->finrl==0.3.6) (0.7.0)\r\n",
      "Requirement already satisfied: colorful in /Users/tonyren/Workspace/AI4Finance/FinRL/.venv/lib/python3.10/site-packages (from ray[default,tune]<3,>=2->finrl==0.3.6) (0.5.6)\r\n",
      "Requirement already satisfied: py-spy>=0.2.0 in /Users/tonyren/Workspace/AI4Finance/FinRL/.venv/lib/python3.10/site-packages (from ray[default,tune]<3,>=2->finrl==0.3.6) (0.4.0)\r\n",
      "Requirement already satisfied: opencensus in /Users/tonyren/Workspace/AI4Finance/FinRL/.venv/lib/python3.10/site-packages (from ray[default,tune]<3,>=2->finrl==0.3.6) (0.11.4)\r\n",
      "Requirement already satisfied: pydantic!=2.0.*,!=2.1.*,!=2.2.*,!=2.3.*,!=2.4.*,<3 in /Users/tonyren/Workspace/AI4Finance/FinRL/.venv/lib/python3.10/site-packages (from ray[default,tune]<3,>=2->finrl==0.3.6) (2.9.2)\r\n",
      "Requirement already satisfied: prometheus-client>=0.7.1 in /Users/tonyren/Workspace/AI4Finance/FinRL/.venv/lib/python3.10/site-packages (from ray[default,tune]<3,>=2->finrl==0.3.6) (0.21.0)\r\n",
      "Requirement already satisfied: smart-open in /Users/tonyren/Workspace/AI4Finance/FinRL/.venv/lib/python3.10/site-packages (from ray[default,tune]<3,>=2->finrl==0.3.6) (7.0.5)\r\n",
      "Requirement already satisfied: virtualenv!=20.21.1,>=20.0.24 in /Users/tonyren/Workspace/AI4Finance/FinRL/.venv/lib/python3.10/site-packages (from ray[default,tune]<3,>=2->finrl==0.3.6) (20.27.1)\r\n",
      "Requirement already satisfied: grpcio>=1.42.0 in /Users/tonyren/Workspace/AI4Finance/FinRL/.venv/lib/python3.10/site-packages (from ray[default,tune]<3,>=2->finrl==0.3.6) (1.67.1)\r\n",
      "Requirement already satisfied: memray in /Users/tonyren/Workspace/AI4Finance/FinRL/.venv/lib/python3.10/site-packages (from ray[default,tune]<3,>=2->finrl==0.3.6) (1.14.0)\r\n",
      "Requirement already satisfied: joblib>=1.2.0 in /Users/tonyren/Workspace/AI4Finance/FinRL/.venv/lib/python3.10/site-packages (from scikit-learn<2,>=1->finrl==0.3.6) (1.4.2)\r\n",
      "Requirement already satisfied: threadpoolctl>=3.1.0 in /Users/tonyren/Workspace/AI4Finance/FinRL/.venv/lib/python3.10/site-packages (from scikit-learn<2,>=1->finrl==0.3.6) (3.5.0)\r\n",
      "Requirement already satisfied: gymnasium<0.30,>=0.28.1 in /Users/tonyren/Workspace/AI4Finance/FinRL/.venv/lib/python3.10/site-packages (from stable-baselines3>=2.0.0a5->stable-baselines3[extra]>=2.0.0a5->finrl==0.3.6) (0.29.1)\r\n",
      "Requirement already satisfied: torch>=1.13 in /Users/tonyren/Workspace/AI4Finance/FinRL/.venv/lib/python3.10/site-packages (from stable-baselines3>=2.0.0a5->stable-baselines3[extra]>=2.0.0a5->finrl==0.3.6) (2.5.1)\r\n",
      "Requirement already satisfied: cloudpickle in /Users/tonyren/Workspace/AI4Finance/FinRL/.venv/lib/python3.10/site-packages (from stable-baselines3>=2.0.0a5->stable-baselines3[extra]>=2.0.0a5->finrl==0.3.6) (3.1.0)\r\n",
      "Requirement already satisfied: opencv-python in /Users/tonyren/Workspace/AI4Finance/FinRL/.venv/lib/python3.10/site-packages (from stable-baselines3[extra]>=2.0.0a5->finrl==0.3.6) (4.10.0.84)\r\n",
      "Requirement already satisfied: pygame in /Users/tonyren/Workspace/AI4Finance/FinRL/.venv/lib/python3.10/site-packages (from stable-baselines3[extra]>=2.0.0a5->finrl==0.3.6) (2.1.0)\r\n",
      "Requirement already satisfied: tensorboard>=2.9.1 in /Users/tonyren/Workspace/AI4Finance/FinRL/.venv/lib/python3.10/site-packages (from stable-baselines3[extra]>=2.0.0a5->finrl==0.3.6) (2.18.0)\r\n",
      "Requirement already satisfied: psutil in /Users/tonyren/Workspace/AI4Finance/FinRL/.venv/lib/python3.10/site-packages (from stable-baselines3[extra]>=2.0.0a5->finrl==0.3.6) (6.1.0)\r\n",
      "Requirement already satisfied: tqdm in /Users/tonyren/Workspace/AI4Finance/FinRL/.venv/lib/python3.10/site-packages (from stable-baselines3[extra]>=2.0.0a5->finrl==0.3.6) (4.67.0)\r\n",
      "Requirement already satisfied: rich in /Users/tonyren/Workspace/AI4Finance/FinRL/.venv/lib/python3.10/site-packages (from stable-baselines3[extra]>=2.0.0a5->finrl==0.3.6) (13.9.4)\r\n",
      "Requirement already satisfied: shimmy~=1.3.0 in /Users/tonyren/Workspace/AI4Finance/FinRL/.venv/lib/python3.10/site-packages (from shimmy[atari]~=1.3.0; extra == \"extra\"->stable-baselines3[extra]>=2.0.0a5->finrl==0.3.6) (1.3.0)\r\n",
      "Requirement already satisfied: pillow in /Users/tonyren/Workspace/AI4Finance/FinRL/.venv/lib/python3.10/site-packages (from stable-baselines3[extra]>=2.0.0a5->finrl==0.3.6) (11.0.0)\r\n",
      "Requirement already satisfied: autorom~=0.6.1 in /Users/tonyren/Workspace/AI4Finance/FinRL/.venv/lib/python3.10/site-packages (from autorom[accept-rom-license]~=0.6.1; extra == \"extra\"->stable-baselines3[extra]>=2.0.0a5->finrl==0.3.6) (0.6.1)\r\n",
      "Requirement already satisfied: psycopg2-binary<2.10,>=2.9 in /Users/tonyren/Workspace/AI4Finance/FinRL/.venv/lib/python3.10/site-packages (from wrds<4,>=3->finrl==0.3.6) (2.9.10)\r\n",
      "Requirement already satisfied: multitasking>=0.0.7 in /Users/tonyren/Workspace/AI4Finance/FinRL/.venv/lib/python3.10/site-packages (from yfinance<0.3,>=0.2->finrl==0.3.6) (0.0.11)\r\n",
      "Requirement already satisfied: lxml>=4.9.1 in /Users/tonyren/Workspace/AI4Finance/FinRL/.venv/lib/python3.10/site-packages (from yfinance<0.3,>=0.2->finrl==0.3.6) (5.3.0)\r\n",
      "Requirement already satisfied: platformdirs>=2.0.0 in /Users/tonyren/Workspace/AI4Finance/FinRL/.venv/lib/python3.10/site-packages (from yfinance<0.3,>=0.2->finrl==0.3.6) (4.3.6)\r\n",
      "Requirement already satisfied: frozendict>=2.3.4 in /Users/tonyren/Workspace/AI4Finance/FinRL/.venv/lib/python3.10/site-packages (from yfinance<0.3,>=0.2->finrl==0.3.6) (2.4.6)\r\n",
      "Requirement already satisfied: peewee>=3.16.2 in /Users/tonyren/Workspace/AI4Finance/FinRL/.venv/lib/python3.10/site-packages (from yfinance<0.3,>=0.2->finrl==0.3.6) (3.17.3)\r\n",
      "Requirement already satisfied: beautifulsoup4>=4.11.1 in /Users/tonyren/Workspace/AI4Finance/FinRL/.venv/lib/python3.10/site-packages (from yfinance<0.3,>=0.2->finrl==0.3.6) (4.12.3)\r\n",
      "Requirement already satisfied: html5lib>=1.1 in /Users/tonyren/Workspace/AI4Finance/FinRL/.venv/lib/python3.10/site-packages (from yfinance<0.3,>=0.2->finrl==0.3.6) (1.1)\r\n",
      "Requirement already satisfied: th in /Users/tonyren/Workspace/AI4Finance/FinRL/.venv/lib/python3.10/site-packages (from elegantrl@ git+https://github.com/AI4Finance-Foundation/ElegantRL.git#egg=elegantrl->finrl==0.3.6) (0.4.1)\r\n",
      "Requirement already satisfied: pycares>=4.0.0 in /Users/tonyren/Workspace/AI4Finance/FinRL/.venv/lib/python3.10/site-packages (from aiodns>=1.1.1->ccxt<4,>=3->finrl==0.3.6) (4.4.0)\r\n",
      "Requirement already satisfied: aiohappyeyeballs>=2.3.0 in /Users/tonyren/Workspace/AI4Finance/FinRL/.venv/lib/python3.10/site-packages (from aiohttp<4,>=3.8.3->alpaca-trade-api<4,>=3->finrl==0.3.6) (2.4.3)\r\n",
      "Requirement already satisfied: attrs>=17.3.0 in /Users/tonyren/Workspace/AI4Finance/FinRL/.venv/lib/python3.10/site-packages (from aiohttp<4,>=3.8.3->alpaca-trade-api<4,>=3->finrl==0.3.6) (24.2.0)\r\n",
      "Requirement already satisfied: multidict<7.0,>=4.5 in /Users/tonyren/Workspace/AI4Finance/FinRL/.venv/lib/python3.10/site-packages (from aiohttp<4,>=3.8.3->alpaca-trade-api<4,>=3->finrl==0.3.6) (6.1.0)\r\n",
      "Requirement already satisfied: async-timeout<5.0,>=4.0 in /Users/tonyren/Workspace/AI4Finance/FinRL/.venv/lib/python3.10/site-packages (from aiohttp<4,>=3.8.3->alpaca-trade-api<4,>=3->finrl==0.3.6) (4.0.3)\r\n",
      "Requirement already satisfied: AutoROM.accept-rom-license in /Users/tonyren/Workspace/AI4Finance/FinRL/.venv/lib/python3.10/site-packages (from autorom[accept-rom-license]~=0.6.1; extra == \"extra\"->stable-baselines3[extra]>=2.0.0a5->finrl==0.3.6) (0.6.1)\r\n",
      "Requirement already satisfied: soupsieve>1.2 in /Users/tonyren/Workspace/AI4Finance/FinRL/.venv/lib/python3.10/site-packages (from beautifulsoup4>=4.11.1->yfinance<0.3,>=0.2->finrl==0.3.6) (2.6)\r\n",
      "Requirement already satisfied: cffi>=1.12 in /Users/tonyren/Workspace/AI4Finance/FinRL/.venv/lib/python3.10/site-packages (from cryptography>=2.6.1->ccxt<4,>=3->finrl==0.3.6) (1.17.1)\r\n",
      "Requirement already satisfied: osqp>=0.6.2 in /Users/tonyren/Workspace/AI4Finance/FinRL/.venv/lib/python3.10/site-packages (from cvxpy<2.0.0,>=1.1.19->pyportfolioopt<2,>=1->finrl==0.3.6) (0.6.7.post3)\r\n",
      "Requirement already satisfied: clarabel>=0.5.0 in /Users/tonyren/Workspace/AI4Finance/FinRL/.venv/lib/python3.10/site-packages (from cvxpy<2.0.0,>=1.1.19->pyportfolioopt<2,>=1->finrl==0.3.6) (0.9.0)\r\n",
      "Requirement already satisfied: scs>=3.2.4.post1 in /Users/tonyren/Workspace/AI4Finance/FinRL/.venv/lib/python3.10/site-packages (from cvxpy<2.0.0,>=1.1.19->pyportfolioopt<2,>=1->finrl==0.3.6) (3.2.7)\r\n",
      "Requirement already satisfied: pandas-datareader>=0.2 in /Users/tonyren/Workspace/AI4Finance/FinRL/.venv/lib/python3.10/site-packages (from empyrical>=0.5.0->pyfolio<0.10,>=0.9->finrl==0.3.6) (0.10.0)\r\n",
      "Requirement already satisfied: typing-extensions>=4.3.0 in /Users/tonyren/Workspace/AI4Finance/FinRL/.venv/lib/python3.10/site-packages (from gymnasium<0.30,>=0.28.1->stable-baselines3>=2.0.0a5->stable-baselines3[extra]>=2.0.0a5->finrl==0.3.6) (4.12.2)\r\n",
      "Requirement already satisfied: farama-notifications>=0.0.1 in /Users/tonyren/Workspace/AI4Finance/FinRL/.venv/lib/python3.10/site-packages (from gymnasium<0.30,>=0.28.1->stable-baselines3>=2.0.0a5->stable-baselines3[extra]>=2.0.0a5->finrl==0.3.6) (0.0.4)\r\n",
      "Requirement already satisfied: webencodings in /Users/tonyren/Workspace/AI4Finance/FinRL/.venv/lib/python3.10/site-packages (from html5lib>=1.1->yfinance<0.3,>=0.2->finrl==0.3.6) (0.5.1)\r\n",
      "Requirement already satisfied: decorator in /Users/tonyren/Workspace/AI4Finance/FinRL/.venv/lib/python3.10/site-packages (from ipython>=3.2.3->pyfolio<0.10,>=0.9->finrl==0.3.6) (5.1.1)\r\n",
      "Requirement already satisfied: jedi>=0.16 in /Users/tonyren/Workspace/AI4Finance/FinRL/.venv/lib/python3.10/site-packages (from ipython>=3.2.3->pyfolio<0.10,>=0.9->finrl==0.3.6) (0.19.2)\r\n",
      "Requirement already satisfied: matplotlib-inline in /Users/tonyren/Workspace/AI4Finance/FinRL/.venv/lib/python3.10/site-packages (from ipython>=3.2.3->pyfolio<0.10,>=0.9->finrl==0.3.6) (0.1.7)\r\n",
      "Requirement already satisfied: prompt-toolkit<3.1.0,>=3.0.41 in /Users/tonyren/Workspace/AI4Finance/FinRL/.venv/lib/python3.10/site-packages (from ipython>=3.2.3->pyfolio<0.10,>=0.9->finrl==0.3.6) (3.0.48)\r\n",
      "Requirement already satisfied: pygments>=2.4.0 in /Users/tonyren/Workspace/AI4Finance/FinRL/.venv/lib/python3.10/site-packages (from ipython>=3.2.3->pyfolio<0.10,>=0.9->finrl==0.3.6) (2.18.0)\r\n",
      "Requirement already satisfied: stack-data in /Users/tonyren/Workspace/AI4Finance/FinRL/.venv/lib/python3.10/site-packages (from ipython>=3.2.3->pyfolio<0.10,>=0.9->finrl==0.3.6) (0.6.3)\r\n",
      "Requirement already satisfied: traitlets>=5.13.0 in /Users/tonyren/Workspace/AI4Finance/FinRL/.venv/lib/python3.10/site-packages (from ipython>=3.2.3->pyfolio<0.10,>=0.9->finrl==0.3.6) (5.14.3)\r\n",
      "Requirement already satisfied: exceptiongroup in /Users/tonyren/Workspace/AI4Finance/FinRL/.venv/lib/python3.10/site-packages (from ipython>=3.2.3->pyfolio<0.10,>=0.9->finrl==0.3.6) (1.2.2)\r\n",
      "Requirement already satisfied: pexpect>4.3 in /Users/tonyren/Workspace/AI4Finance/FinRL/.venv/lib/python3.10/site-packages (from ipython>=3.2.3->pyfolio<0.10,>=0.9->finrl==0.3.6) (4.9.0)\r\n",
      "Requirement already satisfied: contourpy>=1.0.1 in /Users/tonyren/Workspace/AI4Finance/FinRL/.venv/lib/python3.10/site-packages (from matplotlib>=1.4.0->pyfolio<0.10,>=0.9->finrl==0.3.6) (1.3.0)\r\n",
      "Requirement already satisfied: cycler>=0.10 in /Users/tonyren/Workspace/AI4Finance/FinRL/.venv/lib/python3.10/site-packages (from matplotlib>=1.4.0->pyfolio<0.10,>=0.9->finrl==0.3.6) (0.12.1)\r\n",
      "Requirement already satisfied: fonttools>=4.22.0 in /Users/tonyren/Workspace/AI4Finance/FinRL/.venv/lib/python3.10/site-packages (from matplotlib>=1.4.0->pyfolio<0.10,>=0.9->finrl==0.3.6) (4.54.1)\r\n",
      "Requirement already satisfied: kiwisolver>=1.3.1 in /Users/tonyren/Workspace/AI4Finance/FinRL/.venv/lib/python3.10/site-packages (from matplotlib>=1.4.0->pyfolio<0.10,>=0.9->finrl==0.3.6) (1.4.7)\r\n",
      "Requirement already satisfied: pyparsing>=2.3.1 in /Users/tonyren/Workspace/AI4Finance/FinRL/.venv/lib/python3.10/site-packages (from matplotlib>=1.4.0->pyfolio<0.10,>=0.9->finrl==0.3.6) (3.2.0)\r\n",
      "Requirement already satisfied: python-dateutil>=2.7 in /Users/tonyren/Workspace/AI4Finance/FinRL/.venv/lib/python3.10/site-packages (from matplotlib>=1.4.0->pyfolio<0.10,>=0.9->finrl==0.3.6) (2.9.0.post0)\r\n",
      "Requirement already satisfied: annotated-types>=0.6.0 in /Users/tonyren/Workspace/AI4Finance/FinRL/.venv/lib/python3.10/site-packages (from pydantic!=2.0.*,!=2.1.*,!=2.2.*,!=2.3.*,!=2.4.*,<3->ray[default,tune]<3,>=2->finrl==0.3.6) (0.7.0)\r\n",
      "Requirement already satisfied: pydantic-core==2.23.4 in /Users/tonyren/Workspace/AI4Finance/FinRL/.venv/lib/python3.10/site-packages (from pydantic!=2.0.*,!=2.1.*,!=2.2.*,!=2.3.*,!=2.4.*,<3->ray[default,tune]<3,>=2->finrl==0.3.6) (2.23.4)\r\n",
      "Requirement already satisfied: charset-normalizer<4,>=2 in /Users/tonyren/Workspace/AI4Finance/FinRL/.venv/lib/python3.10/site-packages (from requests<3,>2->alpaca-trade-api<4,>=3->finrl==0.3.6) (3.4.0)\r\n",
      "Requirement already satisfied: idna<4,>=2.5 in /Users/tonyren/Workspace/AI4Finance/FinRL/.venv/lib/python3.10/site-packages (from requests<3,>2->alpaca-trade-api<4,>=3->finrl==0.3.6) (3.10)\r\n",
      "Requirement already satisfied: ale-py~=0.8.1 in /Users/tonyren/Workspace/AI4Finance/FinRL/.venv/lib/python3.10/site-packages (from shimmy[atari]~=1.3.0; extra == \"extra\"->stable-baselines3[extra]>=2.0.0a5->finrl==0.3.6) (0.8.1)\r\n",
      "Requirement already satisfied: absl-py>=0.4 in /Users/tonyren/Workspace/AI4Finance/FinRL/.venv/lib/python3.10/site-packages (from tensorboard>=2.9.1->stable-baselines3[extra]>=2.0.0a5->finrl==0.3.6) (2.1.0)\r\n",
      "Requirement already satisfied: markdown>=2.6.8 in /Users/tonyren/Workspace/AI4Finance/FinRL/.venv/lib/python3.10/site-packages (from tensorboard>=2.9.1->stable-baselines3[extra]>=2.0.0a5->finrl==0.3.6) (3.7)\r\n",
      "Requirement already satisfied: tensorboard-data-server<0.8.0,>=0.7.0 in /Users/tonyren/Workspace/AI4Finance/FinRL/.venv/lib/python3.10/site-packages (from tensorboard>=2.9.1->stable-baselines3[extra]>=2.0.0a5->finrl==0.3.6) (0.7.2)\r\n",
      "Requirement already satisfied: werkzeug>=1.0.1 in /Users/tonyren/Workspace/AI4Finance/FinRL/.venv/lib/python3.10/site-packages (from tensorboard>=2.9.1->stable-baselines3[extra]>=2.0.0a5->finrl==0.3.6) (3.1.3)\r\n",
      "Requirement already satisfied: Cython>=3.0.10 in /Users/tonyren/Workspace/AI4Finance/FinRL/.venv/lib/python3.10/site-packages (from thriftpy2!=0.5.1,>=0.3.9->jqdatasdk<2,>=1->finrl==0.3.6) (3.0.11)\r\n",
      "Requirement already satisfied: ply<4.0,>=3.4 in /Users/tonyren/Workspace/AI4Finance/FinRL/.venv/lib/python3.10/site-packages (from thriftpy2!=0.5.1,>=0.3.9->jqdatasdk<2,>=1->finrl==0.3.6) (3.11)\r\n",
      "Requirement already satisfied: networkx in /Users/tonyren/Workspace/AI4Finance/FinRL/.venv/lib/python3.10/site-packages (from torch>=1.13->stable-baselines3>=2.0.0a5->stable-baselines3[extra]>=2.0.0a5->finrl==0.3.6) (3.4.2)\r\n",
      "Requirement already satisfied: jinja2 in /Users/tonyren/Workspace/AI4Finance/FinRL/.venv/lib/python3.10/site-packages (from torch>=1.13->stable-baselines3>=2.0.0a5->stable-baselines3[extra]>=2.0.0a5->finrl==0.3.6) (3.1.4)\r\n",
      "Requirement already satisfied: sympy==1.13.1 in /Users/tonyren/Workspace/AI4Finance/FinRL/.venv/lib/python3.10/site-packages (from torch>=1.13->stable-baselines3>=2.0.0a5->stable-baselines3[extra]>=2.0.0a5->finrl==0.3.6) (1.13.1)\r\n",
      "Requirement already satisfied: mpmath<1.4,>=1.1.0 in /Users/tonyren/Workspace/AI4Finance/FinRL/.venv/lib/python3.10/site-packages (from sympy==1.13.1->torch>=1.13->stable-baselines3>=2.0.0a5->stable-baselines3[extra]>=2.0.0a5->finrl==0.3.6) (1.3.0)\r\n",
      "Requirement already satisfied: distlib<1,>=0.3.7 in /Users/tonyren/Workspace/AI4Finance/FinRL/.venv/lib/python3.10/site-packages (from virtualenv!=20.21.1,>=20.0.24->ray[default,tune]<3,>=2->finrl==0.3.6) (0.3.9)\r\n",
      "Requirement already satisfied: propcache>=0.2.0 in /Users/tonyren/Workspace/AI4Finance/FinRL/.venv/lib/python3.10/site-packages (from yarl>=1.7.2->ccxt<4,>=3->finrl==0.3.6) (0.2.0)\r\n",
      "Requirement already satisfied: jsonschema-specifications>=2023.03.6 in /Users/tonyren/Workspace/AI4Finance/FinRL/.venv/lib/python3.10/site-packages (from jsonschema->ray<3,>=2->ray[default,tune]<3,>=2->finrl==0.3.6) (2024.10.1)\r\n",
      "Requirement already satisfied: referencing>=0.28.4 in /Users/tonyren/Workspace/AI4Finance/FinRL/.venv/lib/python3.10/site-packages (from jsonschema->ray<3,>=2->ray[default,tune]<3,>=2->finrl==0.3.6) (0.35.1)\r\n",
      "Requirement already satisfied: rpds-py>=0.7.1 in /Users/tonyren/Workspace/AI4Finance/FinRL/.venv/lib/python3.10/site-packages (from jsonschema->ray<3,>=2->ray[default,tune]<3,>=2->finrl==0.3.6) (0.21.0)\r\n",
      "Requirement already satisfied: textual>=0.41.0 in /Users/tonyren/Workspace/AI4Finance/FinRL/.venv/lib/python3.10/site-packages (from memray->ray[default,tune]<3,>=2->finrl==0.3.6) (0.85.2)\r\n",
      "Requirement already satisfied: markdown-it-py>=2.2.0 in /Users/tonyren/Workspace/AI4Finance/FinRL/.venv/lib/python3.10/site-packages (from rich->stable-baselines3[extra]>=2.0.0a5->finrl==0.3.6) (3.0.0)\r\n",
      "Requirement already satisfied: opencensus-context>=0.1.3 in /Users/tonyren/Workspace/AI4Finance/FinRL/.venv/lib/python3.10/site-packages (from opencensus->ray[default,tune]<3,>=2->finrl==0.3.6) (0.1.3)\r\n",
      "Requirement already satisfied: google-api-core<3.0.0,>=1.0.0 in /Users/tonyren/Workspace/AI4Finance/FinRL/.venv/lib/python3.10/site-packages (from opencensus->ray[default,tune]<3,>=2->finrl==0.3.6) (2.23.0)\r\n",
      "Requirement already satisfied: wrapt in /Users/tonyren/Workspace/AI4Finance/FinRL/.venv/lib/python3.10/site-packages (from smart-open->ray[default,tune]<3,>=2->finrl==0.3.6) (1.16.0)\r\n",
      "Requirement already satisfied: niltype<2.0,>=0.3 in /Users/tonyren/Workspace/AI4Finance/FinRL/.venv/lib/python3.10/site-packages (from th->elegantrl@ git+https://github.com/AI4Finance-Foundation/ElegantRL.git#egg=elegantrl->finrl==0.3.6) (1.0.2)\r\n",
      "Requirement already satisfied: importlib-resources in /Users/tonyren/Workspace/AI4Finance/FinRL/.venv/lib/python3.10/site-packages (from ale-py~=0.8.1->shimmy[atari]~=1.3.0; extra == \"extra\"->stable-baselines3[extra]>=2.0.0a5->finrl==0.3.6) (6.4.5)\r\n",
      "Requirement already satisfied: pycparser in /Users/tonyren/Workspace/AI4Finance/FinRL/.venv/lib/python3.10/site-packages (from cffi>=1.12->cryptography>=2.6.1->ccxt<4,>=3->finrl==0.3.6) (2.22)\r\n",
      "Requirement already satisfied: googleapis-common-protos<2.0.dev0,>=1.56.2 in /Users/tonyren/Workspace/AI4Finance/FinRL/.venv/lib/python3.10/site-packages (from google-api-core<3.0.0,>=1.0.0->opencensus->ray[default,tune]<3,>=2->finrl==0.3.6) (1.65.0)\r\n",
      "Requirement already satisfied: proto-plus<2.0.0dev,>=1.22.3 in /Users/tonyren/Workspace/AI4Finance/FinRL/.venv/lib/python3.10/site-packages (from google-api-core<3.0.0,>=1.0.0->opencensus->ray[default,tune]<3,>=2->finrl==0.3.6) (1.25.0)\r\n",
      "Requirement already satisfied: google-auth<3.0.dev0,>=2.14.1 in /Users/tonyren/Workspace/AI4Finance/FinRL/.venv/lib/python3.10/site-packages (from google-api-core<3.0.0,>=1.0.0->opencensus->ray[default,tune]<3,>=2->finrl==0.3.6) (2.36.0)\r\n",
      "Requirement already satisfied: parso<0.9.0,>=0.8.4 in /Users/tonyren/Workspace/AI4Finance/FinRL/.venv/lib/python3.10/site-packages (from jedi>=0.16->ipython>=3.2.3->pyfolio<0.10,>=0.9->finrl==0.3.6) (0.8.4)\r\n",
      "Requirement already satisfied: MarkupSafe>=2.0 in /Users/tonyren/Workspace/AI4Finance/FinRL/.venv/lib/python3.10/site-packages (from jinja2->torch>=1.13->stable-baselines3>=2.0.0a5->stable-baselines3[extra]>=2.0.0a5->finrl==0.3.6) (3.0.2)\r\n",
      "Requirement already satisfied: mdurl~=0.1 in /Users/tonyren/Workspace/AI4Finance/FinRL/.venv/lib/python3.10/site-packages (from markdown-it-py>=2.2.0->rich->stable-baselines3[extra]>=2.0.0a5->finrl==0.3.6) (0.1.2)\r\n",
      "Requirement already satisfied: qdldl in /Users/tonyren/Workspace/AI4Finance/FinRL/.venv/lib/python3.10/site-packages (from osqp>=0.6.2->cvxpy<2.0.0,>=1.1.19->pyportfolioopt<2,>=1->finrl==0.3.6) (0.1.7.post4)\r\n",
      "Requirement already satisfied: ptyprocess>=0.5 in /Users/tonyren/Workspace/AI4Finance/FinRL/.venv/lib/python3.10/site-packages (from pexpect>4.3->ipython>=3.2.3->pyfolio<0.10,>=0.9->finrl==0.3.6) (0.7.0)\r\n",
      "Requirement already satisfied: wcwidth in /Users/tonyren/Workspace/AI4Finance/FinRL/.venv/lib/python3.10/site-packages (from prompt-toolkit<3.1.0,>=3.0.41->ipython>=3.2.3->pyfolio<0.10,>=0.9->finrl==0.3.6) (0.2.13)\r\n",
      "Requirement already satisfied: executing>=1.2.0 in /Users/tonyren/Workspace/AI4Finance/FinRL/.venv/lib/python3.10/site-packages (from stack-data->ipython>=3.2.3->pyfolio<0.10,>=0.9->finrl==0.3.6) (2.1.0)\r\n",
      "Requirement already satisfied: asttokens>=2.1.0 in /Users/tonyren/Workspace/AI4Finance/FinRL/.venv/lib/python3.10/site-packages (from stack-data->ipython>=3.2.3->pyfolio<0.10,>=0.9->finrl==0.3.6) (2.4.1)\r\n",
      "Requirement already satisfied: pure-eval in /Users/tonyren/Workspace/AI4Finance/FinRL/.venv/lib/python3.10/site-packages (from stack-data->ipython>=3.2.3->pyfolio<0.10,>=0.9->finrl==0.3.6) (0.2.3)\r\n",
      "Requirement already satisfied: cachetools<6.0,>=2.0.0 in /Users/tonyren/Workspace/AI4Finance/FinRL/.venv/lib/python3.10/site-packages (from google-auth<3.0.dev0,>=2.14.1->google-api-core<3.0.0,>=1.0.0->opencensus->ray[default,tune]<3,>=2->finrl==0.3.6) (5.5.0)\r\n",
      "Requirement already satisfied: pyasn1-modules>=0.2.1 in /Users/tonyren/Workspace/AI4Finance/FinRL/.venv/lib/python3.10/site-packages (from google-auth<3.0.dev0,>=2.14.1->google-api-core<3.0.0,>=1.0.0->opencensus->ray[default,tune]<3,>=2->finrl==0.3.6) (0.4.1)\r\n",
      "Requirement already satisfied: rsa<5,>=3.1.4 in /Users/tonyren/Workspace/AI4Finance/FinRL/.venv/lib/python3.10/site-packages (from google-auth<3.0.dev0,>=2.14.1->google-api-core<3.0.0,>=1.0.0->opencensus->ray[default,tune]<3,>=2->finrl==0.3.6) (4.9)\r\n",
      "Requirement already satisfied: linkify-it-py<3,>=1 in /Users/tonyren/Workspace/AI4Finance/FinRL/.venv/lib/python3.10/site-packages (from markdown-it-py[linkify,plugins]>=2.1.0->textual>=0.41.0->memray->ray[default,tune]<3,>=2->finrl==0.3.6) (2.0.3)\r\n",
      "Requirement already satisfied: mdit-py-plugins in /Users/tonyren/Workspace/AI4Finance/FinRL/.venv/lib/python3.10/site-packages (from markdown-it-py[linkify,plugins]>=2.1.0->textual>=0.41.0->memray->ray[default,tune]<3,>=2->finrl==0.3.6) (0.4.2)\r\n",
      "Requirement already satisfied: uc-micro-py in /Users/tonyren/Workspace/AI4Finance/FinRL/.venv/lib/python3.10/site-packages (from linkify-it-py<3,>=1->markdown-it-py[linkify,plugins]>=2.1.0->textual>=0.41.0->memray->ray[default,tune]<3,>=2->finrl==0.3.6) (1.0.3)\r\n",
      "Requirement already satisfied: pyasn1<0.7.0,>=0.4.6 in /Users/tonyren/Workspace/AI4Finance/FinRL/.venv/lib/python3.10/site-packages (from pyasn1-modules>=0.2.1->google-auth<3.0.dev0,>=2.14.1->google-api-core<3.0.0,>=1.0.0->opencensus->ray[default,tune]<3,>=2->finrl==0.3.6) (0.6.1)\r\n",
      "Building wheels for collected packages: finrl\r\n",
      "  Building editable for finrl (pyproject.toml) ... \u001B[?25ldone\r\n",
      "\u001B[?25h  Created wheel for finrl: filename=finrl-0.3.6-py3-none-any.whl size=9103 sha256=ebb9a360ce7d0d9ebf487c32c03f6b271218e70155a142c8c4b5ad74786d858b\r\n",
      "  Stored in directory: /private/var/folders/fk/ghrbpzjd2ljb898y6fvw8sgc0000gn/T/pip-ephem-wheel-cache-lzayl0ju/wheels/44/e1/3d/fdcf61a6a98fb1ba10ecedc8728a1ae900edde6c6a3397e02c\r\n",
      "Successfully built finrl\r\n",
      "Installing collected packages: finrl\r\n",
      "  Attempting uninstall: finrl\r\n",
      "    Found existing installation: finrl 0.3.6\r\n",
      "    Uninstalling finrl-0.3.6:\r\n",
      "      Successfully uninstalled finrl-0.3.6\r\n",
      "Successfully installed finrl-0.3.6\r\n"
     ]
    }
   ],
   "execution_count": 23
  },
  {
   "cell_type": "markdown",
   "metadata": {
    "id": "osBHhVysOEzi"
   },
   "source": ""
  },
  {
   "cell_type": "code",
   "metadata": {
    "ExecuteTime": {
     "end_time": "2024-11-27T04:01:27.715938Z",
     "start_time": "2024-11-27T04:01:23.339905Z"
    }
   },
   "source": [
    "!pip install -e ~/Workspace/AI4Finance/FinRL"
   ],
   "outputs": [
    {
     "name": "stdout",
     "output_type": "stream",
     "text": [
      "Obtaining file:///Users/tonyren/Workspace/AI4Finance/FinRL\r\n",
      "  Installing build dependencies ... \u001B[?25ldone\r\n",
      "\u001B[?25h  Checking if build backend supports build_editable ... \u001B[?25ldone\r\n",
      "\u001B[?25h  Getting requirements to build editable ... \u001B[?25ldone\r\n",
      "\u001B[?25h  Preparing editable metadata (pyproject.toml) ... \u001B[?25ldone\r\n",
      "\u001B[?25hCollecting elegantrl@ git+https://github.com/AI4Finance-Foundation/ElegantRL.git#egg=elegantrl (from finrl==0.3.6)\r\n",
      "  Cloning https://github.com/AI4Finance-Foundation/ElegantRL.git to /private/var/folders/fk/ghrbpzjd2ljb898y6fvw8sgc0000gn/T/pip-install-3ac1umcl/elegantrl_78dadc25bb2e4e1cb375443ae88a60fe\r\n",
      "  Running command git clone --filter=blob:none --quiet https://github.com/AI4Finance-Foundation/ElegantRL.git /private/var/folders/fk/ghrbpzjd2ljb898y6fvw8sgc0000gn/T/pip-install-3ac1umcl/elegantrl_78dadc25bb2e4e1cb375443ae88a60fe\r\n",
      "  Resolved https://github.com/AI4Finance-Foundation/ElegantRL.git to commit c2939fefe0e3ec55601ded49e39fdf9d7d781ea0\r\n",
      "  Preparing metadata (setup.py) ... \u001B[?25ldone\r\n",
      "\u001B[?25hRequirement already satisfied: alpaca-trade-api<4,>=3 in /Users/tonyren/Workspace/AI4Finance/FinRL/.venv/lib/python3.10/site-packages (from finrl==0.3.6) (3.2.0)\r\n",
      "Requirement already satisfied: ccxt<4,>=3 in /Users/tonyren/Workspace/AI4Finance/FinRL/.venv/lib/python3.10/site-packages (from finrl==0.3.6) (3.1.60)\r\n",
      "Requirement already satisfied: exchange-calendars<5,>=4 in /Users/tonyren/Workspace/AI4Finance/FinRL/.venv/lib/python3.10/site-packages (from finrl==0.3.6) (4.6)\r\n",
      "Requirement already satisfied: jqdatasdk<2,>=1 in /Users/tonyren/Workspace/AI4Finance/FinRL/.venv/lib/python3.10/site-packages (from finrl==0.3.6) (1.9.6)\r\n",
      "Requirement already satisfied: pyfolio<0.10,>=0.9 in /Users/tonyren/Workspace/AI4Finance/FinRL/.venv/lib/python3.10/site-packages (from finrl==0.3.6) (0.9.2)\r\n",
      "Requirement already satisfied: pyportfolioopt<2,>=1 in /Users/tonyren/Workspace/AI4Finance/FinRL/.venv/lib/python3.10/site-packages (from finrl==0.3.6) (1.5.5)\r\n",
      "Requirement already satisfied: ray<3,>=2 in /Users/tonyren/Workspace/AI4Finance/FinRL/.venv/lib/python3.10/site-packages (from ray[default,tune]<3,>=2->finrl==0.3.6) (2.38.0)\r\n",
      "Requirement already satisfied: scikit-learn<2,>=1 in /Users/tonyren/Workspace/AI4Finance/FinRL/.venv/lib/python3.10/site-packages (from finrl==0.3.6) (1.5.2)\r\n",
      "Requirement already satisfied: stable-baselines3>=2.0.0a5 in /Users/tonyren/Workspace/AI4Finance/FinRL/.venv/lib/python3.10/site-packages (from stable-baselines3[extra]>=2.0.0a5->finrl==0.3.6) (2.3.2)\r\n",
      "Requirement already satisfied: stockstats<0.6,>=0.5 in /Users/tonyren/Workspace/AI4Finance/FinRL/.venv/lib/python3.10/site-packages (from finrl==0.3.6) (0.5.4)\r\n",
      "Requirement already satisfied: wrds<4,>=3 in /Users/tonyren/Workspace/AI4Finance/FinRL/.venv/lib/python3.10/site-packages (from finrl==0.3.6) (3.2.0)\r\n",
      "Requirement already satisfied: yfinance<0.3,>=0.2 in /Users/tonyren/Workspace/AI4Finance/FinRL/.venv/lib/python3.10/site-packages (from finrl==0.3.6) (0.2.49)\r\n",
      "Requirement already satisfied: pandas>=0.18.1 in /Users/tonyren/Workspace/AI4Finance/FinRL/.venv/lib/python3.10/site-packages (from alpaca-trade-api<4,>=3->finrl==0.3.6) (2.2.3)\r\n",
      "Requirement already satisfied: numpy>=1.11.1 in /Users/tonyren/Workspace/AI4Finance/FinRL/.venv/lib/python3.10/site-packages (from alpaca-trade-api<4,>=3->finrl==0.3.6) (1.26.4)\r\n",
      "Requirement already satisfied: requests<3,>2 in /Users/tonyren/Workspace/AI4Finance/FinRL/.venv/lib/python3.10/site-packages (from alpaca-trade-api<4,>=3->finrl==0.3.6) (2.32.3)\r\n",
      "Requirement already satisfied: urllib3<2,>1.24 in /Users/tonyren/Workspace/AI4Finance/FinRL/.venv/lib/python3.10/site-packages (from alpaca-trade-api<4,>=3->finrl==0.3.6) (1.26.20)\r\n",
      "Requirement already satisfied: websocket-client<2,>=0.56.0 in /Users/tonyren/Workspace/AI4Finance/FinRL/.venv/lib/python3.10/site-packages (from alpaca-trade-api<4,>=3->finrl==0.3.6) (1.8.0)\r\n",
      "Requirement already satisfied: websockets<11,>=9.0 in /Users/tonyren/Workspace/AI4Finance/FinRL/.venv/lib/python3.10/site-packages (from alpaca-trade-api<4,>=3->finrl==0.3.6) (10.4)\r\n",
      "Requirement already satisfied: msgpack==1.0.3 in /Users/tonyren/Workspace/AI4Finance/FinRL/.venv/lib/python3.10/site-packages (from alpaca-trade-api<4,>=3->finrl==0.3.6) (1.0.3)\r\n",
      "Requirement already satisfied: aiohttp<4,>=3.8.3 in /Users/tonyren/Workspace/AI4Finance/FinRL/.venv/lib/python3.10/site-packages (from alpaca-trade-api<4,>=3->finrl==0.3.6) (3.10.10)\r\n",
      "Requirement already satisfied: PyYAML==6.0.1 in /Users/tonyren/Workspace/AI4Finance/FinRL/.venv/lib/python3.10/site-packages (from alpaca-trade-api<4,>=3->finrl==0.3.6) (6.0.1)\r\n",
      "Requirement already satisfied: deprecation==2.1.0 in /Users/tonyren/Workspace/AI4Finance/FinRL/.venv/lib/python3.10/site-packages (from alpaca-trade-api<4,>=3->finrl==0.3.6) (2.1.0)\r\n",
      "Requirement already satisfied: packaging in /Users/tonyren/Workspace/AI4Finance/FinRL/.venv/lib/python3.10/site-packages (from deprecation==2.1.0->alpaca-trade-api<4,>=3->finrl==0.3.6) (23.2)\r\n",
      "Requirement already satisfied: setuptools>=60.9.0 in /Users/tonyren/Workspace/AI4Finance/FinRL/.venv/lib/python3.10/site-packages (from ccxt<4,>=3->finrl==0.3.6) (68.2.0)\r\n",
      "Requirement already satisfied: certifi>=2018.1.18 in /Users/tonyren/Workspace/AI4Finance/FinRL/.venv/lib/python3.10/site-packages (from ccxt<4,>=3->finrl==0.3.6) (2024.8.30)\r\n",
      "Requirement already satisfied: cryptography>=2.6.1 in /Users/tonyren/Workspace/AI4Finance/FinRL/.venv/lib/python3.10/site-packages (from ccxt<4,>=3->finrl==0.3.6) (43.0.3)\r\n",
      "Requirement already satisfied: aiodns>=1.1.1 in /Users/tonyren/Workspace/AI4Finance/FinRL/.venv/lib/python3.10/site-packages (from ccxt<4,>=3->finrl==0.3.6) (3.2.0)\r\n",
      "Requirement already satisfied: yarl>=1.7.2 in /Users/tonyren/Workspace/AI4Finance/FinRL/.venv/lib/python3.10/site-packages (from ccxt<4,>=3->finrl==0.3.6) (1.17.1)\r\n",
      "Requirement already satisfied: pyluach in /Users/tonyren/Workspace/AI4Finance/FinRL/.venv/lib/python3.10/site-packages (from exchange-calendars<5,>=4->finrl==0.3.6) (2.2.0)\r\n",
      "Requirement already satisfied: toolz in /Users/tonyren/Workspace/AI4Finance/FinRL/.venv/lib/python3.10/site-packages (from exchange-calendars<5,>=4->finrl==0.3.6) (1.0.0)\r\n",
      "Requirement already satisfied: tzdata in /Users/tonyren/Workspace/AI4Finance/FinRL/.venv/lib/python3.10/site-packages (from exchange-calendars<5,>=4->finrl==0.3.6) (2024.2)\r\n",
      "Requirement already satisfied: korean_lunar_calendar in /Users/tonyren/Workspace/AI4Finance/FinRL/.venv/lib/python3.10/site-packages (from exchange-calendars<5,>=4->finrl==0.3.6) (0.3.1)\r\n",
      "Requirement already satisfied: six in /Users/tonyren/Workspace/AI4Finance/FinRL/.venv/lib/python3.10/site-packages (from jqdatasdk<2,>=1->finrl==0.3.6) (1.16.0)\r\n",
      "Requirement already satisfied: SQLAlchemy>=1.2.8 in /Users/tonyren/Workspace/AI4Finance/FinRL/.venv/lib/python3.10/site-packages (from jqdatasdk<2,>=1->finrl==0.3.6) (2.0.36)\r\n",
      "Requirement already satisfied: pymysql>=0.7.6 in /Users/tonyren/Workspace/AI4Finance/FinRL/.venv/lib/python3.10/site-packages (from jqdatasdk<2,>=1->finrl==0.3.6) (1.1.1)\r\n",
      "Requirement already satisfied: thriftpy2!=0.5.1,>=0.3.9 in /Users/tonyren/Workspace/AI4Finance/FinRL/.venv/lib/python3.10/site-packages (from jqdatasdk<2,>=1->finrl==0.3.6) (0.5.2)\r\n",
      "Requirement already satisfied: ipython>=3.2.3 in /Users/tonyren/Workspace/AI4Finance/FinRL/.venv/lib/python3.10/site-packages (from pyfolio<0.10,>=0.9->finrl==0.3.6) (8.29.0)\r\n",
      "Requirement already satisfied: matplotlib>=1.4.0 in /Users/tonyren/Workspace/AI4Finance/FinRL/.venv/lib/python3.10/site-packages (from pyfolio<0.10,>=0.9->finrl==0.3.6) (3.9.2)\r\n",
      "Requirement already satisfied: pytz>=2014.10 in /Users/tonyren/Workspace/AI4Finance/FinRL/.venv/lib/python3.10/site-packages (from pyfolio<0.10,>=0.9->finrl==0.3.6) (2024.2)\r\n",
      "Requirement already satisfied: scipy>=0.14.0 in /Users/tonyren/Workspace/AI4Finance/FinRL/.venv/lib/python3.10/site-packages (from pyfolio<0.10,>=0.9->finrl==0.3.6) (1.12.0)\r\n",
      "Requirement already satisfied: seaborn>=0.7.1 in /Users/tonyren/Workspace/AI4Finance/FinRL/.venv/lib/python3.10/site-packages (from pyfolio<0.10,>=0.9->finrl==0.3.6) (0.13.2)\r\n",
      "Requirement already satisfied: empyrical>=0.5.0 in /Users/tonyren/Workspace/AI4Finance/FinRL/.venv/lib/python3.10/site-packages (from pyfolio<0.10,>=0.9->finrl==0.3.6) (0.5.5)\r\n",
      "Requirement already satisfied: cvxpy<2.0.0,>=1.1.19 in /Users/tonyren/Workspace/AI4Finance/FinRL/.venv/lib/python3.10/site-packages (from pyportfolioopt<2,>=1->finrl==0.3.6) (1.6.0)\r\n",
      "Requirement already satisfied: click>=7.0 in /Users/tonyren/Workspace/AI4Finance/FinRL/.venv/lib/python3.10/site-packages (from ray<3,>=2->ray[default,tune]<3,>=2->finrl==0.3.6) (8.1.7)\r\n",
      "Requirement already satisfied: filelock in /Users/tonyren/Workspace/AI4Finance/FinRL/.venv/lib/python3.10/site-packages (from ray<3,>=2->ray[default,tune]<3,>=2->finrl==0.3.6) (3.16.1)\r\n",
      "Requirement already satisfied: jsonschema in /Users/tonyren/Workspace/AI4Finance/FinRL/.venv/lib/python3.10/site-packages (from ray<3,>=2->ray[default,tune]<3,>=2->finrl==0.3.6) (4.23.0)\r\n",
      "Requirement already satisfied: protobuf!=3.19.5,>=3.15.3 in /Users/tonyren/Workspace/AI4Finance/FinRL/.venv/lib/python3.10/site-packages (from ray<3,>=2->ray[default,tune]<3,>=2->finrl==0.3.6) (5.28.3)\r\n",
      "Requirement already satisfied: aiosignal in /Users/tonyren/Workspace/AI4Finance/FinRL/.venv/lib/python3.10/site-packages (from ray<3,>=2->ray[default,tune]<3,>=2->finrl==0.3.6) (1.3.1)\r\n",
      "Requirement already satisfied: frozenlist in /Users/tonyren/Workspace/AI4Finance/FinRL/.venv/lib/python3.10/site-packages (from ray<3,>=2->ray[default,tune]<3,>=2->finrl==0.3.6) (1.5.0)\r\n",
      "Requirement already satisfied: aiohttp-cors in /Users/tonyren/Workspace/AI4Finance/FinRL/.venv/lib/python3.10/site-packages (from ray[default,tune]<3,>=2->finrl==0.3.6) (0.7.0)\r\n",
      "Requirement already satisfied: colorful in /Users/tonyren/Workspace/AI4Finance/FinRL/.venv/lib/python3.10/site-packages (from ray[default,tune]<3,>=2->finrl==0.3.6) (0.5.6)\r\n",
      "Requirement already satisfied: py-spy>=0.2.0 in /Users/tonyren/Workspace/AI4Finance/FinRL/.venv/lib/python3.10/site-packages (from ray[default,tune]<3,>=2->finrl==0.3.6) (0.4.0)\r\n",
      "Requirement already satisfied: opencensus in /Users/tonyren/Workspace/AI4Finance/FinRL/.venv/lib/python3.10/site-packages (from ray[default,tune]<3,>=2->finrl==0.3.6) (0.11.4)\r\n",
      "Requirement already satisfied: pydantic!=2.0.*,!=2.1.*,!=2.2.*,!=2.3.*,!=2.4.*,<3 in /Users/tonyren/Workspace/AI4Finance/FinRL/.venv/lib/python3.10/site-packages (from ray[default,tune]<3,>=2->finrl==0.3.6) (2.9.2)\r\n",
      "Requirement already satisfied: prometheus-client>=0.7.1 in /Users/tonyren/Workspace/AI4Finance/FinRL/.venv/lib/python3.10/site-packages (from ray[default,tune]<3,>=2->finrl==0.3.6) (0.21.0)\r\n",
      "Requirement already satisfied: smart-open in /Users/tonyren/Workspace/AI4Finance/FinRL/.venv/lib/python3.10/site-packages (from ray[default,tune]<3,>=2->finrl==0.3.6) (7.0.5)\r\n",
      "Requirement already satisfied: virtualenv!=20.21.1,>=20.0.24 in /Users/tonyren/Workspace/AI4Finance/FinRL/.venv/lib/python3.10/site-packages (from ray[default,tune]<3,>=2->finrl==0.3.6) (20.27.1)\r\n",
      "Requirement already satisfied: grpcio>=1.42.0 in /Users/tonyren/Workspace/AI4Finance/FinRL/.venv/lib/python3.10/site-packages (from ray[default,tune]<3,>=2->finrl==0.3.6) (1.67.1)\r\n",
      "Requirement already satisfied: memray in /Users/tonyren/Workspace/AI4Finance/FinRL/.venv/lib/python3.10/site-packages (from ray[default,tune]<3,>=2->finrl==0.3.6) (1.14.0)\r\n",
      "Requirement already satisfied: tensorboardX>=1.9 in /Users/tonyren/Workspace/AI4Finance/FinRL/.venv/lib/python3.10/site-packages (from ray[default,tune]<3,>=2->finrl==0.3.6) (2.6.2.2)\r\n",
      "Requirement already satisfied: pyarrow>=6.0.1 in /Users/tonyren/Workspace/AI4Finance/FinRL/.venv/lib/python3.10/site-packages (from ray[default,tune]<3,>=2->finrl==0.3.6) (18.0.0)\r\n",
      "Requirement already satisfied: fsspec in /Users/tonyren/Workspace/AI4Finance/FinRL/.venv/lib/python3.10/site-packages (from ray[default,tune]<3,>=2->finrl==0.3.6) (2024.10.0)\r\n",
      "Requirement already satisfied: joblib>=1.2.0 in /Users/tonyren/Workspace/AI4Finance/FinRL/.venv/lib/python3.10/site-packages (from scikit-learn<2,>=1->finrl==0.3.6) (1.4.2)\r\n",
      "Requirement already satisfied: threadpoolctl>=3.1.0 in /Users/tonyren/Workspace/AI4Finance/FinRL/.venv/lib/python3.10/site-packages (from scikit-learn<2,>=1->finrl==0.3.6) (3.5.0)\r\n",
      "Requirement already satisfied: gymnasium<0.30,>=0.28.1 in /Users/tonyren/Workspace/AI4Finance/FinRL/.venv/lib/python3.10/site-packages (from stable-baselines3>=2.0.0a5->stable-baselines3[extra]>=2.0.0a5->finrl==0.3.6) (0.29.1)\r\n",
      "Requirement already satisfied: torch>=1.13 in /Users/tonyren/Workspace/AI4Finance/FinRL/.venv/lib/python3.10/site-packages (from stable-baselines3>=2.0.0a5->stable-baselines3[extra]>=2.0.0a5->finrl==0.3.6) (2.5.1)\r\n",
      "Requirement already satisfied: cloudpickle in /Users/tonyren/Workspace/AI4Finance/FinRL/.venv/lib/python3.10/site-packages (from stable-baselines3>=2.0.0a5->stable-baselines3[extra]>=2.0.0a5->finrl==0.3.6) (3.1.0)\r\n",
      "Requirement already satisfied: opencv-python in /Users/tonyren/Workspace/AI4Finance/FinRL/.venv/lib/python3.10/site-packages (from stable-baselines3[extra]>=2.0.0a5->finrl==0.3.6) (4.10.0.84)\r\n",
      "Requirement already satisfied: pygame in /Users/tonyren/Workspace/AI4Finance/FinRL/.venv/lib/python3.10/site-packages (from stable-baselines3[extra]>=2.0.0a5->finrl==0.3.6) (2.1.0)\r\n",
      "Requirement already satisfied: tensorboard>=2.9.1 in /Users/tonyren/Workspace/AI4Finance/FinRL/.venv/lib/python3.10/site-packages (from stable-baselines3[extra]>=2.0.0a5->finrl==0.3.6) (2.18.0)\r\n",
      "Requirement already satisfied: psutil in /Users/tonyren/Workspace/AI4Finance/FinRL/.venv/lib/python3.10/site-packages (from stable-baselines3[extra]>=2.0.0a5->finrl==0.3.6) (6.1.0)\r\n",
      "Requirement already satisfied: tqdm in /Users/tonyren/Workspace/AI4Finance/FinRL/.venv/lib/python3.10/site-packages (from stable-baselines3[extra]>=2.0.0a5->finrl==0.3.6) (4.67.0)\r\n",
      "Requirement already satisfied: rich in /Users/tonyren/Workspace/AI4Finance/FinRL/.venv/lib/python3.10/site-packages (from stable-baselines3[extra]>=2.0.0a5->finrl==0.3.6) (13.9.4)\r\n",
      "Requirement already satisfied: shimmy~=1.3.0 in /Users/tonyren/Workspace/AI4Finance/FinRL/.venv/lib/python3.10/site-packages (from shimmy[atari]~=1.3.0; extra == \"extra\"->stable-baselines3[extra]>=2.0.0a5->finrl==0.3.6) (1.3.0)\r\n",
      "Requirement already satisfied: pillow in /Users/tonyren/Workspace/AI4Finance/FinRL/.venv/lib/python3.10/site-packages (from stable-baselines3[extra]>=2.0.0a5->finrl==0.3.6) (11.0.0)\r\n",
      "Requirement already satisfied: autorom~=0.6.1 in /Users/tonyren/Workspace/AI4Finance/FinRL/.venv/lib/python3.10/site-packages (from autorom[accept-rom-license]~=0.6.1; extra == \"extra\"->stable-baselines3[extra]>=2.0.0a5->finrl==0.3.6) (0.6.1)\r\n",
      "Requirement already satisfied: psycopg2-binary<2.10,>=2.9 in /Users/tonyren/Workspace/AI4Finance/FinRL/.venv/lib/python3.10/site-packages (from wrds<4,>=3->finrl==0.3.6) (2.9.10)\r\n",
      "Requirement already satisfied: multitasking>=0.0.7 in /Users/tonyren/Workspace/AI4Finance/FinRL/.venv/lib/python3.10/site-packages (from yfinance<0.3,>=0.2->finrl==0.3.6) (0.0.11)\r\n",
      "Requirement already satisfied: lxml>=4.9.1 in /Users/tonyren/Workspace/AI4Finance/FinRL/.venv/lib/python3.10/site-packages (from yfinance<0.3,>=0.2->finrl==0.3.6) (5.3.0)\r\n",
      "Requirement already satisfied: platformdirs>=2.0.0 in /Users/tonyren/Workspace/AI4Finance/FinRL/.venv/lib/python3.10/site-packages (from yfinance<0.3,>=0.2->finrl==0.3.6) (4.3.6)\r\n",
      "Requirement already satisfied: frozendict>=2.3.4 in /Users/tonyren/Workspace/AI4Finance/FinRL/.venv/lib/python3.10/site-packages (from yfinance<0.3,>=0.2->finrl==0.3.6) (2.4.6)\r\n",
      "Requirement already satisfied: peewee>=3.16.2 in /Users/tonyren/Workspace/AI4Finance/FinRL/.venv/lib/python3.10/site-packages (from yfinance<0.3,>=0.2->finrl==0.3.6) (3.17.3)\r\n",
      "Requirement already satisfied: beautifulsoup4>=4.11.1 in /Users/tonyren/Workspace/AI4Finance/FinRL/.venv/lib/python3.10/site-packages (from yfinance<0.3,>=0.2->finrl==0.3.6) (4.12.3)\r\n",
      "Requirement already satisfied: html5lib>=1.1 in /Users/tonyren/Workspace/AI4Finance/FinRL/.venv/lib/python3.10/site-packages (from yfinance<0.3,>=0.2->finrl==0.3.6) (1.1)\r\n",
      "Requirement already satisfied: th in /Users/tonyren/Workspace/AI4Finance/FinRL/.venv/lib/python3.10/site-packages (from elegantrl@ git+https://github.com/AI4Finance-Foundation/ElegantRL.git#egg=elegantrl->finrl==0.3.6) (0.4.1)\r\n",
      "Requirement already satisfied: pycares>=4.0.0 in /Users/tonyren/Workspace/AI4Finance/FinRL/.venv/lib/python3.10/site-packages (from aiodns>=1.1.1->ccxt<4,>=3->finrl==0.3.6) (4.4.0)\r\n",
      "Requirement already satisfied: aiohappyeyeballs>=2.3.0 in /Users/tonyren/Workspace/AI4Finance/FinRL/.venv/lib/python3.10/site-packages (from aiohttp<4,>=3.8.3->alpaca-trade-api<4,>=3->finrl==0.3.6) (2.4.3)\r\n",
      "Requirement already satisfied: attrs>=17.3.0 in /Users/tonyren/Workspace/AI4Finance/FinRL/.venv/lib/python3.10/site-packages (from aiohttp<4,>=3.8.3->alpaca-trade-api<4,>=3->finrl==0.3.6) (24.2.0)\r\n",
      "Requirement already satisfied: multidict<7.0,>=4.5 in /Users/tonyren/Workspace/AI4Finance/FinRL/.venv/lib/python3.10/site-packages (from aiohttp<4,>=3.8.3->alpaca-trade-api<4,>=3->finrl==0.3.6) (6.1.0)\r\n",
      "Requirement already satisfied: async-timeout<5.0,>=4.0 in /Users/tonyren/Workspace/AI4Finance/FinRL/.venv/lib/python3.10/site-packages (from aiohttp<4,>=3.8.3->alpaca-trade-api<4,>=3->finrl==0.3.6) (4.0.3)\r\n",
      "Requirement already satisfied: AutoROM.accept-rom-license in /Users/tonyren/Workspace/AI4Finance/FinRL/.venv/lib/python3.10/site-packages (from autorom[accept-rom-license]~=0.6.1; extra == \"extra\"->stable-baselines3[extra]>=2.0.0a5->finrl==0.3.6) (0.6.1)\r\n",
      "Requirement already satisfied: soupsieve>1.2 in /Users/tonyren/Workspace/AI4Finance/FinRL/.venv/lib/python3.10/site-packages (from beautifulsoup4>=4.11.1->yfinance<0.3,>=0.2->finrl==0.3.6) (2.6)\r\n",
      "Requirement already satisfied: cffi>=1.12 in /Users/tonyren/Workspace/AI4Finance/FinRL/.venv/lib/python3.10/site-packages (from cryptography>=2.6.1->ccxt<4,>=3->finrl==0.3.6) (1.17.1)\r\n",
      "Requirement already satisfied: osqp>=0.6.2 in /Users/tonyren/Workspace/AI4Finance/FinRL/.venv/lib/python3.10/site-packages (from cvxpy<2.0.0,>=1.1.19->pyportfolioopt<2,>=1->finrl==0.3.6) (0.6.7.post3)\r\n",
      "Requirement already satisfied: clarabel>=0.5.0 in /Users/tonyren/Workspace/AI4Finance/FinRL/.venv/lib/python3.10/site-packages (from cvxpy<2.0.0,>=1.1.19->pyportfolioopt<2,>=1->finrl==0.3.6) (0.9.0)\r\n",
      "Requirement already satisfied: scs>=3.2.4.post1 in /Users/tonyren/Workspace/AI4Finance/FinRL/.venv/lib/python3.10/site-packages (from cvxpy<2.0.0,>=1.1.19->pyportfolioopt<2,>=1->finrl==0.3.6) (3.2.7)\r\n",
      "Requirement already satisfied: pandas-datareader>=0.2 in /Users/tonyren/Workspace/AI4Finance/FinRL/.venv/lib/python3.10/site-packages (from empyrical>=0.5.0->pyfolio<0.10,>=0.9->finrl==0.3.6) (0.10.0)\r\n",
      "Requirement already satisfied: typing-extensions>=4.3.0 in /Users/tonyren/Workspace/AI4Finance/FinRL/.venv/lib/python3.10/site-packages (from gymnasium<0.30,>=0.28.1->stable-baselines3>=2.0.0a5->stable-baselines3[extra]>=2.0.0a5->finrl==0.3.6) (4.12.2)\r\n",
      "Requirement already satisfied: farama-notifications>=0.0.1 in /Users/tonyren/Workspace/AI4Finance/FinRL/.venv/lib/python3.10/site-packages (from gymnasium<0.30,>=0.28.1->stable-baselines3>=2.0.0a5->stable-baselines3[extra]>=2.0.0a5->finrl==0.3.6) (0.0.4)\r\n",
      "Requirement already satisfied: webencodings in /Users/tonyren/Workspace/AI4Finance/FinRL/.venv/lib/python3.10/site-packages (from html5lib>=1.1->yfinance<0.3,>=0.2->finrl==0.3.6) (0.5.1)\r\n",
      "Requirement already satisfied: decorator in /Users/tonyren/Workspace/AI4Finance/FinRL/.venv/lib/python3.10/site-packages (from ipython>=3.2.3->pyfolio<0.10,>=0.9->finrl==0.3.6) (5.1.1)\r\n",
      "Requirement already satisfied: jedi>=0.16 in /Users/tonyren/Workspace/AI4Finance/FinRL/.venv/lib/python3.10/site-packages (from ipython>=3.2.3->pyfolio<0.10,>=0.9->finrl==0.3.6) (0.19.2)\r\n",
      "Requirement already satisfied: matplotlib-inline in /Users/tonyren/Workspace/AI4Finance/FinRL/.venv/lib/python3.10/site-packages (from ipython>=3.2.3->pyfolio<0.10,>=0.9->finrl==0.3.6) (0.1.7)\r\n",
      "Requirement already satisfied: prompt-toolkit<3.1.0,>=3.0.41 in /Users/tonyren/Workspace/AI4Finance/FinRL/.venv/lib/python3.10/site-packages (from ipython>=3.2.3->pyfolio<0.10,>=0.9->finrl==0.3.6) (3.0.48)\r\n",
      "Requirement already satisfied: pygments>=2.4.0 in /Users/tonyren/Workspace/AI4Finance/FinRL/.venv/lib/python3.10/site-packages (from ipython>=3.2.3->pyfolio<0.10,>=0.9->finrl==0.3.6) (2.18.0)\r\n",
      "Requirement already satisfied: stack-data in /Users/tonyren/Workspace/AI4Finance/FinRL/.venv/lib/python3.10/site-packages (from ipython>=3.2.3->pyfolio<0.10,>=0.9->finrl==0.3.6) (0.6.3)\r\n",
      "Requirement already satisfied: traitlets>=5.13.0 in /Users/tonyren/Workspace/AI4Finance/FinRL/.venv/lib/python3.10/site-packages (from ipython>=3.2.3->pyfolio<0.10,>=0.9->finrl==0.3.6) (5.14.3)\r\n",
      "Requirement already satisfied: exceptiongroup in /Users/tonyren/Workspace/AI4Finance/FinRL/.venv/lib/python3.10/site-packages (from ipython>=3.2.3->pyfolio<0.10,>=0.9->finrl==0.3.6) (1.2.2)\r\n",
      "Requirement already satisfied: pexpect>4.3 in /Users/tonyren/Workspace/AI4Finance/FinRL/.venv/lib/python3.10/site-packages (from ipython>=3.2.3->pyfolio<0.10,>=0.9->finrl==0.3.6) (4.9.0)\r\n",
      "Requirement already satisfied: contourpy>=1.0.1 in /Users/tonyren/Workspace/AI4Finance/FinRL/.venv/lib/python3.10/site-packages (from matplotlib>=1.4.0->pyfolio<0.10,>=0.9->finrl==0.3.6) (1.3.0)\r\n",
      "Requirement already satisfied: cycler>=0.10 in /Users/tonyren/Workspace/AI4Finance/FinRL/.venv/lib/python3.10/site-packages (from matplotlib>=1.4.0->pyfolio<0.10,>=0.9->finrl==0.3.6) (0.12.1)\r\n",
      "Requirement already satisfied: fonttools>=4.22.0 in /Users/tonyren/Workspace/AI4Finance/FinRL/.venv/lib/python3.10/site-packages (from matplotlib>=1.4.0->pyfolio<0.10,>=0.9->finrl==0.3.6) (4.54.1)\r\n",
      "Requirement already satisfied: kiwisolver>=1.3.1 in /Users/tonyren/Workspace/AI4Finance/FinRL/.venv/lib/python3.10/site-packages (from matplotlib>=1.4.0->pyfolio<0.10,>=0.9->finrl==0.3.6) (1.4.7)\r\n",
      "Requirement already satisfied: pyparsing>=2.3.1 in /Users/tonyren/Workspace/AI4Finance/FinRL/.venv/lib/python3.10/site-packages (from matplotlib>=1.4.0->pyfolio<0.10,>=0.9->finrl==0.3.6) (3.2.0)\r\n",
      "Requirement already satisfied: python-dateutil>=2.7 in /Users/tonyren/Workspace/AI4Finance/FinRL/.venv/lib/python3.10/site-packages (from matplotlib>=1.4.0->pyfolio<0.10,>=0.9->finrl==0.3.6) (2.9.0.post0)\r\n",
      "Requirement already satisfied: annotated-types>=0.6.0 in /Users/tonyren/Workspace/AI4Finance/FinRL/.venv/lib/python3.10/site-packages (from pydantic!=2.0.*,!=2.1.*,!=2.2.*,!=2.3.*,!=2.4.*,<3->ray[default,tune]<3,>=2->finrl==0.3.6) (0.7.0)\r\n",
      "Requirement already satisfied: pydantic-core==2.23.4 in /Users/tonyren/Workspace/AI4Finance/FinRL/.venv/lib/python3.10/site-packages (from pydantic!=2.0.*,!=2.1.*,!=2.2.*,!=2.3.*,!=2.4.*,<3->ray[default,tune]<3,>=2->finrl==0.3.6) (2.23.4)\r\n",
      "Requirement already satisfied: charset-normalizer<4,>=2 in /Users/tonyren/Workspace/AI4Finance/FinRL/.venv/lib/python3.10/site-packages (from requests<3,>2->alpaca-trade-api<4,>=3->finrl==0.3.6) (3.4.0)\r\n",
      "Requirement already satisfied: idna<4,>=2.5 in /Users/tonyren/Workspace/AI4Finance/FinRL/.venv/lib/python3.10/site-packages (from requests<3,>2->alpaca-trade-api<4,>=3->finrl==0.3.6) (3.10)\r\n",
      "Requirement already satisfied: ale-py~=0.8.1 in /Users/tonyren/Workspace/AI4Finance/FinRL/.venv/lib/python3.10/site-packages (from shimmy[atari]~=1.3.0; extra == \"extra\"->stable-baselines3[extra]>=2.0.0a5->finrl==0.3.6) (0.8.1)\r\n",
      "Requirement already satisfied: absl-py>=0.4 in /Users/tonyren/Workspace/AI4Finance/FinRL/.venv/lib/python3.10/site-packages (from tensorboard>=2.9.1->stable-baselines3[extra]>=2.0.0a5->finrl==0.3.6) (2.1.0)\r\n",
      "Requirement already satisfied: markdown>=2.6.8 in /Users/tonyren/Workspace/AI4Finance/FinRL/.venv/lib/python3.10/site-packages (from tensorboard>=2.9.1->stable-baselines3[extra]>=2.0.0a5->finrl==0.3.6) (3.7)\r\n",
      "Requirement already satisfied: tensorboard-data-server<0.8.0,>=0.7.0 in /Users/tonyren/Workspace/AI4Finance/FinRL/.venv/lib/python3.10/site-packages (from tensorboard>=2.9.1->stable-baselines3[extra]>=2.0.0a5->finrl==0.3.6) (0.7.2)\r\n",
      "Requirement already satisfied: werkzeug>=1.0.1 in /Users/tonyren/Workspace/AI4Finance/FinRL/.venv/lib/python3.10/site-packages (from tensorboard>=2.9.1->stable-baselines3[extra]>=2.0.0a5->finrl==0.3.6) (3.1.3)\r\n",
      "Requirement already satisfied: Cython>=3.0.10 in /Users/tonyren/Workspace/AI4Finance/FinRL/.venv/lib/python3.10/site-packages (from thriftpy2!=0.5.1,>=0.3.9->jqdatasdk<2,>=1->finrl==0.3.6) (3.0.11)\r\n",
      "Requirement already satisfied: ply<4.0,>=3.4 in /Users/tonyren/Workspace/AI4Finance/FinRL/.venv/lib/python3.10/site-packages (from thriftpy2!=0.5.1,>=0.3.9->jqdatasdk<2,>=1->finrl==0.3.6) (3.11)\r\n",
      "Requirement already satisfied: networkx in /Users/tonyren/Workspace/AI4Finance/FinRL/.venv/lib/python3.10/site-packages (from torch>=1.13->stable-baselines3>=2.0.0a5->stable-baselines3[extra]>=2.0.0a5->finrl==0.3.6) (3.4.2)\r\n",
      "Requirement already satisfied: jinja2 in /Users/tonyren/Workspace/AI4Finance/FinRL/.venv/lib/python3.10/site-packages (from torch>=1.13->stable-baselines3>=2.0.0a5->stable-baselines3[extra]>=2.0.0a5->finrl==0.3.6) (3.1.4)\r\n",
      "Requirement already satisfied: sympy==1.13.1 in /Users/tonyren/Workspace/AI4Finance/FinRL/.venv/lib/python3.10/site-packages (from torch>=1.13->stable-baselines3>=2.0.0a5->stable-baselines3[extra]>=2.0.0a5->finrl==0.3.6) (1.13.1)\r\n",
      "Requirement already satisfied: mpmath<1.4,>=1.1.0 in /Users/tonyren/Workspace/AI4Finance/FinRL/.venv/lib/python3.10/site-packages (from sympy==1.13.1->torch>=1.13->stable-baselines3>=2.0.0a5->stable-baselines3[extra]>=2.0.0a5->finrl==0.3.6) (1.3.0)\r\n",
      "Requirement already satisfied: distlib<1,>=0.3.7 in /Users/tonyren/Workspace/AI4Finance/FinRL/.venv/lib/python3.10/site-packages (from virtualenv!=20.21.1,>=20.0.24->ray[default,tune]<3,>=2->finrl==0.3.6) (0.3.9)\r\n",
      "Requirement already satisfied: propcache>=0.2.0 in /Users/tonyren/Workspace/AI4Finance/FinRL/.venv/lib/python3.10/site-packages (from yarl>=1.7.2->ccxt<4,>=3->finrl==0.3.6) (0.2.0)\r\n",
      "Requirement already satisfied: jsonschema-specifications>=2023.03.6 in /Users/tonyren/Workspace/AI4Finance/FinRL/.venv/lib/python3.10/site-packages (from jsonschema->ray<3,>=2->ray[default,tune]<3,>=2->finrl==0.3.6) (2024.10.1)\r\n",
      "Requirement already satisfied: referencing>=0.28.4 in /Users/tonyren/Workspace/AI4Finance/FinRL/.venv/lib/python3.10/site-packages (from jsonschema->ray<3,>=2->ray[default,tune]<3,>=2->finrl==0.3.6) (0.35.1)\r\n",
      "Requirement already satisfied: rpds-py>=0.7.1 in /Users/tonyren/Workspace/AI4Finance/FinRL/.venv/lib/python3.10/site-packages (from jsonschema->ray<3,>=2->ray[default,tune]<3,>=2->finrl==0.3.6) (0.21.0)\r\n",
      "Requirement already satisfied: textual>=0.41.0 in /Users/tonyren/Workspace/AI4Finance/FinRL/.venv/lib/python3.10/site-packages (from memray->ray[default,tune]<3,>=2->finrl==0.3.6) (0.85.2)\r\n",
      "Requirement already satisfied: markdown-it-py>=2.2.0 in /Users/tonyren/Workspace/AI4Finance/FinRL/.venv/lib/python3.10/site-packages (from rich->stable-baselines3[extra]>=2.0.0a5->finrl==0.3.6) (3.0.0)\r\n",
      "Requirement already satisfied: opencensus-context>=0.1.3 in /Users/tonyren/Workspace/AI4Finance/FinRL/.venv/lib/python3.10/site-packages (from opencensus->ray[default,tune]<3,>=2->finrl==0.3.6) (0.1.3)\r\n",
      "Requirement already satisfied: google-api-core<3.0.0,>=1.0.0 in /Users/tonyren/Workspace/AI4Finance/FinRL/.venv/lib/python3.10/site-packages (from opencensus->ray[default,tune]<3,>=2->finrl==0.3.6) (2.23.0)\r\n",
      "Requirement already satisfied: wrapt in /Users/tonyren/Workspace/AI4Finance/FinRL/.venv/lib/python3.10/site-packages (from smart-open->ray[default,tune]<3,>=2->finrl==0.3.6) (1.16.0)\r\n",
      "Requirement already satisfied: niltype<2.0,>=0.3 in /Users/tonyren/Workspace/AI4Finance/FinRL/.venv/lib/python3.10/site-packages (from th->elegantrl@ git+https://github.com/AI4Finance-Foundation/ElegantRL.git#egg=elegantrl->finrl==0.3.6) (1.0.2)\r\n",
      "Requirement already satisfied: importlib-resources in /Users/tonyren/Workspace/AI4Finance/FinRL/.venv/lib/python3.10/site-packages (from ale-py~=0.8.1->shimmy[atari]~=1.3.0; extra == \"extra\"->stable-baselines3[extra]>=2.0.0a5->finrl==0.3.6) (6.4.5)\r\n",
      "Requirement already satisfied: pycparser in /Users/tonyren/Workspace/AI4Finance/FinRL/.venv/lib/python3.10/site-packages (from cffi>=1.12->cryptography>=2.6.1->ccxt<4,>=3->finrl==0.3.6) (2.22)\r\n",
      "Requirement already satisfied: googleapis-common-protos<2.0.dev0,>=1.56.2 in /Users/tonyren/Workspace/AI4Finance/FinRL/.venv/lib/python3.10/site-packages (from google-api-core<3.0.0,>=1.0.0->opencensus->ray[default,tune]<3,>=2->finrl==0.3.6) (1.65.0)\r\n",
      "Requirement already satisfied: proto-plus<2.0.0dev,>=1.22.3 in /Users/tonyren/Workspace/AI4Finance/FinRL/.venv/lib/python3.10/site-packages (from google-api-core<3.0.0,>=1.0.0->opencensus->ray[default,tune]<3,>=2->finrl==0.3.6) (1.25.0)\r\n",
      "Requirement already satisfied: google-auth<3.0.dev0,>=2.14.1 in /Users/tonyren/Workspace/AI4Finance/FinRL/.venv/lib/python3.10/site-packages (from google-api-core<3.0.0,>=1.0.0->opencensus->ray[default,tune]<3,>=2->finrl==0.3.6) (2.36.0)\r\n",
      "Requirement already satisfied: parso<0.9.0,>=0.8.4 in /Users/tonyren/Workspace/AI4Finance/FinRL/.venv/lib/python3.10/site-packages (from jedi>=0.16->ipython>=3.2.3->pyfolio<0.10,>=0.9->finrl==0.3.6) (0.8.4)\r\n",
      "Requirement already satisfied: MarkupSafe>=2.0 in /Users/tonyren/Workspace/AI4Finance/FinRL/.venv/lib/python3.10/site-packages (from jinja2->torch>=1.13->stable-baselines3>=2.0.0a5->stable-baselines3[extra]>=2.0.0a5->finrl==0.3.6) (3.0.2)\r\n",
      "Requirement already satisfied: mdurl~=0.1 in /Users/tonyren/Workspace/AI4Finance/FinRL/.venv/lib/python3.10/site-packages (from markdown-it-py>=2.2.0->rich->stable-baselines3[extra]>=2.0.0a5->finrl==0.3.6) (0.1.2)\r\n",
      "Requirement already satisfied: qdldl in /Users/tonyren/Workspace/AI4Finance/FinRL/.venv/lib/python3.10/site-packages (from osqp>=0.6.2->cvxpy<2.0.0,>=1.1.19->pyportfolioopt<2,>=1->finrl==0.3.6) (0.1.7.post4)\r\n",
      "Requirement already satisfied: ptyprocess>=0.5 in /Users/tonyren/Workspace/AI4Finance/FinRL/.venv/lib/python3.10/site-packages (from pexpect>4.3->ipython>=3.2.3->pyfolio<0.10,>=0.9->finrl==0.3.6) (0.7.0)\r\n",
      "Requirement already satisfied: wcwidth in /Users/tonyren/Workspace/AI4Finance/FinRL/.venv/lib/python3.10/site-packages (from prompt-toolkit<3.1.0,>=3.0.41->ipython>=3.2.3->pyfolio<0.10,>=0.9->finrl==0.3.6) (0.2.13)\r\n",
      "Requirement already satisfied: executing>=1.2.0 in /Users/tonyren/Workspace/AI4Finance/FinRL/.venv/lib/python3.10/site-packages (from stack-data->ipython>=3.2.3->pyfolio<0.10,>=0.9->finrl==0.3.6) (2.1.0)\r\n",
      "Requirement already satisfied: asttokens>=2.1.0 in /Users/tonyren/Workspace/AI4Finance/FinRL/.venv/lib/python3.10/site-packages (from stack-data->ipython>=3.2.3->pyfolio<0.10,>=0.9->finrl==0.3.6) (2.4.1)\r\n",
      "Requirement already satisfied: pure-eval in /Users/tonyren/Workspace/AI4Finance/FinRL/.venv/lib/python3.10/site-packages (from stack-data->ipython>=3.2.3->pyfolio<0.10,>=0.9->finrl==0.3.6) (0.2.3)\r\n",
      "Requirement already satisfied: cachetools<6.0,>=2.0.0 in /Users/tonyren/Workspace/AI4Finance/FinRL/.venv/lib/python3.10/site-packages (from google-auth<3.0.dev0,>=2.14.1->google-api-core<3.0.0,>=1.0.0->opencensus->ray[default,tune]<3,>=2->finrl==0.3.6) (5.5.0)\r\n",
      "Requirement already satisfied: pyasn1-modules>=0.2.1 in /Users/tonyren/Workspace/AI4Finance/FinRL/.venv/lib/python3.10/site-packages (from google-auth<3.0.dev0,>=2.14.1->google-api-core<3.0.0,>=1.0.0->opencensus->ray[default,tune]<3,>=2->finrl==0.3.6) (0.4.1)\r\n",
      "Requirement already satisfied: rsa<5,>=3.1.4 in /Users/tonyren/Workspace/AI4Finance/FinRL/.venv/lib/python3.10/site-packages (from google-auth<3.0.dev0,>=2.14.1->google-api-core<3.0.0,>=1.0.0->opencensus->ray[default,tune]<3,>=2->finrl==0.3.6) (4.9)\r\n",
      "Requirement already satisfied: mdit-py-plugins in /Users/tonyren/Workspace/AI4Finance/FinRL/.venv/lib/python3.10/site-packages (from markdown-it-py[linkify,plugins]>=2.1.0->textual>=0.41.0->memray->ray[default,tune]<3,>=2->finrl==0.3.6) (0.4.2)\r\n",
      "Requirement already satisfied: linkify-it-py<3,>=1 in /Users/tonyren/Workspace/AI4Finance/FinRL/.venv/lib/python3.10/site-packages (from markdown-it-py[linkify,plugins]>=2.1.0->textual>=0.41.0->memray->ray[default,tune]<3,>=2->finrl==0.3.6) (2.0.3)\r\n",
      "Requirement already satisfied: uc-micro-py in /Users/tonyren/Workspace/AI4Finance/FinRL/.venv/lib/python3.10/site-packages (from linkify-it-py<3,>=1->markdown-it-py[linkify,plugins]>=2.1.0->textual>=0.41.0->memray->ray[default,tune]<3,>=2->finrl==0.3.6) (1.0.3)\r\n",
      "Requirement already satisfied: pyasn1<0.7.0,>=0.4.6 in /Users/tonyren/Workspace/AI4Finance/FinRL/.venv/lib/python3.10/site-packages (from pyasn1-modules>=0.2.1->google-auth<3.0.dev0,>=2.14.1->google-api-core<3.0.0,>=1.0.0->opencensus->ray[default,tune]<3,>=2->finrl==0.3.6) (0.6.1)\r\n",
      "Building wheels for collected packages: finrl\r\n",
      "  Building editable for finrl (pyproject.toml) ... \u001B[?25ldone\r\n",
      "\u001B[?25h  Created wheel for finrl: filename=finrl-0.3.6-py3-none-any.whl size=9103 sha256=ebb9a360ce7d0d9ebf487c32c03f6b271218e70155a142c8c4b5ad74786d858b\r\n",
      "  Stored in directory: /private/var/folders/fk/ghrbpzjd2ljb898y6fvw8sgc0000gn/T/pip-ephem-wheel-cache-76nbi_6y/wheels/44/e1/3d/fdcf61a6a98fb1ba10ecedc8728a1ae900edde6c6a3397e02c\r\n",
      "Successfully built finrl\r\n",
      "Installing collected packages: finrl\r\n",
      "  Attempting uninstall: finrl\r\n",
      "    Found existing installation: finrl 0.3.6\r\n",
      "    Uninstalling finrl-0.3.6:\r\n",
      "      Successfully uninstalled finrl-0.3.6\r\n",
      "Successfully installed finrl-0.3.6\r\n"
     ]
    }
   ],
   "execution_count": 24
  },
  {
   "cell_type": "markdown",
   "metadata": {
    "id": "nGv01K8Sh1hn"
   },
   "source": [
    "<a id='1.3'></a>\n",
    "## 2.3. Import Packages"
   ]
  },
  {
   "cell_type": "code",
   "metadata": {
    "id": "EeMK7Uentj1V",
    "ExecuteTime": {
     "end_time": "2024-11-27T04:01:27.739391Z",
     "start_time": "2024-11-27T04:01:27.737005Z"
    }
   },
   "source": [
    "import warnings\n",
    "warnings.filterwarnings(\"ignore\")"
   ],
   "outputs": [],
   "execution_count": 25
  },
  {
   "cell_type": "code",
   "metadata": {
    "id": "lPqeTTwoh1hn",
    "ExecuteTime": {
     "end_time": "2024-11-27T04:02:16.001049Z",
     "start_time": "2024-11-27T04:02:13.082620Z"
    }
   },
   "source": [
    "import pandas as pd\n",
    "import numpy as np\n",
    "import matplotlib\n",
    "import matplotlib.pyplot as plt\n",
    "# matplotlib.use('Agg')\n",
    "import datetime\n",
    "\n",
    "%matplotlib inline\n",
    "from finrl.config_tickers import CUSTOM_TICKER\n",
    "from finrl.meta.preprocessor.yahoodownloader import YahooDownloader\n",
    "from finrl.meta.preprocessor.preprocessors import FeatureEngineer, data_split\n",
    "from finrl.meta.env_stock_trading.env_stocktrading import StockTradingEnv\n",
    "from finrl.agents.stablebaselines3.models import DRLAgent,DRLEnsembleAgent\n",
    "from finrl.plot import backtest_stats, backtest_plot, get_daily_return, get_baseline\n",
    "\n",
    "from pprint import pprint\n",
    "\n",
    "import sys\n",
    "import itertools"
   ],
   "outputs": [
    {
     "name": "stderr",
     "output_type": "stream",
     "text": [
      "/Users/tonyren/Workspace/AI4Finance/FinRL/.venv/lib/python3.10/site-packages/pyfolio/pos.py:25: UserWarning: Module \"zipline.assets\" not found; multipliers will not be applied to position notionals.\n",
      "  warnings.warn(\n"
     ]
    }
   ],
   "execution_count": 1
  },
  {
   "cell_type": "markdown",
   "metadata": {
    "id": "T2owTj985RW4"
   },
   "source": [
    "<a id='1.4'></a>\n",
    "## 2.4. Create Folders"
   ]
  },
  {
   "cell_type": "code",
   "metadata": {
    "id": "w9A8CN5R5PuZ",
    "ExecuteTime": {
     "end_time": "2024-11-27T04:02:16.007597Z",
     "start_time": "2024-11-27T04:02:16.004919Z"
    }
   },
   "source": [
    "import os\n",
    "from finrl.main import check_and_make_directories\n",
    "from finrl.config import (\n",
    "    DATA_SAVE_DIR,\n",
    "    TRAINED_MODEL_DIR,\n",
    "    TENSORBOARD_LOG_DIR,\n",
    "    RESULTS_DIR,\n",
    "    INDICATORS,\n",
    "    TRAIN_START_DATE,\n",
    "    TRAIN_END_DATE,\n",
    "    TEST_START_DATE,\n",
    "    TEST_END_DATE,\n",
    "    TRADE_START_DATE,\n",
    "    TRADE_END_DATE,\n",
    ")\n",
    "\n",
    "check_and_make_directories([DATA_SAVE_DIR, TRAINED_MODEL_DIR, TENSORBOARD_LOG_DIR, RESULTS_DIR])"
   ],
   "outputs": [],
   "execution_count": 2
  },
  {
   "cell_type": "markdown",
   "metadata": {
    "id": "A289rQWMh1hq"
   },
   "source": [
    "<a id='2'></a>\n",
    "# Part 3. Download Data\n",
    "Yahoo Finance is a website that provides stock data, financial news, financial reports, etc. All the data provided by Yahoo Finance is free.\n",
    "* FinRL uses a class **YahooDownloader** to fetch data from Yahoo Finance API\n",
    "* Call Limit: Using the Public API (without authentication), you are limited to 2,000 requests per hour per IP (or up to a total of 48,000 requests a day).\n"
   ]
  },
  {
   "cell_type": "markdown",
   "metadata": {
    "id": "NPeQ7iS-LoMm"
   },
   "source": [
    "\n",
    "\n",
    "-----\n",
    "class YahooDownloader:\n",
    "    Provides methods for retrieving daily stock data from\n",
    "    Yahoo Finance API\n",
    "\n",
    "    Attributes\n",
    "    ----------\n",
    "        start_date : str\n",
    "            start date of the data (modified from config.py)\n",
    "        end_date : str\n",
    "            end date of the data (modified from config.py)\n",
    "        ticker_list : list\n",
    "            a list of stock tickers (modified from config.py)\n",
    "\n",
    "    Methods\n",
    "    -------\n",
    "    fetch_data()\n",
    "        Fetches data from yahoo API\n"
   ]
  },
  {
   "cell_type": "code",
   "metadata": {
    "colab": {
     "base_uri": "https://localhost:8080/"
    },
    "id": "yCKm4om-s9kE",
    "outputId": "ee98004d-3f47-4daf-f73a-867e5faf268e",
    "ExecuteTime": {
     "end_time": "2024-11-27T04:24:02.923619Z",
     "start_time": "2024-11-27T04:24:02.917107Z"
    }
   },
   "source": [
    "import os\n",
    "from finrl.main import check_and_make_directories\n",
    "from finrl.config import (\n",
    "    DATA_SAVE_DIR,\n",
    "    TRAINED_MODEL_DIR,\n",
    "    TENSORBOARD_LOG_DIR,\n",
    "    RESULTS_DIR,\n",
    "    INDICATORS,\n",
    "    TRAIN_START_DATE,\n",
    "    TRAIN_END_DATE,\n",
    "    TEST_START_DATE,\n",
    "    TEST_END_DATE,\n",
    "    TRADE_START_DATE,\n",
    "    TRADE_END_DATE,\n",
    ")\n",
    "\n",
    "check_and_make_directories([DATA_SAVE_DIR, TRAINED_MODEL_DIR, TENSORBOARD_LOG_DIR, RESULTS_DIR])\n",
    "\n",
    "from finrl.meta.preprocessor.yahoodownloader import YahooDownloader\n",
    "from finrl.config_tickers import CUSTOM_TICKER\n",
    "from finrl.meta.preprocessor.preprocessors import FeatureEngineer\n",
    "\n",
    "TRAIN_START_DATE = '2010-01-01'\n",
    "TRAIN_END_DATE = '2022-11-10'\n",
    "TEST_START_DATE = '2022-11-11'\n",
    "TEST_END_DATE = '2024-11-11'\n",
    "\n",
    "INDICATORS = ['log-ret', 'rsi_30', 'dx_30', 'chop_6', 'chop_30']"
   ],
   "outputs": [],
   "execution_count": 64
  },
  {
   "metadata": {
    "ExecuteTime": {
     "end_time": "2024-11-27T04:24:03.319222Z",
     "start_time": "2024-11-27T04:24:03.314070Z"
    }
   },
   "cell_type": "code",
   "source": [
    "CUSTOM_TICKER = [\n",
    "    \"INTC\",\n",
    "    \"AAPL\",\n",
    "    \"CSCO\",\n",
    "    \"AMD\",\n",
    "    \"GE\",\n",
    "    \"LVS\",\n",
    "    \"PARA\",\n",
    "    \"TSLA\",\n",
    "    \"CMCSA\",\n",
    "    \"PRGO\",\n",
    "    \"BEN\",\n",
    "    \"VZ\",\n",
    "    \"F\",\n",
    "    \"GME\",\n",
    "    \"AMC\",\n",
    "    \"PCG\"\n",
    "]"
   ],
   "outputs": [],
   "execution_count": 65
  },
  {
   "cell_type": "markdown",
   "metadata": {
    "id": "uqC6c40Zh1iH"
   },
   "source": [
    "# Part 4: Preprocess Data\n",
    "Data preprocessing is a crucial step for training a high quality machine learning model. We need to check for missing data and do feature engineering in order to convert the data into a model-ready state.\n",
    "* Add technical indicators. In practical trading, various information needs to be taken into account, for example the historical stock prices, current holding shares, technical indicators, etc. In this article, we demonstrate two trend-following technical indicators: MACD and RSI.\n",
    "* Add turbulence index. Risk-aversion reflects whether an investor will choose to preserve the capital. It also influences one's trading strategy when facing different market volatility level. To control the risk in a worst-case scenario, such as financial crisis of 2007–2008, FinRL employs the financial turbulence index that measures extreme asset price fluctuation."
   ]
  },
  {
   "cell_type": "code",
   "metadata": {
    "colab": {
     "base_uri": "https://localhost:8080/"
    },
    "id": "jgXfBcjxtj1a",
    "outputId": "07518687-7a3a-43ee-d500-ac50095b512a",
    "ExecuteTime": {
     "end_time": "2024-11-27T04:24:51.568891Z",
     "start_time": "2024-11-27T04:24:42.669428Z"
    }
   },
   "source": [
    "if True:\n",
    "    df = YahooDownloader(start_date = TRAIN_START_DATE,\n",
    "                     end_date = TEST_END_DATE,\n",
    "                     ticker_list = CUSTOM_TICKER).fetch_data()\n",
    "\n",
    "    fe = FeatureEngineer(use_technical_indicator=True,\n",
    "                         tech_indicator_list = INDICATORS,\n",
    "                         use_turbulence=True,\n",
    "                         user_defined_feature = False)\n",
    "\n",
    "    processed = fe.preprocess_data(df)\n",
    "    processed = processed.copy()\n",
    "    processed = processed.fillna(0)\n",
    "    processed = processed.replace(np.inf,0)\n",
    "    processed.to_csv(\"datasets/processed.csv\", index=False)"
   ],
   "outputs": [
    {
     "name": "stderr",
     "output_type": "stream",
     "text": [
      "[*********************100%***********************]  1 of 1 completed\n",
      "[*********************100%***********************]  1 of 1 completed\n",
      "[*********************100%***********************]  1 of 1 completed\n",
      "[*********************100%***********************]  1 of 1 completed\n",
      "[*********************100%***********************]  1 of 1 completed\n",
      "[*********************100%***********************]  1 of 1 completed\n",
      "[*********************100%***********************]  1 of 1 completed\n",
      "[*********************100%***********************]  1 of 1 completed\n",
      "[*********************100%***********************]  1 of 1 completed\n",
      "[*********************100%***********************]  1 of 1 completed\n",
      "[*********************100%***********************]  1 of 1 completed\n",
      "[*********************100%***********************]  1 of 1 completed\n",
      "[*********************100%***********************]  1 of 1 completed\n",
      "[*********************100%***********************]  1 of 1 completed\n",
      "[*********************100%***********************]  1 of 1 completed\n",
      "[*********************100%***********************]  1 of 1 completed\n"
     ]
    },
    {
     "name": "stdout",
     "output_type": "stream",
     "text": [
      "Shape of DataFrame:  (58705, 8)\n"
     ]
    },
    {
     "name": "stderr",
     "output_type": "stream",
     "text": [
      "/Users/tonyren/Workspace/AI4Finance/FinRL/.venv/lib/python3.10/site-packages/pandas/core/arraylike.py:399: RuntimeWarning: invalid value encountered in log10\n",
      "  result = getattr(ufunc, method)(*inputs, **kwargs)\n",
      "/Users/tonyren/Workspace/AI4Finance/FinRL/.venv/lib/python3.10/site-packages/pandas/core/arraylike.py:399: RuntimeWarning: invalid value encountered in log10\n",
      "  result = getattr(ufunc, method)(*inputs, **kwargs)\n",
      "/Users/tonyren/Workspace/AI4Finance/FinRL/.venv/lib/python3.10/site-packages/pandas/core/arraylike.py:399: RuntimeWarning: invalid value encountered in log10\n",
      "  result = getattr(ufunc, method)(*inputs, **kwargs)\n",
      "/Users/tonyren/Workspace/AI4Finance/FinRL/.venv/lib/python3.10/site-packages/pandas/core/arraylike.py:399: RuntimeWarning: invalid value encountered in log10\n",
      "  result = getattr(ufunc, method)(*inputs, **kwargs)\n",
      "/Users/tonyren/Workspace/AI4Finance/FinRL/.venv/lib/python3.10/site-packages/pandas/core/arraylike.py:399: RuntimeWarning: invalid value encountered in log10\n",
      "  result = getattr(ufunc, method)(*inputs, **kwargs)\n",
      "/Users/tonyren/Workspace/AI4Finance/FinRL/.venv/lib/python3.10/site-packages/pandas/core/arraylike.py:399: RuntimeWarning: invalid value encountered in log10\n",
      "  result = getattr(ufunc, method)(*inputs, **kwargs)\n",
      "/Users/tonyren/Workspace/AI4Finance/FinRL/.venv/lib/python3.10/site-packages/pandas/core/arraylike.py:399: RuntimeWarning: invalid value encountered in log10\n",
      "  result = getattr(ufunc, method)(*inputs, **kwargs)\n",
      "/Users/tonyren/Workspace/AI4Finance/FinRL/.venv/lib/python3.10/site-packages/pandas/core/arraylike.py:399: RuntimeWarning: invalid value encountered in log10\n",
      "  result = getattr(ufunc, method)(*inputs, **kwargs)\n",
      "/Users/tonyren/Workspace/AI4Finance/FinRL/.venv/lib/python3.10/site-packages/pandas/core/arraylike.py:399: RuntimeWarning: invalid value encountered in log10\n",
      "  result = getattr(ufunc, method)(*inputs, **kwargs)\n",
      "/Users/tonyren/Workspace/AI4Finance/FinRL/.venv/lib/python3.10/site-packages/pandas/core/arraylike.py:399: RuntimeWarning: invalid value encountered in log10\n",
      "  result = getattr(ufunc, method)(*inputs, **kwargs)\n",
      "/Users/tonyren/Workspace/AI4Finance/FinRL/.venv/lib/python3.10/site-packages/pandas/core/arraylike.py:399: RuntimeWarning: invalid value encountered in log10\n",
      "  result = getattr(ufunc, method)(*inputs, **kwargs)\n",
      "/Users/tonyren/Workspace/AI4Finance/FinRL/.venv/lib/python3.10/site-packages/pandas/core/arraylike.py:399: RuntimeWarning: invalid value encountered in log10\n",
      "  result = getattr(ufunc, method)(*inputs, **kwargs)\n",
      "/Users/tonyren/Workspace/AI4Finance/FinRL/.venv/lib/python3.10/site-packages/pandas/core/arraylike.py:399: RuntimeWarning: invalid value encountered in log10\n",
      "  result = getattr(ufunc, method)(*inputs, **kwargs)\n",
      "/Users/tonyren/Workspace/AI4Finance/FinRL/.venv/lib/python3.10/site-packages/pandas/core/arraylike.py:399: RuntimeWarning: invalid value encountered in log10\n",
      "  result = getattr(ufunc, method)(*inputs, **kwargs)\n",
      "/Users/tonyren/Workspace/AI4Finance/FinRL/.venv/lib/python3.10/site-packages/pandas/core/arraylike.py:399: RuntimeWarning: invalid value encountered in log10\n",
      "  result = getattr(ufunc, method)(*inputs, **kwargs)\n",
      "/Users/tonyren/Workspace/AI4Finance/FinRL/.venv/lib/python3.10/site-packages/pandas/core/arraylike.py:399: RuntimeWarning: invalid value encountered in log10\n",
      "  result = getattr(ufunc, method)(*inputs, **kwargs)\n",
      "/Users/tonyren/Workspace/AI4Finance/FinRL/.venv/lib/python3.10/site-packages/pandas/core/arraylike.py:399: RuntimeWarning: invalid value encountered in log10\n",
      "  result = getattr(ufunc, method)(*inputs, **kwargs)\n",
      "/Users/tonyren/Workspace/AI4Finance/FinRL/.venv/lib/python3.10/site-packages/pandas/core/arraylike.py:399: RuntimeWarning: invalid value encountered in log10\n",
      "  result = getattr(ufunc, method)(*inputs, **kwargs)\n",
      "/Users/tonyren/Workspace/AI4Finance/FinRL/.venv/lib/python3.10/site-packages/pandas/core/arraylike.py:399: RuntimeWarning: invalid value encountered in log10\n",
      "  result = getattr(ufunc, method)(*inputs, **kwargs)\n",
      "/Users/tonyren/Workspace/AI4Finance/FinRL/.venv/lib/python3.10/site-packages/pandas/core/arraylike.py:399: RuntimeWarning: invalid value encountered in log10\n",
      "  result = getattr(ufunc, method)(*inputs, **kwargs)\n",
      "/Users/tonyren/Workspace/AI4Finance/FinRL/.venv/lib/python3.10/site-packages/pandas/core/arraylike.py:399: RuntimeWarning: invalid value encountered in log10\n",
      "  result = getattr(ufunc, method)(*inputs, **kwargs)\n",
      "/Users/tonyren/Workspace/AI4Finance/FinRL/.venv/lib/python3.10/site-packages/pandas/core/arraylike.py:399: RuntimeWarning: invalid value encountered in log10\n",
      "  result = getattr(ufunc, method)(*inputs, **kwargs)\n",
      "/Users/tonyren/Workspace/AI4Finance/FinRL/.venv/lib/python3.10/site-packages/pandas/core/arraylike.py:399: RuntimeWarning: invalid value encountered in log10\n",
      "  result = getattr(ufunc, method)(*inputs, **kwargs)\n",
      "/Users/tonyren/Workspace/AI4Finance/FinRL/.venv/lib/python3.10/site-packages/pandas/core/arraylike.py:399: RuntimeWarning: invalid value encountered in log10\n",
      "  result = getattr(ufunc, method)(*inputs, **kwargs)\n",
      "/Users/tonyren/Workspace/AI4Finance/FinRL/.venv/lib/python3.10/site-packages/pandas/core/arraylike.py:399: RuntimeWarning: invalid value encountered in log10\n",
      "  result = getattr(ufunc, method)(*inputs, **kwargs)\n",
      "/Users/tonyren/Workspace/AI4Finance/FinRL/.venv/lib/python3.10/site-packages/pandas/core/arraylike.py:399: RuntimeWarning: invalid value encountered in log10\n",
      "  result = getattr(ufunc, method)(*inputs, **kwargs)\n"
     ]
    },
    {
     "name": "stdout",
     "output_type": "stream",
     "text": [
      "Successfully added technical indicators\n",
      "Successfully added turbulence index\n"
     ]
    }
   ],
   "execution_count": 68
  },
  {
   "metadata": {
    "ExecuteTime": {
     "end_time": "2024-11-27T04:25:24.174830Z",
     "start_time": "2024-11-27T04:25:24.164417Z"
    }
   },
   "cell_type": "code",
   "source": "processed",
   "outputs": [
    {
     "data": {
      "text/plain": [
       "             date     open     high      low    close     volume    tic  day  \\\n",
       "0      2010-01-04  6.44741  7.64321  7.66071  7.62250  493729600   AAPL    0   \n",
       "1      2010-01-04  9.70000  9.70000  9.90000  9.79000   18748700    AMD    0   \n",
       "2      2010-01-04 21.36558 36.00000 36.10667 35.39333    3746700    BEN    0   \n",
       "3      2010-01-04  6.25072  8.48500  8.56500  8.37500   27146800  CMCSA    0   \n",
       "4      2010-01-04 16.47537 24.69000 24.84000 24.11000   59853700   CSCO    0   \n",
       "...           ...      ...      ...      ...      ...        ...    ...  ...   \n",
       "52341  2024-11-08 50.38000 50.38000 50.75000 50.55000    8699100    LVS    4   \n",
       "52342  2024-11-08 11.07000 11.07000 11.54000 11.51000   15682600   PARA    4   \n",
       "52343  2024-11-08 20.60000 20.60000 20.71000 20.34000   15107800    PCG    4   \n",
       "52344  2024-11-08 26.36000 26.36000 26.91000 26.86000    1634300   PRGO    4   \n",
       "52345  2024-11-08 40.48000 40.48000 40.85000 40.74000   21305900     VZ    4   \n",
       "\n",
       "       log-ret    rsi_30     dx_30    chop_6  chop_30  turbulence  \n",
       "0      0.00000 100.00000 100.00000   0.00000  0.00000     0.00000  \n",
       "1      0.00000 100.00000 100.00000   0.00000  0.00000     0.00000  \n",
       "2      0.00000 100.00000 100.00000   0.00000  0.00000     0.00000  \n",
       "3      0.00000 100.00000 100.00000   0.00000  0.00000     0.00000  \n",
       "4      0.00000 100.00000 100.00000   0.00000  0.00000     0.00000  \n",
       "...        ...       ...       ...       ...      ...         ...  \n",
       "52341 -0.01551  56.04919   3.75987 100.75427 73.11947     7.36425  \n",
       "52342  0.01224  60.23499  59.22331  65.70096 44.84671     7.36425  \n",
       "52343  0.00049  55.60734  15.52867  83.05106 64.30301     7.36425  \n",
       "52344 -0.02173  52.33378   8.96910  71.82215 57.53162     7.36425  \n",
       "52345 -0.00831  43.04103  30.31204 123.59359 43.52445     7.36425  \n",
       "\n",
       "[52346 rows x 14 columns]"
      ],
      "text/html": [
       "<div>\n",
       "<style scoped>\n",
       "    .dataframe tbody tr th:only-of-type {\n",
       "        vertical-align: middle;\n",
       "    }\n",
       "\n",
       "    .dataframe tbody tr th {\n",
       "        vertical-align: top;\n",
       "    }\n",
       "\n",
       "    .dataframe thead th {\n",
       "        text-align: right;\n",
       "    }\n",
       "</style>\n",
       "<table border=\"1\" class=\"dataframe\">\n",
       "  <thead>\n",
       "    <tr style=\"text-align: right;\">\n",
       "      <th></th>\n",
       "      <th>date</th>\n",
       "      <th>open</th>\n",
       "      <th>high</th>\n",
       "      <th>low</th>\n",
       "      <th>close</th>\n",
       "      <th>volume</th>\n",
       "      <th>tic</th>\n",
       "      <th>day</th>\n",
       "      <th>log-ret</th>\n",
       "      <th>rsi_30</th>\n",
       "      <th>dx_30</th>\n",
       "      <th>chop_6</th>\n",
       "      <th>chop_30</th>\n",
       "      <th>turbulence</th>\n",
       "    </tr>\n",
       "  </thead>\n",
       "  <tbody>\n",
       "    <tr>\n",
       "      <th>0</th>\n",
       "      <td>2010-01-04</td>\n",
       "      <td>6.44741</td>\n",
       "      <td>7.64321</td>\n",
       "      <td>7.66071</td>\n",
       "      <td>7.62250</td>\n",
       "      <td>493729600</td>\n",
       "      <td>AAPL</td>\n",
       "      <td>0</td>\n",
       "      <td>0.00000</td>\n",
       "      <td>100.00000</td>\n",
       "      <td>100.00000</td>\n",
       "      <td>0.00000</td>\n",
       "      <td>0.00000</td>\n",
       "      <td>0.00000</td>\n",
       "    </tr>\n",
       "    <tr>\n",
       "      <th>1</th>\n",
       "      <td>2010-01-04</td>\n",
       "      <td>9.70000</td>\n",
       "      <td>9.70000</td>\n",
       "      <td>9.90000</td>\n",
       "      <td>9.79000</td>\n",
       "      <td>18748700</td>\n",
       "      <td>AMD</td>\n",
       "      <td>0</td>\n",
       "      <td>0.00000</td>\n",
       "      <td>100.00000</td>\n",
       "      <td>100.00000</td>\n",
       "      <td>0.00000</td>\n",
       "      <td>0.00000</td>\n",
       "      <td>0.00000</td>\n",
       "    </tr>\n",
       "    <tr>\n",
       "      <th>2</th>\n",
       "      <td>2010-01-04</td>\n",
       "      <td>21.36558</td>\n",
       "      <td>36.00000</td>\n",
       "      <td>36.10667</td>\n",
       "      <td>35.39333</td>\n",
       "      <td>3746700</td>\n",
       "      <td>BEN</td>\n",
       "      <td>0</td>\n",
       "      <td>0.00000</td>\n",
       "      <td>100.00000</td>\n",
       "      <td>100.00000</td>\n",
       "      <td>0.00000</td>\n",
       "      <td>0.00000</td>\n",
       "      <td>0.00000</td>\n",
       "    </tr>\n",
       "    <tr>\n",
       "      <th>3</th>\n",
       "      <td>2010-01-04</td>\n",
       "      <td>6.25072</td>\n",
       "      <td>8.48500</td>\n",
       "      <td>8.56500</td>\n",
       "      <td>8.37500</td>\n",
       "      <td>27146800</td>\n",
       "      <td>CMCSA</td>\n",
       "      <td>0</td>\n",
       "      <td>0.00000</td>\n",
       "      <td>100.00000</td>\n",
       "      <td>100.00000</td>\n",
       "      <td>0.00000</td>\n",
       "      <td>0.00000</td>\n",
       "      <td>0.00000</td>\n",
       "    </tr>\n",
       "    <tr>\n",
       "      <th>4</th>\n",
       "      <td>2010-01-04</td>\n",
       "      <td>16.47537</td>\n",
       "      <td>24.69000</td>\n",
       "      <td>24.84000</td>\n",
       "      <td>24.11000</td>\n",
       "      <td>59853700</td>\n",
       "      <td>CSCO</td>\n",
       "      <td>0</td>\n",
       "      <td>0.00000</td>\n",
       "      <td>100.00000</td>\n",
       "      <td>100.00000</td>\n",
       "      <td>0.00000</td>\n",
       "      <td>0.00000</td>\n",
       "      <td>0.00000</td>\n",
       "    </tr>\n",
       "    <tr>\n",
       "      <th>...</th>\n",
       "      <td>...</td>\n",
       "      <td>...</td>\n",
       "      <td>...</td>\n",
       "      <td>...</td>\n",
       "      <td>...</td>\n",
       "      <td>...</td>\n",
       "      <td>...</td>\n",
       "      <td>...</td>\n",
       "      <td>...</td>\n",
       "      <td>...</td>\n",
       "      <td>...</td>\n",
       "      <td>...</td>\n",
       "      <td>...</td>\n",
       "      <td>...</td>\n",
       "    </tr>\n",
       "    <tr>\n",
       "      <th>52341</th>\n",
       "      <td>2024-11-08</td>\n",
       "      <td>50.38000</td>\n",
       "      <td>50.38000</td>\n",
       "      <td>50.75000</td>\n",
       "      <td>50.55000</td>\n",
       "      <td>8699100</td>\n",
       "      <td>LVS</td>\n",
       "      <td>4</td>\n",
       "      <td>-0.01551</td>\n",
       "      <td>56.04919</td>\n",
       "      <td>3.75987</td>\n",
       "      <td>100.75427</td>\n",
       "      <td>73.11947</td>\n",
       "      <td>7.36425</td>\n",
       "    </tr>\n",
       "    <tr>\n",
       "      <th>52342</th>\n",
       "      <td>2024-11-08</td>\n",
       "      <td>11.07000</td>\n",
       "      <td>11.07000</td>\n",
       "      <td>11.54000</td>\n",
       "      <td>11.51000</td>\n",
       "      <td>15682600</td>\n",
       "      <td>PARA</td>\n",
       "      <td>4</td>\n",
       "      <td>0.01224</td>\n",
       "      <td>60.23499</td>\n",
       "      <td>59.22331</td>\n",
       "      <td>65.70096</td>\n",
       "      <td>44.84671</td>\n",
       "      <td>7.36425</td>\n",
       "    </tr>\n",
       "    <tr>\n",
       "      <th>52343</th>\n",
       "      <td>2024-11-08</td>\n",
       "      <td>20.60000</td>\n",
       "      <td>20.60000</td>\n",
       "      <td>20.71000</td>\n",
       "      <td>20.34000</td>\n",
       "      <td>15107800</td>\n",
       "      <td>PCG</td>\n",
       "      <td>4</td>\n",
       "      <td>0.00049</td>\n",
       "      <td>55.60734</td>\n",
       "      <td>15.52867</td>\n",
       "      <td>83.05106</td>\n",
       "      <td>64.30301</td>\n",
       "      <td>7.36425</td>\n",
       "    </tr>\n",
       "    <tr>\n",
       "      <th>52344</th>\n",
       "      <td>2024-11-08</td>\n",
       "      <td>26.36000</td>\n",
       "      <td>26.36000</td>\n",
       "      <td>26.91000</td>\n",
       "      <td>26.86000</td>\n",
       "      <td>1634300</td>\n",
       "      <td>PRGO</td>\n",
       "      <td>4</td>\n",
       "      <td>-0.02173</td>\n",
       "      <td>52.33378</td>\n",
       "      <td>8.96910</td>\n",
       "      <td>71.82215</td>\n",
       "      <td>57.53162</td>\n",
       "      <td>7.36425</td>\n",
       "    </tr>\n",
       "    <tr>\n",
       "      <th>52345</th>\n",
       "      <td>2024-11-08</td>\n",
       "      <td>40.48000</td>\n",
       "      <td>40.48000</td>\n",
       "      <td>40.85000</td>\n",
       "      <td>40.74000</td>\n",
       "      <td>21305900</td>\n",
       "      <td>VZ</td>\n",
       "      <td>4</td>\n",
       "      <td>-0.00831</td>\n",
       "      <td>43.04103</td>\n",
       "      <td>30.31204</td>\n",
       "      <td>123.59359</td>\n",
       "      <td>43.52445</td>\n",
       "      <td>7.36425</td>\n",
       "    </tr>\n",
       "  </tbody>\n",
       "</table>\n",
       "<p>52346 rows × 14 columns</p>\n",
       "</div>"
      ]
     },
     "execution_count": 69,
     "metadata": {},
     "output_type": "execute_result"
    }
   ],
   "execution_count": 69
  },
  {
   "cell_type": "markdown",
   "metadata": {
    "id": "-QsYaY0Dh1iw"
   },
   "source": [
    "<a id='4'></a>\n",
    "# Part 5. Design Environment\n",
    "Considering the stochastic and interactive nature of the automated stock trading tasks, a financial task is modeled as a **Markov Decision Process (MDP)** problem. The training process involves observing stock price change, taking an action and reward's calculation to have the agent adjusting its strategy accordingly. By interacting with the environment, the trading agent will derive a trading strategy with the maximized rewards as time proceeds.\n",
    "\n",
    "Our trading environments, based on OpenAI Gym framework, simulate live stock markets with real market data according to the principle of time-driven simulation.\n",
    "\n",
    "The action space describes the allowed actions that the agent interacts with the environment. Normally, action a includes three actions: {-1, 0, 1}, where -1, 0, 1 represent selling, holding, and buying one share. Also, an action can be carried upon multiple shares. We use an action space {-k,…,-1, 0, 1, …, k}, where k denotes the number of shares to buy and -k denotes the number of shares to sell. For example, \"Buy 10 shares of AAPL\" or \"Sell 10 shares of AAPL\" are 10 or -10, respectively. The continuous action space needs to be normalized to [-1, 1], since the policy is defined on a Gaussian distribution, which needs to be normalized and symmetric."
   ]
  },
  {
   "cell_type": "code",
   "metadata": {
    "colab": {
     "base_uri": "https://localhost:8080/"
    },
    "id": "Q2zqII8rMIqn",
    "outputId": "47edb3e0-2d83-4063-b2e8-c1d988e61da0",
    "ExecuteTime": {
     "end_time": "2024-11-27T04:25:30.317226Z",
     "start_time": "2024-11-27T04:25:30.306605Z"
    }
   },
   "source": [
    "stock_dimension = len(processed.tic.unique())\n",
    "state_space = 1 + 2*stock_dimension + len(INDICATORS)*stock_dimension\n",
    "print(f\"Stock Dimension: {stock_dimension}, State Space: {state_space}\")\n"
   ],
   "outputs": [
    {
     "name": "stdout",
     "output_type": "stream",
     "text": [
      "Stock Dimension: 14, State Space: 99\n"
     ]
    }
   ],
   "execution_count": 70
  },
  {
   "cell_type": "code",
   "metadata": {
    "id": "AWyp84Ltto19",
    "ExecuteTime": {
     "end_time": "2024-11-27T04:25:30.658612Z",
     "start_time": "2024-11-27T04:25:30.655413Z"
    }
   },
   "source": [
    "env_kwargs = {\n",
    "    \"hmax\": 100,\n",
    "    \"initial_amount\": 1000000,\n",
    "    \"buy_cost_pct\": 0.001,\n",
    "    \"sell_cost_pct\": 0.001,\n",
    "    \"state_space\": state_space,\n",
    "    \"stock_dim\": stock_dimension,\n",
    "    \"tech_indicator_list\": INDICATORS,\n",
    "    \"action_space\": stock_dimension,\n",
    "    \"reward_scaling\": 1,\n",
    "    \"print_verbosity\":1\n",
    "\n",
    "}"
   ],
   "outputs": [],
   "execution_count": 71
  },
  {
   "cell_type": "markdown",
   "metadata": {
    "id": "HMNR5nHjh1iz"
   },
   "source": [
    "<a id='5'></a>\n",
    "# Part 6: Implement DRL Algorithms\n",
    "* The implementation of the DRL algorithms are based on **OpenAI Baselines** and **Stable Baselines**. Stable Baselines is a fork of OpenAI Baselines, with a major structural refactoring, and code cleanups.\n",
    "* FinRL library includes fine-tuned standard DRL algorithms, such as DQN, DDPG,\n",
    "Multi-Agent DDPG, PPO, SAC, A2C and TD3. We also allow users to\n",
    "design their own DRL algorithms by adapting these DRL algorithms.\n",
    "\n",
    "* In this notebook, we are training and validating 3 agents (A2C, PPO, DDPG) using Rolling-window Ensemble Method ([reference code](https://github.com/AI4Finance-LLC/Deep-Reinforcement-Learning-for-Automated-Stock-Trading-Ensemble-Strategy-ICAIF-2020/blob/80415db8fa7b2179df6bd7e81ce4fe8dbf913806/model/models.py#L92))"
   ]
  },
  {
   "cell_type": "code",
   "metadata": {
    "id": "v-gthCxMtj1d",
    "ExecuteTime": {
     "end_time": "2024-11-27T04:25:31.680250Z",
     "start_time": "2024-11-27T04:25:31.666925Z"
    }
   },
   "source": [
    "rebalance_window = 60 # rebalance_window is the number of days to retrain the model\n",
    "validation_window = 300 # validation_window is the number of days to do validation and trading (e.g. if validation_window=63, then both validation and trading period will be 63 days)\n",
    "\n",
    "ensemble_agent = DRLEnsembleAgent(df=processed,\n",
    "                 train_period=(TRAIN_START_DATE,TRAIN_END_DATE),\n",
    "                 val_test_period=(TEST_START_DATE,TEST_END_DATE),\n",
    "                 rebalance_window=rebalance_window,\n",
    "                 validation_window=validation_window,\n",
    "                 **env_kwargs)\n"
   ],
   "outputs": [],
   "execution_count": 72
  },
  {
   "cell_type": "code",
   "metadata": {
    "id": "KsfEHa_Etj1d",
    "ExecuteTime": {
     "end_time": "2024-11-27T04:25:32.224187Z",
     "start_time": "2024-11-27T04:25:32.219414Z"
    }
   },
   "source": [
    "A2C_model_kwargs = {\n",
    "                    'n_steps': 5,\n",
    "                    'ent_coef': 0.005,\n",
    "                    'learning_rate': 0.001\n",
    "                    }\n",
    "\n",
    "PPO_model_kwargs = {\n",
    "                    \"ent_coef\":0.01,\n",
    "                    \"n_steps\": 2048,\n",
    "                    \"learning_rate\": 0.0001,\n",
    "                    \"batch_size\": 128\n",
    "                    }\n",
    "\n",
    "DDPG_model_kwargs = {\n",
    "                      \"action_noise\":\"ornstein_uhlenbeck\",\n",
    "                      \"buffer_size\": 100_000,\n",
    "                      \"learning_rate\": 0.0001,\n",
    "                      \"batch_size\": 256,\n",
    "                      \"gamma\": 0.99\n",
    "                    }\n",
    "\n",
    "SAC_model_kwargs = {\n",
    "    \"batch_size\": 64,\n",
    "    \"buffer_size\": 100000,\n",
    "    \"learning_rate\": 0.001,\n",
    "    \"learning_starts\": 100,\n",
    "    \"ent_coef\": \"auto_0.1\",\n",
    "}\n",
    "\n",
    "TD3_model_kwargs = {\"batch_size\": 100, \"buffer_size\": 1_000_000, \"learning_rate\": 0.0001}\n",
    "\n",
    "timesteps_dict = {'a2c' : 1,\n",
    "                 'ppo' : 1,\n",
    "                 'ddpg' : 10000,\n",
    "                 'sac' : 1,\n",
    "                 'td3' : 1\n",
    "                 }"
   ],
   "outputs": [],
   "execution_count": 73
  },
  {
   "cell_type": "code",
   "metadata": {
    "colab": {
     "base_uri": "https://localhost:8080/"
    },
    "id": "_1lyCECstj1e",
    "outputId": "056b50cd-f8e8-4192-edd9-f570587ed923",
    "scrolled": true,
    "jupyter": {
     "is_executing": true
    },
    "ExecuteTime": {
     "start_time": "2024-11-27T04:25:32.555767Z"
    }
   },
   "source": [
    "df_summary = ensemble_agent.run_ensemble_strategy(A2C_model_kwargs,\n",
    "                                                 PPO_model_kwargs,\n",
    "                                                 DDPG_model_kwargs,\n",
    "                                                 SAC_model_kwargs,\n",
    "                                                 TD3_model_kwargs,\n",
    "                                                 timesteps_dict)"
   ],
   "outputs": [
    {
     "name": "stdout",
     "output_type": "stream",
     "text": [
      "============Start Ensemble Strategy============\n",
      "============================================\n",
      "turbulence_threshold:  104.036071100193\n",
      "======Model training from:  2010-01-01 to  2022-11-14\n",
      "======a2c Training========\n",
      "{'n_steps': 5, 'ent_coef': 0.005, 'learning_rate': 0.001}\n",
      "Using cpu device\n",
      "Logging to tensorboard_log/a2c/a2c_360_5\n",
      "======a2c Validation from:  2022-11-14 to  2024-01-26\n",
      "day: 299, episode: 1\n",
      "begin_total_asset: 1000000.00\n",
      "end_total_asset: 1088217.20\n",
      "total_reward: 88217.20\n",
      "total_cost: 12591.11\n",
      "total_trades: 3916\n",
      "Sharpe: 1.567\n",
      "=================================\n",
      "a2c Sharpe Ratio:  0.19742104240107786\n",
      "======ddpg Training========\n",
      "{'action_noise': OrnsteinUhlenbeckActionNoise(mu=[0. 0. 0. 0. 0. 0. 0. 0. 0. 0. 0. 0. 0. 0.], sigma=[0.1 0.1 0.1 0.1 0.1 0.1 0.1 0.1 0.1 0.1 0.1 0.1 0.1 0.1]), 'buffer_size': 100000, 'learning_rate': 0.0001, 'batch_size': 256, 'gamma': 0.99}\n",
      "Using cpu device\n",
      "Logging to tensorboard_log/ddpg/ddpg_360_1\n"
     ]
    }
   ],
   "execution_count": null
  },
  {
   "cell_type": "code",
   "metadata": {
    "colab": {
     "base_uri": "https://localhost:8080/",
     "height": 89
    },
    "id": "-0qd8acMtj1f",
    "outputId": "ef19ff5d-9173-4268-e50b-6128cf9278f5",
    "ExecuteTime": {
     "end_time": "2024-11-27T04:18:03.191265Z",
     "start_time": "2024-11-27T04:18:03.182142Z"
    }
   },
   "source": "df_summary",
   "outputs": [
    {
     "data": {
      "text/plain": [
       "Empty DataFrame\n",
       "Columns: [Iter, Val Start, Val End, Model Used, A2C Sharpe, PPO Sharpe, DDPG Sharpe, SAC Sharpe, TD3 Sharpe]\n",
       "Index: []"
      ],
      "text/html": [
       "<div>\n",
       "<style scoped>\n",
       "    .dataframe tbody tr th:only-of-type {\n",
       "        vertical-align: middle;\n",
       "    }\n",
       "\n",
       "    .dataframe tbody tr th {\n",
       "        vertical-align: top;\n",
       "    }\n",
       "\n",
       "    .dataframe thead th {\n",
       "        text-align: right;\n",
       "    }\n",
       "</style>\n",
       "<table border=\"1\" class=\"dataframe\">\n",
       "  <thead>\n",
       "    <tr style=\"text-align: right;\">\n",
       "      <th></th>\n",
       "      <th>Iter</th>\n",
       "      <th>Val Start</th>\n",
       "      <th>Val End</th>\n",
       "      <th>Model Used</th>\n",
       "      <th>A2C Sharpe</th>\n",
       "      <th>PPO Sharpe</th>\n",
       "      <th>DDPG Sharpe</th>\n",
       "      <th>SAC Sharpe</th>\n",
       "      <th>TD3 Sharpe</th>\n",
       "    </tr>\n",
       "  </thead>\n",
       "  <tbody>\n",
       "  </tbody>\n",
       "</table>\n",
       "</div>"
      ]
     },
     "execution_count": 62,
     "metadata": {},
     "output_type": "execute_result"
    }
   ],
   "execution_count": 62
  },
  {
   "metadata": {
    "ExecuteTime": {
     "end_time": "2024-11-27T04:01:04.527391Z",
     "start_time": "2024-11-27T04:01:04.517540Z"
    }
   },
   "cell_type": "code",
   "source": "%tensorboard --logdir ./tensorboard_log/td3\n",
   "outputs": [],
   "execution_count": null
  },
  {
   "cell_type": "markdown",
   "metadata": {
    "id": "W6vvNSC6h1jZ"
   },
   "source": [
    "<a id='6'></a>\n",
    "# Part 7: Backtest Our Strategy\n",
    "Backtesting plays a key role in evaluating the performance of a trading strategy. Automated backtesting tool is preferred because it reduces the human error. We usually use the Quantopian pyfolio package to backtest our trading strategies. It is easy to use and consists of various individual plots that provide a comprehensive image of the performance of a trading strategy."
   ]
  },
  {
   "metadata": {
    "ExecuteTime": {
     "end_time": "2024-11-26T06:15:40.883822Z",
     "start_time": "2024-11-26T06:15:40.870339Z"
    }
   },
   "cell_type": "code",
   "source": "np.__version__",
   "outputs": [
    {
     "data": {
      "text/plain": [
       "'1.26.4'"
      ]
     },
     "execution_count": 124,
     "metadata": {},
     "output_type": "execute_result"
    }
   ],
   "execution_count": 124
  },
  {
   "cell_type": "code",
   "metadata": {
    "id": "X4JKB--8tj1g",
    "ExecuteTime": {
     "end_time": "2024-11-26T06:15:41.123345Z",
     "start_time": "2024-11-26T06:15:41.107733Z"
    }
   },
   "source": [
    "unique_trade_date = processed[(processed.date > TEST_START_DATE)&(processed.date <= TEST_END_DATE)].date.unique()"
   ],
   "outputs": [],
   "execution_count": 125
  },
  {
   "cell_type": "code",
   "metadata": {
    "id": "q9mKF7GGtj1g",
    "scrolled": true,
    "ExecuteTime": {
     "end_time": "2024-11-26T06:15:42.781150Z",
     "start_time": "2024-11-26T06:15:42.762449Z"
    }
   },
   "source": [
    "df_trade_date = pd.DataFrame({'datadate':unique_trade_date})\n",
    "\n",
    "df_account_value=pd.DataFrame()\n",
    "for i in range(rebalance_window+validation_window, len(unique_trade_date)+1,rebalance_window):\n",
    "    temp = pd.read_csv('results/account_value_trade_{}_{}.csv'.format('ensemble',i))\n",
    "    df_account_value = pd.concat([df_account_value, temp], ignore_index=True)\n",
    "sharpe=(252**0.5)*df_account_value.account_value.pct_change(1).mean()/df_account_value.account_value.pct_change(1).std()\n",
    "print('Sharpe Ratio: ',sharpe)\n",
    "df_account_value=df_account_value.join(df_trade_date[validation_window:].reset_index(drop=True))"
   ],
   "outputs": [
    {
     "name": "stdout",
     "output_type": "stream",
     "text": [
      "Sharpe Ratio:  0.28532945673161797\n"
     ]
    }
   ],
   "execution_count": 126
  },
  {
   "cell_type": "code",
   "metadata": {
    "id": "oyosyW7_tj1g",
    "ExecuteTime": {
     "end_time": "2024-11-26T06:15:44.175128Z",
     "start_time": "2024-11-26T06:15:44.166012Z"
    }
   },
   "source": [
    "df_account_value.head()"
   ],
   "outputs": [
    {
     "data": {
      "text/plain": [
       "   account_value        date  daily_return    datadate\n",
       "0   1.000000e+06  2024-04-30           NaN  2024-04-30\n",
       "1   9.999877e+05  2024-05-01     -0.000012  2024-05-01\n",
       "2   9.999877e+05  2024-05-02      0.000000  2024-05-02\n",
       "3   1.000119e+06  2024-05-03      0.000131  2024-05-03\n",
       "4   1.000393e+06  2024-05-06      0.000274  2024-05-06"
      ],
      "text/html": [
       "<div>\n",
       "<style scoped>\n",
       "    .dataframe tbody tr th:only-of-type {\n",
       "        vertical-align: middle;\n",
       "    }\n",
       "\n",
       "    .dataframe tbody tr th {\n",
       "        vertical-align: top;\n",
       "    }\n",
       "\n",
       "    .dataframe thead th {\n",
       "        text-align: right;\n",
       "    }\n",
       "</style>\n",
       "<table border=\"1\" class=\"dataframe\">\n",
       "  <thead>\n",
       "    <tr style=\"text-align: right;\">\n",
       "      <th></th>\n",
       "      <th>account_value</th>\n",
       "      <th>date</th>\n",
       "      <th>daily_return</th>\n",
       "      <th>datadate</th>\n",
       "    </tr>\n",
       "  </thead>\n",
       "  <tbody>\n",
       "    <tr>\n",
       "      <th>0</th>\n",
       "      <td>1.000000e+06</td>\n",
       "      <td>2024-04-30</td>\n",
       "      <td>NaN</td>\n",
       "      <td>2024-04-30</td>\n",
       "    </tr>\n",
       "    <tr>\n",
       "      <th>1</th>\n",
       "      <td>9.999877e+05</td>\n",
       "      <td>2024-05-01</td>\n",
       "      <td>-0.000012</td>\n",
       "      <td>2024-05-01</td>\n",
       "    </tr>\n",
       "    <tr>\n",
       "      <th>2</th>\n",
       "      <td>9.999877e+05</td>\n",
       "      <td>2024-05-02</td>\n",
       "      <td>0.000000</td>\n",
       "      <td>2024-05-02</td>\n",
       "    </tr>\n",
       "    <tr>\n",
       "      <th>3</th>\n",
       "      <td>1.000119e+06</td>\n",
       "      <td>2024-05-03</td>\n",
       "      <td>0.000131</td>\n",
       "      <td>2024-05-03</td>\n",
       "    </tr>\n",
       "    <tr>\n",
       "      <th>4</th>\n",
       "      <td>1.000393e+06</td>\n",
       "      <td>2024-05-06</td>\n",
       "      <td>0.000274</td>\n",
       "      <td>2024-05-06</td>\n",
       "    </tr>\n",
       "  </tbody>\n",
       "</table>\n",
       "</div>"
      ]
     },
     "execution_count": 127,
     "metadata": {},
     "output_type": "execute_result"
    }
   ],
   "execution_count": 127
  },
  {
   "cell_type": "code",
   "metadata": {
    "id": "wLsRdw2Ctj1h",
    "ExecuteTime": {
     "end_time": "2024-11-26T06:17:44.525907Z",
     "start_time": "2024-11-26T06:17:44.325190Z"
    }
   },
   "source": [
    "import matplotlib.pyplot as plt\n",
    "import pandas as pd\n",
    "%matplotlib inline\n",
    "# Convert the date column to datetime format\n",
    "#df_account_value['date'] = pd.to_datetime(df_account_value['date'])\n",
    "\n",
    "# Set the date column as the index\n",
    "#df_account_value.set_index('date', inplace=True)\n",
    "\n",
    "# Visualization 1: Line plot for account value over time, with weekly xticks\n",
    "plt.figure(figsize=(12, 6))\n",
    "plt.plot(df_account_value.index, df_account_value['account_value'], marker='o', color='b')\n",
    "plt.title('Account Value Over Time')\n",
    "plt.xlabel('Date')\n",
    "plt.ylabel('Account Value')\n",
    "\n",
    "# Set xticks to display weekly intervals\n",
    "plt.xticks(pd.date_range(start=df_account_value.index.min(), end=df_account_value.index.max(), freq='W'))\n",
    "plt.gca().xaxis.set_major_formatter(plt.matplotlib.dates.DateFormatter('%Y-%m-%d'))\n",
    "\n",
    "plt.xticks(rotation=45)\n",
    "plt.grid(True)\n",
    "plt.tight_layout()\n",
    "plt.show()"
   ],
   "outputs": [
    {
     "data": {
      "text/plain": [
       "<Figure size 1200x600 with 1 Axes>"
      ],
      "image/png": "[encoded data removed]"
     },
     "metadata": {},
     "output_type": "display_data"
    }
   ],
   "execution_count": 131
  },
  {
   "metadata": {
    "ExecuteTime": {
     "end_time": "2024-11-26T06:18:16.695602Z",
     "start_time": "2024-11-26T06:18:16.209335Z"
    }
   },
   "cell_type": "code",
   "source": [
    "import pandas as pd\n",
    "import matplotlib.pyplot as plt\n",
    "\n",
    "# Create a copy of the processed dataframe\n",
    "portfolio_data = processed.copy()\n",
    "\n",
    "# Ensure the date column is in datetime format in the copied dataframe\n",
    "portfolio_data['date'] = pd.to_datetime(portfolio_data['date'])\n",
    "\n",
    "# Set the initial investment amount\n",
    "initial_investment = 1_000_000\n",
    "\n",
    "# Define the start and end dates for the analysis\n",
    "start_date = pd.to_datetime('2022-03-04')\n",
    "end_date = pd.to_datetime('2024-07-14')\n",
    "\n",
    "# Filter the dataframe for the starting date to get initial prices\n",
    "initial_prices = portfolio_data[portfolio_data['date'] == start_date].copy()\n",
    "\n",
    "# Calculate the number of shares purchased for each stock\n",
    "initial_prices['shares'] = initial_investment / len(initial_prices) / initial_prices['open']\n",
    "\n",
    "# Merge the number of shares into the copied dataframe\n",
    "portfolio_data = portfolio_data.merge(initial_prices[['tic', 'shares']], on='tic', how='inner')\n",
    "\n",
    "# Calculate the daily portfolio value\n",
    "portfolio_data['daily_value'] = portfolio_data['close'] * portfolio_data['shares']\n",
    "df_account_value_buynhold = portfolio_data.groupby('date')['daily_value'].sum().reset_index()\n",
    "df_account_value_buynhold.rename(columns={'daily_value': 'account_value'}, inplace=True)\n",
    "\n",
    "# Filter the data between the start_date and end_date\n",
    "df_account_value_buynhold['date'] = pd.to_datetime(df_account_value_buynhold['date'])\n",
    "df_account_value_buynhold = df_account_value_buynhold[\n",
    "    (df_account_value_buynhold['date'] >= start_date) & (df_account_value_buynhold['date'] <= end_date)\n",
    "]\n",
    "\n",
    "# Set the date column as the index\n",
    "df_account_value_buynhold.set_index('date', inplace=True)\n",
    "\n",
    "# Visualization\n",
    "plt.figure(figsize=(12, 6))\n",
    "plt.plot(df_account_value_buynhold.index, df_account_value_buynhold['account_value'], marker='o', color='b')\n",
    "plt.title('Portfolio Value Over Time (Buy and Hold Strategy)')\n",
    "plt.xlabel('Date')\n",
    "plt.ylabel('Portfolio Value ($)')\n",
    "\n",
    "# Set xticks to display weekly intervals\n",
    "plt.xticks(pd.date_range(start=df_account_value_buynhold.index.min(),\n",
    "                         end=df_account_value_buynhold.index.max(), freq='W'))\n",
    "plt.gca().xaxis.set_major_formatter(plt.matplotlib.dates.DateFormatter('%Y-%m-%d'))\n",
    "\n",
    "plt.xticks(rotation=45)\n",
    "plt.grid(True)\n",
    "plt.tight_layout()\n",
    "plt.show()\n",
    "\n",
    "now = datetime.datetime.now().strftime('%Y%m%d-%Hh%M')\n",
    "df_account_value_buynhold['datadate'] = list(df_account_value_buynhold.index)\n",
    "df_account_value_buynhold['date'] = list(df_account_value_buynhold.index)\n",
    "perf_stats_all = backtest_stats(account_value=df_account_value_buynhold)\n",
    "perf_stats_all = pd.DataFrame(perf_stats_all)\n",
    "\n"
   ],
   "outputs": [
    {
     "data": {
      "text/plain": [
       "<Figure size 1200x600 with 1 Axes>"
      ],
      "image/png": "[encoded data removed]"
     },
     "metadata": {},
     "output_type": "display_data"
    },
    {
     "name": "stdout",
     "output_type": "stream",
     "text": [
      "Annual return          0.097728\n",
      "Cumulative returns     0.244889\n",
      "Annual volatility      0.766403\n",
      "Sharpe ratio           0.475590\n",
      "Calmar ratio           0.165844\n",
      "Stability              0.043754\n",
      "Max drawdown          -0.589278\n",
      "Omega ratio            1.100981\n",
      "Sortino ratio          0.829575\n",
      "Skew                        NaN\n",
      "Kurtosis                    NaN\n",
      "Tail ratio             1.048478\n",
      "Daily value at risk   -0.095111\n",
      "dtype: float64\n"
     ]
    }
   ],
   "execution_count": 132
  },
  {
   "metadata": {},
   "cell_type": "code",
   "outputs": [],
   "execution_count": null,
   "source": ""
  },
  {
   "metadata": {},
   "cell_type": "code",
   "outputs": [],
   "execution_count": null,
   "source": ""
  },
  {
   "cell_type": "markdown",
   "metadata": {
    "id": "Lr2zX7ZxNyFQ"
   },
   "source": [
    "<a id='6.1'></a>\n",
    "## 7.1 BackTestStats\n",
    "pass in df_account_value, this information is stored in env class\n"
   ]
  },
  {
   "metadata": {},
   "cell_type": "code",
   "outputs": [],
   "execution_count": null,
   "source": ""
  },
  {
   "metadata": {},
   "cell_type": "code",
   "outputs": [],
   "execution_count": null,
   "source": ""
  },
  {
   "metadata": {
    "ExecuteTime": {
     "end_time": "2024-11-26T02:40:40.449058Z",
     "start_time": "2024-11-26T02:40:40.443456Z"
    }
   },
   "cell_type": "code",
   "source": "df_account_value = df_account_value.reset_index()",
   "outputs": [],
   "execution_count": 28
  },
  {
   "cell_type": "code",
   "metadata": {
    "id": "Nzkr9yv-AdV_",
    "scrolled": true,
    "ExecuteTime": {
     "end_time": "2024-11-26T02:40:40.983204Z",
     "start_time": "2024-11-26T02:40:40.963044Z"
    }
   },
   "source": [
    "print(\"==============Get Backtest Results===========\")\n",
    "now = datetime.datetime.now().strftime('%Y%m%d-%Hh%M')\n",
    "\n",
    "perf_stats_all = backtest_stats(account_value=df_account_value)\n",
    "perf_stats_all = pd.DataFrame(perf_stats_all)"
   ],
   "outputs": [
    {
     "name": "stdout",
     "output_type": "stream",
     "text": [
      "==============Get Backtest Results===========\n",
      "Annual return         -0.010978\n",
      "Cumulative returns    -0.005504\n",
      "Annual volatility      0.160644\n",
      "Sharpe ratio           0.010510\n",
      "Calmar ratio          -0.112026\n",
      "Stability              0.012606\n",
      "Max drawdown          -0.097997\n",
      "Omega ratio            1.002037\n",
      "Sortino ratio          0.014755\n",
      "Skew                        NaN\n",
      "Kurtosis                    NaN\n",
      "Tail ratio             1.079211\n",
      "Daily value at risk   -0.020233\n",
      "dtype: float64\n"
     ]
    }
   ],
   "execution_count": 29
  },
  {
   "cell_type": "code",
   "metadata": {
    "id": "DiHhM1YkoCel",
    "ExecuteTime": {
     "end_time": "2024-11-26T02:40:43.327523Z",
     "start_time": "2024-11-26T02:40:43.131253Z"
    }
   },
   "source": [
    "#baseline stats\n",
    "print(\"==============Get Baseline Stats===========\")\n",
    "df_dji_ = get_baseline(\n",
    "        ticker=\"^DJI\",\n",
    "        start = df_account_value.loc[0,'date'],\n",
    "        end = df_account_value.loc[len(df_account_value)-1,'date'])\n",
    "\n",
    "stats = backtest_stats(df_dji_, value_col_name = 'close')"
   ],
   "outputs": [
    {
     "name": "stderr",
     "output_type": "stream",
     "text": [
      "[*********************100%***********************]  1 of 1 completed"
     ]
    },
    {
     "name": "stdout",
     "output_type": "stream",
     "text": [
      "==============Get Baseline Stats===========\n",
      "Shape of DataFrame:  (125, 8)\n",
      "Annual return          0.057152\n",
      "Cumulative returns     0.027952\n",
      "Annual volatility      0.114338\n",
      "Sharpe ratio           0.546898\n",
      "Calmar ratio           0.971835\n",
      "Stability              0.224720\n",
      "Max drawdown          -0.058808\n",
      "Omega ratio            1.096895\n",
      "Sortino ratio          0.752622\n",
      "Skew                        NaN\n",
      "Kurtosis                    NaN\n",
      "Tail ratio             0.912030\n",
      "Daily value at risk   -0.014157\n",
      "dtype: float64\n"
     ]
    },
    {
     "name": "stderr",
     "output_type": "stream",
     "text": [
      "\n"
     ]
    }
   ],
   "execution_count": 30
  },
  {
   "cell_type": "code",
   "execution_count": null,
   "metadata": {
    "id": "RhJ9whD75WTs"
   },
   "outputs": [],
   "source": [
    "df_dji = pd.DataFrame()\n",
    "df_dji['date'] = df_account_value['date']\n",
    "df_dji['dji'] = df_dji_['close'] / df_dji_['close'][0] * env_kwargs[\"initial_amount\"]\n",
    "print(\"df_dji: \", df_dji)\n",
    "df_dji.to_csv(\"df_dji.csv\")\n",
    "df_dji = df_dji.set_index(df_dji.columns[0])\n",
    "print(\"df_dji: \", df_dji)\n",
    "df_dji.to_csv(\"df_dji+.csv\")\n",
    "\n",
    "df_account_value.to_csv('df_account_value.csv')\n"
   ]
  },
  {
   "cell_type": "markdown",
   "metadata": {
    "id": "9U6Suru3h1jc"
   },
   "source": [
    "<a id='6.2'></a>\n",
    "## 7.2 BackTestPlot"
   ]
  },
  {
   "cell_type": "code",
   "metadata": {
    "id": "HggausPRoCem",
    "ExecuteTime": {
     "end_time": "2024-11-26T02:40:54.761851Z",
     "start_time": "2024-11-26T02:40:54.527992Z"
    }
   },
   "source": [
    "\n",
    "\n",
    "# print(\"==============Compare to DJIA===========\")\n",
    "# %matplotlib inline\n",
    "# # S&P 500: ^GSPC\n",
    "# # Dow Jones Index: ^DJI\n",
    "# # NASDAQ 100: ^NDX\n",
    "# backtest_plot(df_account_value,\n",
    "#               baseline_ticker = '^DJI',\n",
    "#               baseline_start = df_account_value.loc[0,'date'],\n",
    "#               baseline_end = df_account_value.loc[len(df_account_value)-1,'date'])\n",
    "df.to_csv(\"df.csv\")\n",
    "df_result_ensemble = pd.DataFrame({'date': df_account_value['date'], 'ensemble': df_account_value['account_value']})\n",
    "df_result_ensemble = df_result_ensemble.set_index('date')\n",
    "\n",
    "print(\"df_result_ensemble.columns: \", df_result_ensemble.columns)\n",
    "\n",
    "# df_result_ensemble.drop(df_result_ensemble.columns[0], axis = 1)\n",
    "print(\"df_trade_date: \", df_trade_date)\n",
    "# df_result_ensemble['date'] = df_trade_date['datadate']\n",
    "# df_result_ensemble['account_value'] = df_account_value['account_value']\n",
    "df_result_ensemble.to_csv(\"df_result_ensemble.csv\")\n",
    "print(\"df_result_ensemble: \", df_result_ensemble)\n",
    "print(\"==============Compare to DJIA===========\")\n",
    "result = pd.DataFrame()\n",
    "# result = pd.merge(result, df_result_ensemble, left_index=True, right_index=True)\n",
    "# result = pd.merge(result, df_dji, left_index=True, right_index=True)\n",
    "result = pd.merge(df_result_ensemble, df_dji, left_index=True, right_index=True)\n",
    "print(\"result: \", result)\n",
    "result.to_csv(\"result.csv\")\n",
    "result.columns = ['ensemble', 'dji']\n",
    "\n",
    "%matplotlib inline\n",
    "plt.rcParams[\"figure.figsize\"] = (15,5)\n",
    "plt.figure();\n",
    "result.plot();"
   ],
   "outputs": [
    {
     "name": "stdout",
     "output_type": "stream",
     "text": [
      "df_result_ensemble.columns:  Index(['ensemble'], dtype='object')\n",
      "df_trade_date:         datadate\n",
      "0    2023-11-13\n",
      "1    2023-11-14\n",
      "2    2023-11-15\n",
      "3    2023-11-16\n",
      "4    2023-11-17\n",
      "..          ...\n",
      "245  2024-11-04\n",
      "246  2024-11-05\n",
      "247  2024-11-06\n",
      "248  2024-11-07\n",
      "249  2024-11-08\n",
      "\n",
      "[250 rows x 1 columns]\n",
      "df_result_ensemble:                  ensemble\n",
      "date                    \n",
      "2024-02-14  1.000000e+06\n",
      "2024-02-15  1.000642e+06\n",
      "2024-02-16  1.000719e+06\n",
      "2024-02-20  9.978955e+05\n",
      "2024-02-21  9.947947e+05\n",
      "...                  ...\n",
      "2024-08-08  9.915603e+05\n",
      "2024-08-09  9.921889e+05\n",
      "2024-08-12  9.929821e+05\n",
      "2024-08-13  9.936269e+05\n",
      "2024-08-14  9.944957e+05\n",
      "\n",
      "[126 rows x 1 columns]\n",
      "==============Compare to DJIA===========\n"
     ]
    },
    {
     "ename": "NameError",
     "evalue": "name 'df_dji' is not defined",
     "output_type": "error",
     "traceback": [
      "\u001B[0;31m---------------------------------------------------------------------------\u001B[0m",
      "\u001B[0;31mNameError\u001B[0m                                 Traceback (most recent call last)",
      "Cell \u001B[0;32mIn[31], line 26\u001B[0m\n\u001B[1;32m     23\u001B[0m result \u001B[38;5;241m=\u001B[39m pd\u001B[38;5;241m.\u001B[39mDataFrame()\n\u001B[1;32m     24\u001B[0m \u001B[38;5;66;03m# result = pd.merge(result, df_result_ensemble, left_index=True, right_index=True)\u001B[39;00m\n\u001B[1;32m     25\u001B[0m \u001B[38;5;66;03m# result = pd.merge(result, df_dji, left_index=True, right_index=True)\u001B[39;00m\n\u001B[0;32m---> 26\u001B[0m result \u001B[38;5;241m=\u001B[39m pd\u001B[38;5;241m.\u001B[39mmerge(df_result_ensemble, \u001B[43mdf_dji\u001B[49m, left_index\u001B[38;5;241m=\u001B[39m\u001B[38;5;28;01mTrue\u001B[39;00m, right_index\u001B[38;5;241m=\u001B[39m\u001B[38;5;28;01mTrue\u001B[39;00m)\n\u001B[1;32m     27\u001B[0m \u001B[38;5;28mprint\u001B[39m(\u001B[38;5;124m\"\u001B[39m\u001B[38;5;124mresult: \u001B[39m\u001B[38;5;124m\"\u001B[39m, result)\n\u001B[1;32m     28\u001B[0m result\u001B[38;5;241m.\u001B[39mto_csv(\u001B[38;5;124m\"\u001B[39m\u001B[38;5;124mresult.csv\u001B[39m\u001B[38;5;124m\"\u001B[39m)\n",
      "\u001B[0;31mNameError\u001B[0m: name 'df_dji' is not defined"
     ]
    }
   ],
   "execution_count": 31
  },
  {
   "metadata": {},
   "cell_type": "code",
   "outputs": [],
   "execution_count": null,
   "source": ""
  },
  {
   "cell_type": "markdown",
   "metadata": {
    "id": "oBQx4bVQFi-a"
   },
   "source": []
  }
 ],
 "metadata": {
  "accelerator": "GPU",
  "colab": {
   "provenance": []
  },
  "kernelspec": {
   "display_name": "Python 3 (ipykernel)",
   "language": "python",
   "name": "python3"
  },
  "language_info": {
   "codemirror_mode": {
    "name": "ipython",
    "version": 3
   },
   "file_extension": ".py",
   "mimetype": "text/x-python",
   "name": "python",
   "nbconvert_exporter": "python",
   "pygments_lexer": "ipython3",
   "version": "3.10.15"
  },
  "pycharm": {
   "stem_cell": {
    "cell_type": "raw",
    "metadata": {
     "collapsed": false
    },
    "source": []
   }
  }
 },
 "nbformat": 4,
 "nbformat_minor": 4
}
