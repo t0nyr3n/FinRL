{
 "cells": [
  {
   "cell_type": "markdown",
   "metadata": {
    "id": "Lb9q2_QZgdNk"
   },
   "source": [
    "<a target=\"_blank\" href=\"https://colab.research.google.com/github/AI4Finance-Foundation/FinRL-Tutorials/blob/master/2-Advance/FinRL_Ensemble_StockTrading_ICAIF_2020.ipynb\">\n",
    "  <img src=\"https://colab.research.google.com/assets/colab-badge.svg\" alt=\"Open In Colab\"/>\n",
    "</a>"
   ]
  },
  {
   "cell_type": "markdown",
   "metadata": {
    "id": "gXaoZs2lh1hi"
   },
   "source": [
    "# Deep Reinforcement Learning for Stock Trading from Scratch: Multiple Stock Trading Using Ensemble Strategy\n",
    "\n",
    "Tutorials to use OpenAI DRL to trade multiple stocks using ensemble strategy in one Jupyter Notebook | Presented at ICAIF 2020\n",
    "\n",
    "* This notebook is the reimplementation of our paper: Deep Reinforcement Learning for Automated Stock Trading: An Ensemble Strategy, using FinRL.\n",
    "* Check out medium blog for detailed explanations: https://medium.com/@ai4finance/deep-reinforcement-learning-for-automated-stock-trading-f1dad0126a02\n",
    "* Please report any issues to our Github: https://github.com/AI4Finance-LLC/FinRL-Library/issues\n",
    "* **Pytorch Version**\n",
    "\n"
   ]
  },
  {
   "cell_type": "markdown",
   "metadata": {
    "id": "lGunVt8oLCVS"
   },
   "source": [
    "# Content"
   ]
  },
  {
   "cell_type": "markdown",
   "metadata": {
    "id": "HOzAKQ-SLGX6"
   },
   "source": [
    "* [1. Problem Definition](#0)\n",
    "* [2. Getting Started - Load Python packages](#1)\n",
    "    * [2.1. Install Packages](#1.1)    \n",
    "    * [2.2. Check Additional Packages](#1.2)\n",
    "    * [2.3. Import Packages](#1.3)\n",
    "    * [2.4. Create Folders](#1.4)\n",
    "* [3. Download Data](#2)\n",
    "* [4. Preprocess Data](#3)        \n",
    "    * [4.1. Technical Indicators](#3.1)\n",
    "    * [4.2. Perform Feature Engineering](#3.2)\n",
    "* [5.Build Environment](#4)  \n",
    "    * [5.1. Training & Trade Data Split](#4.1)\n",
    "    * [5.2. User-defined Environment](#4.2)   \n",
    "    * [5.3. Initialize Environment](#4.3)    \n",
    "* [6.Implement DRL Algorithms](#5)  \n",
    "* [7.Backtesting Performance](#6)  \n",
    "    * [7.1. BackTestStats](#6.1)\n",
    "    * [7.2. BackTestPlot](#6.2)   \n",
    "    * [7.3. Baseline Stats](#6.3)   \n",
    "    * [7.3. Compare to Stock Market Index](#6.4)             "
   ]
  },
  {
   "cell_type": "markdown",
   "metadata": {
    "id": "sApkDlD9LIZv"
   },
   "source": [
    "<a id='0'></a>\n",
    "# Part 1. Problem Definition"
   ]
  },
  {
   "cell_type": "markdown",
   "metadata": {
    "id": "HjLD2TZSLKZ-"
   },
   "source": [
    "This problem is to design an automated trading solution for single stock trading. We model the stock trading process as a Markov Decision Process (MDP). We then formulate our trading goal as a maximization problem.\n",
    "\n",
    "The algorithm is trained using Deep Reinforcement Learning (DRL) algorithms and the components of the reinforcement learning environment are:\n",
    "\n",
    "\n",
    "* Action: The action space describes the allowed actions that the agent interacts with the\n",
    "environment. Normally, a ∈ A includes three actions: a ∈ {−1, 0, 1}, where −1, 0, 1 represent\n",
    "selling, holding, and buying one stock. Also, an action can be carried upon multiple shares. We use\n",
    "an action space {−k, ..., −1, 0, 1, ..., k}, where k denotes the number of shares. For example, \"Buy\n",
    "10 shares of AAPL\" or \"Sell 10 shares of AAPL\" are 10 or −10, respectively\n",
    "\n",
    "* Reward function: r(s, a, s′) is the incentive mechanism for an agent to learn a better action. The change of the portfolio value when action a is taken at state s and arriving at new state s',  i.e., r(s, a, s′) = v′ − v, where v′ and v represent the portfolio\n",
    "values at state s′ and s, respectively\n",
    "\n",
    "* State: The state space describes the observations that the agent receives from the environment. Just as a human trader needs to analyze various information before executing a trade, so\n",
    "our trading agent observes many different features to better learn in an interactive environment.\n",
    "\n",
    "* Environment: Dow 30 consituents\n",
    "\n",
    "\n",
    "The data of the single stock that we will be using for this case study is obtained from Yahoo Finance API. The data contains Open-High-Low-Close price and volume.\n"
   ]
  },
  {
   "cell_type": "markdown",
   "metadata": {
    "id": "Ffsre789LY08"
   },
   "source": [
    "<a id='1'></a>\n",
    "# Part 2. Getting Started- Load Python Packages"
   ]
  },
  {
   "cell_type": "markdown",
   "metadata": {
    "id": "Uy5_PTmOh1hj"
   },
   "source": [
    "<a id='1.1'></a>\n",
    "## 2.1. Install all the packages through FinRL library\n"
   ]
  },
  {
   "cell_type": "code",
   "execution_count": null,
   "metadata": {
    "colab": {
     "base_uri": "https://localhost:8080/"
    },
    "id": "mPT0ipYE28wL",
    "outputId": "31d6a8ab-c43f-4558-fbc2-6b633ef7654b",
    "scrolled": true
   },
   "outputs": [],
   "source": [
    "# ## install finrl library\n",
    "!pip install wrds\n",
    "!pip install swig\n",
    "!apt-get update -y -qq && apt-get install -y -qq cmake libopenmpi-dev python3-dev zlib1g-dev libgl1-mesa-glx swig\n",
    "!pip install -e ~/Workspace/AI4Finance/FinRL"
   ]
  },
  {
   "cell_type": "code",
   "metadata": {
    "collapsed": true,
    "jupyter": {
     "outputs_hidden": true
    },
    "ExecuteTime": {
     "end_time": "2024-11-29T23:15:48.884468Z",
     "start_time": "2024-11-29T23:15:43.085979Z"
    }
   },
   "source": [
    "!pip install -e ~/Workspace/AI4Finance/FinRL"
   ],
   "outputs": [
    {
     "name": "stdout",
     "output_type": "stream",
     "text": [
      "Obtaining file:///Users/tonyren/Workspace/AI4Finance/FinRL\r\n",
      "  Installing build dependencies ... \u001B[?25ldone\r\n",
      "\u001B[?25h  Checking if build backend supports build_editable ... \u001B[?25ldone\r\n",
      "\u001B[?25h  Getting requirements to build editable ... \u001B[?25ldone\r\n",
      "\u001B[?25h  Preparing editable metadata (pyproject.toml) ... \u001B[?25ldone\r\n",
      "\u001B[?25hCollecting elegantrl@ git+https://github.com/AI4Finance-Foundation/ElegantRL.git#egg=elegantrl (from finrl==0.3.6)\r\n",
      "  Cloning https://github.com/AI4Finance-Foundation/ElegantRL.git to /private/var/folders/fk/ghrbpzjd2ljb898y6fvw8sgc0000gn/T/pip-install-gsq68dgo/elegantrl_fb09cc4786fe4a2cb3a07821e4446688\r\n",
      "  Running command git clone --filter=blob:none --quiet https://github.com/AI4Finance-Foundation/ElegantRL.git /private/var/folders/fk/ghrbpzjd2ljb898y6fvw8sgc0000gn/T/pip-install-gsq68dgo/elegantrl_fb09cc4786fe4a2cb3a07821e4446688\r\n",
      "  Resolved https://github.com/AI4Finance-Foundation/ElegantRL.git to commit c2939fefe0e3ec55601ded49e39fdf9d7d781ea0\r\n",
      "  Preparing metadata (setup.py) ... \u001B[?25ldone\r\n",
      "\u001B[?25hRequirement already satisfied: alpaca-trade-api<4,>=3 in /Users/tonyren/Workspace/AI4Finance/FinRL/.venv/lib/python3.10/site-packages (from finrl==0.3.6) (3.2.0)\r\n",
      "Requirement already satisfied: ccxt<4,>=3 in /Users/tonyren/Workspace/AI4Finance/FinRL/.venv/lib/python3.10/site-packages (from finrl==0.3.6) (3.1.60)\r\n",
      "Requirement already satisfied: exchange-calendars<5,>=4 in /Users/tonyren/Workspace/AI4Finance/FinRL/.venv/lib/python3.10/site-packages (from finrl==0.3.6) (4.6)\r\n",
      "Requirement already satisfied: jqdatasdk<2,>=1 in /Users/tonyren/Workspace/AI4Finance/FinRL/.venv/lib/python3.10/site-packages (from finrl==0.3.6) (1.9.6)\r\n",
      "Requirement already satisfied: pyfolio<0.10,>=0.9 in /Users/tonyren/Workspace/AI4Finance/FinRL/.venv/lib/python3.10/site-packages (from finrl==0.3.6) (0.9.2)\r\n",
      "Requirement already satisfied: pyportfolioopt<2,>=1 in /Users/tonyren/Workspace/AI4Finance/FinRL/.venv/lib/python3.10/site-packages (from finrl==0.3.6) (1.5.5)\r\n",
      "Requirement already satisfied: ray<3,>=2 in /Users/tonyren/Workspace/AI4Finance/FinRL/.venv/lib/python3.10/site-packages (from ray[default,tune]<3,>=2->finrl==0.3.6) (2.38.0)\r\n",
      "Requirement already satisfied: scikit-learn<2,>=1 in /Users/tonyren/Workspace/AI4Finance/FinRL/.venv/lib/python3.10/site-packages (from finrl==0.3.6) (1.5.2)\r\n",
      "Requirement already satisfied: stable-baselines3>=2.0.0a5 in /Users/tonyren/Workspace/AI4Finance/FinRL/.venv/lib/python3.10/site-packages (from stable-baselines3[extra]>=2.0.0a5->finrl==0.3.6) (2.3.2)\r\n",
      "Requirement already satisfied: stockstats<0.6,>=0.5 in /Users/tonyren/Workspace/AI4Finance/FinRL/.venv/lib/python3.10/site-packages (from finrl==0.3.6) (0.5.4)\r\n",
      "Requirement already satisfied: wrds<4,>=3 in /Users/tonyren/Workspace/AI4Finance/FinRL/.venv/lib/python3.10/site-packages (from finrl==0.3.6) (3.2.0)\r\n",
      "Requirement already satisfied: yfinance<0.3,>=0.2 in /Users/tonyren/Workspace/AI4Finance/FinRL/.venv/lib/python3.10/site-packages (from finrl==0.3.6) (0.2.49)\r\n",
      "Requirement already satisfied: pandas>=0.18.1 in /Users/tonyren/Workspace/AI4Finance/FinRL/.venv/lib/python3.10/site-packages (from alpaca-trade-api<4,>=3->finrl==0.3.6) (2.2.3)\r\n",
      "Requirement already satisfied: numpy>=1.11.1 in /Users/tonyren/Workspace/AI4Finance/FinRL/.venv/lib/python3.10/site-packages (from alpaca-trade-api<4,>=3->finrl==0.3.6) (1.26.4)\r\n",
      "Requirement already satisfied: requests<3,>2 in /Users/tonyren/Workspace/AI4Finance/FinRL/.venv/lib/python3.10/site-packages (from alpaca-trade-api<4,>=3->finrl==0.3.6) (2.32.3)\r\n",
      "Requirement already satisfied: urllib3<2,>1.24 in /Users/tonyren/Workspace/AI4Finance/FinRL/.venv/lib/python3.10/site-packages (from alpaca-trade-api<4,>=3->finrl==0.3.6) (1.26.20)\r\n",
      "Requirement already satisfied: websocket-client<2,>=0.56.0 in /Users/tonyren/Workspace/AI4Finance/FinRL/.venv/lib/python3.10/site-packages (from alpaca-trade-api<4,>=3->finrl==0.3.6) (1.8.0)\r\n",
      "Requirement already satisfied: websockets<11,>=9.0 in /Users/tonyren/Workspace/AI4Finance/FinRL/.venv/lib/python3.10/site-packages (from alpaca-trade-api<4,>=3->finrl==0.3.6) (10.4)\r\n",
      "Requirement already satisfied: msgpack==1.0.3 in /Users/tonyren/Workspace/AI4Finance/FinRL/.venv/lib/python3.10/site-packages (from alpaca-trade-api<4,>=3->finrl==0.3.6) (1.0.3)\r\n",
      "Requirement already satisfied: aiohttp<4,>=3.8.3 in /Users/tonyren/Workspace/AI4Finance/FinRL/.venv/lib/python3.10/site-packages (from alpaca-trade-api<4,>=3->finrl==0.3.6) (3.10.10)\r\n",
      "Requirement already satisfied: PyYAML==6.0.1 in /Users/tonyren/Workspace/AI4Finance/FinRL/.venv/lib/python3.10/site-packages (from alpaca-trade-api<4,>=3->finrl==0.3.6) (6.0.1)\r\n",
      "Requirement already satisfied: deprecation==2.1.0 in /Users/tonyren/Workspace/AI4Finance/FinRL/.venv/lib/python3.10/site-packages (from alpaca-trade-api<4,>=3->finrl==0.3.6) (2.1.0)\r\n",
      "Requirement already satisfied: packaging in /Users/tonyren/Workspace/AI4Finance/FinRL/.venv/lib/python3.10/site-packages (from deprecation==2.1.0->alpaca-trade-api<4,>=3->finrl==0.3.6) (23.2)\r\n",
      "Requirement already satisfied: setuptools>=60.9.0 in /Users/tonyren/Workspace/AI4Finance/FinRL/.venv/lib/python3.10/site-packages (from ccxt<4,>=3->finrl==0.3.6) (68.2.0)\r\n",
      "Requirement already satisfied: certifi>=2018.1.18 in /Users/tonyren/Workspace/AI4Finance/FinRL/.venv/lib/python3.10/site-packages (from ccxt<4,>=3->finrl==0.3.6) (2024.8.30)\r\n",
      "Requirement already satisfied: cryptography>=2.6.1 in /Users/tonyren/Workspace/AI4Finance/FinRL/.venv/lib/python3.10/site-packages (from ccxt<4,>=3->finrl==0.3.6) (43.0.3)\r\n",
      "Requirement already satisfied: aiodns>=1.1.1 in /Users/tonyren/Workspace/AI4Finance/FinRL/.venv/lib/python3.10/site-packages (from ccxt<4,>=3->finrl==0.3.6) (3.2.0)\r\n",
      "Requirement already satisfied: yarl>=1.7.2 in /Users/tonyren/Workspace/AI4Finance/FinRL/.venv/lib/python3.10/site-packages (from ccxt<4,>=3->finrl==0.3.6) (1.17.1)\r\n",
      "Requirement already satisfied: pyluach in /Users/tonyren/Workspace/AI4Finance/FinRL/.venv/lib/python3.10/site-packages (from exchange-calendars<5,>=4->finrl==0.3.6) (2.2.0)\r\n",
      "Requirement already satisfied: toolz in /Users/tonyren/Workspace/AI4Finance/FinRL/.venv/lib/python3.10/site-packages (from exchange-calendars<5,>=4->finrl==0.3.6) (1.0.0)\r\n",
      "Requirement already satisfied: tzdata in /Users/tonyren/Workspace/AI4Finance/FinRL/.venv/lib/python3.10/site-packages (from exchange-calendars<5,>=4->finrl==0.3.6) (2024.2)\r\n",
      "Requirement already satisfied: korean_lunar_calendar in /Users/tonyren/Workspace/AI4Finance/FinRL/.venv/lib/python3.10/site-packages (from exchange-calendars<5,>=4->finrl==0.3.6) (0.3.1)\r\n",
      "Requirement already satisfied: six in /Users/tonyren/Workspace/AI4Finance/FinRL/.venv/lib/python3.10/site-packages (from jqdatasdk<2,>=1->finrl==0.3.6) (1.16.0)\r\n",
      "Requirement already satisfied: SQLAlchemy>=1.2.8 in /Users/tonyren/Workspace/AI4Finance/FinRL/.venv/lib/python3.10/site-packages (from jqdatasdk<2,>=1->finrl==0.3.6) (2.0.36)\r\n",
      "Requirement already satisfied: pymysql>=0.7.6 in /Users/tonyren/Workspace/AI4Finance/FinRL/.venv/lib/python3.10/site-packages (from jqdatasdk<2,>=1->finrl==0.3.6) (1.1.1)\r\n",
      "Requirement already satisfied: thriftpy2!=0.5.1,>=0.3.9 in /Users/tonyren/Workspace/AI4Finance/FinRL/.venv/lib/python3.10/site-packages (from jqdatasdk<2,>=1->finrl==0.3.6) (0.5.2)\r\n",
      "Requirement already satisfied: ipython>=3.2.3 in /Users/tonyren/Workspace/AI4Finance/FinRL/.venv/lib/python3.10/site-packages (from pyfolio<0.10,>=0.9->finrl==0.3.6) (8.29.0)\r\n",
      "Requirement already satisfied: matplotlib>=1.4.0 in /Users/tonyren/Workspace/AI4Finance/FinRL/.venv/lib/python3.10/site-packages (from pyfolio<0.10,>=0.9->finrl==0.3.6) (3.9.2)\r\n",
      "Requirement already satisfied: pytz>=2014.10 in /Users/tonyren/Workspace/AI4Finance/FinRL/.venv/lib/python3.10/site-packages (from pyfolio<0.10,>=0.9->finrl==0.3.6) (2024.2)\r\n",
      "Requirement already satisfied: scipy>=0.14.0 in /Users/tonyren/Workspace/AI4Finance/FinRL/.venv/lib/python3.10/site-packages (from pyfolio<0.10,>=0.9->finrl==0.3.6) (1.12.0)\r\n",
      "Requirement already satisfied: seaborn>=0.7.1 in /Users/tonyren/Workspace/AI4Finance/FinRL/.venv/lib/python3.10/site-packages (from pyfolio<0.10,>=0.9->finrl==0.3.6) (0.13.2)\r\n",
      "Requirement already satisfied: empyrical>=0.5.0 in /Users/tonyren/Workspace/AI4Finance/FinRL/.venv/lib/python3.10/site-packages (from pyfolio<0.10,>=0.9->finrl==0.3.6) (0.5.5)\r\n",
      "Requirement already satisfied: cvxpy<2.0.0,>=1.1.19 in /Users/tonyren/Workspace/AI4Finance/FinRL/.venv/lib/python3.10/site-packages (from pyportfolioopt<2,>=1->finrl==0.3.6) (1.6.0)\r\n",
      "Requirement already satisfied: click>=7.0 in /Users/tonyren/Workspace/AI4Finance/FinRL/.venv/lib/python3.10/site-packages (from ray<3,>=2->ray[default,tune]<3,>=2->finrl==0.3.6) (8.1.7)\r\n",
      "Requirement already satisfied: filelock in /Users/tonyren/Workspace/AI4Finance/FinRL/.venv/lib/python3.10/site-packages (from ray<3,>=2->ray[default,tune]<3,>=2->finrl==0.3.6) (3.16.1)\r\n",
      "Requirement already satisfied: jsonschema in /Users/tonyren/Workspace/AI4Finance/FinRL/.venv/lib/python3.10/site-packages (from ray<3,>=2->ray[default,tune]<3,>=2->finrl==0.3.6) (4.23.0)\r\n",
      "Requirement already satisfied: protobuf!=3.19.5,>=3.15.3 in /Users/tonyren/Workspace/AI4Finance/FinRL/.venv/lib/python3.10/site-packages (from ray<3,>=2->ray[default,tune]<3,>=2->finrl==0.3.6) (5.28.3)\r\n",
      "Requirement already satisfied: aiosignal in /Users/tonyren/Workspace/AI4Finance/FinRL/.venv/lib/python3.10/site-packages (from ray<3,>=2->ray[default,tune]<3,>=2->finrl==0.3.6) (1.3.1)\r\n",
      "Requirement already satisfied: frozenlist in /Users/tonyren/Workspace/AI4Finance/FinRL/.venv/lib/python3.10/site-packages (from ray<3,>=2->ray[default,tune]<3,>=2->finrl==0.3.6) (1.5.0)\r\n",
      "Requirement already satisfied: tensorboardX>=1.9 in /Users/tonyren/Workspace/AI4Finance/FinRL/.venv/lib/python3.10/site-packages (from ray[default,tune]<3,>=2->finrl==0.3.6) (2.6.2.2)\r\n",
      "Requirement already satisfied: pyarrow>=6.0.1 in /Users/tonyren/Workspace/AI4Finance/FinRL/.venv/lib/python3.10/site-packages (from ray[default,tune]<3,>=2->finrl==0.3.6) (18.0.0)\r\n",
      "Requirement already satisfied: fsspec in /Users/tonyren/Workspace/AI4Finance/FinRL/.venv/lib/python3.10/site-packages (from ray[default,tune]<3,>=2->finrl==0.3.6) (2024.10.0)\r\n",
      "Requirement already satisfied: aiohttp-cors in /Users/tonyren/Workspace/AI4Finance/FinRL/.venv/lib/python3.10/site-packages (from ray[default,tune]<3,>=2->finrl==0.3.6) (0.7.0)\r\n",
      "Requirement already satisfied: colorful in /Users/tonyren/Workspace/AI4Finance/FinRL/.venv/lib/python3.10/site-packages (from ray[default,tune]<3,>=2->finrl==0.3.6) (0.5.6)\r\n",
      "Requirement already satisfied: py-spy>=0.2.0 in /Users/tonyren/Workspace/AI4Finance/FinRL/.venv/lib/python3.10/site-packages (from ray[default,tune]<3,>=2->finrl==0.3.6) (0.4.0)\r\n",
      "Requirement already satisfied: opencensus in /Users/tonyren/Workspace/AI4Finance/FinRL/.venv/lib/python3.10/site-packages (from ray[default,tune]<3,>=2->finrl==0.3.6) (0.11.4)\r\n",
      "Requirement already satisfied: pydantic!=2.0.*,!=2.1.*,!=2.2.*,!=2.3.*,!=2.4.*,<3 in /Users/tonyren/Workspace/AI4Finance/FinRL/.venv/lib/python3.10/site-packages (from ray[default,tune]<3,>=2->finrl==0.3.6) (2.9.2)\r\n",
      "Requirement already satisfied: prometheus-client>=0.7.1 in /Users/tonyren/Workspace/AI4Finance/FinRL/.venv/lib/python3.10/site-packages (from ray[default,tune]<3,>=2->finrl==0.3.6) (0.21.0)\r\n",
      "Requirement already satisfied: smart-open in /Users/tonyren/Workspace/AI4Finance/FinRL/.venv/lib/python3.10/site-packages (from ray[default,tune]<3,>=2->finrl==0.3.6) (7.0.5)\r\n",
      "Requirement already satisfied: virtualenv!=20.21.1,>=20.0.24 in /Users/tonyren/Workspace/AI4Finance/FinRL/.venv/lib/python3.10/site-packages (from ray[default,tune]<3,>=2->finrl==0.3.6) (20.27.1)\r\n",
      "Requirement already satisfied: grpcio>=1.42.0 in /Users/tonyren/Workspace/AI4Finance/FinRL/.venv/lib/python3.10/site-packages (from ray[default,tune]<3,>=2->finrl==0.3.6) (1.67.1)\r\n",
      "Requirement already satisfied: memray in /Users/tonyren/Workspace/AI4Finance/FinRL/.venv/lib/python3.10/site-packages (from ray[default,tune]<3,>=2->finrl==0.3.6) (1.14.0)\r\n",
      "Requirement already satisfied: joblib>=1.2.0 in /Users/tonyren/Workspace/AI4Finance/FinRL/.venv/lib/python3.10/site-packages (from scikit-learn<2,>=1->finrl==0.3.6) (1.4.2)\r\n",
      "Requirement already satisfied: threadpoolctl>=3.1.0 in /Users/tonyren/Workspace/AI4Finance/FinRL/.venv/lib/python3.10/site-packages (from scikit-learn<2,>=1->finrl==0.3.6) (3.5.0)\r\n",
      "Requirement already satisfied: gymnasium<0.30,>=0.28.1 in /Users/tonyren/Workspace/AI4Finance/FinRL/.venv/lib/python3.10/site-packages (from stable-baselines3>=2.0.0a5->stable-baselines3[extra]>=2.0.0a5->finrl==0.3.6) (0.29.1)\r\n",
      "Requirement already satisfied: torch>=1.13 in /Users/tonyren/Workspace/AI4Finance/FinRL/.venv/lib/python3.10/site-packages (from stable-baselines3>=2.0.0a5->stable-baselines3[extra]>=2.0.0a5->finrl==0.3.6) (2.5.1)\r\n",
      "Requirement already satisfied: cloudpickle in /Users/tonyren/Workspace/AI4Finance/FinRL/.venv/lib/python3.10/site-packages (from stable-baselines3>=2.0.0a5->stable-baselines3[extra]>=2.0.0a5->finrl==0.3.6) (3.1.0)\r\n",
      "Requirement already satisfied: opencv-python in /Users/tonyren/Workspace/AI4Finance/FinRL/.venv/lib/python3.10/site-packages (from stable-baselines3[extra]>=2.0.0a5->finrl==0.3.6) (4.10.0.84)\r\n",
      "Requirement already satisfied: pygame in /Users/tonyren/Workspace/AI4Finance/FinRL/.venv/lib/python3.10/site-packages (from stable-baselines3[extra]>=2.0.0a5->finrl==0.3.6) (2.1.0)\r\n",
      "Requirement already satisfied: tensorboard>=2.9.1 in /Users/tonyren/Workspace/AI4Finance/FinRL/.venv/lib/python3.10/site-packages (from stable-baselines3[extra]>=2.0.0a5->finrl==0.3.6) (2.18.0)\r\n",
      "Requirement already satisfied: psutil in /Users/tonyren/Workspace/AI4Finance/FinRL/.venv/lib/python3.10/site-packages (from stable-baselines3[extra]>=2.0.0a5->finrl==0.3.6) (6.1.0)\r\n",
      "Requirement already satisfied: tqdm in /Users/tonyren/Workspace/AI4Finance/FinRL/.venv/lib/python3.10/site-packages (from stable-baselines3[extra]>=2.0.0a5->finrl==0.3.6) (4.67.0)\r\n",
      "Requirement already satisfied: rich in /Users/tonyren/Workspace/AI4Finance/FinRL/.venv/lib/python3.10/site-packages (from stable-baselines3[extra]>=2.0.0a5->finrl==0.3.6) (13.9.4)\r\n",
      "Requirement already satisfied: shimmy~=1.3.0 in /Users/tonyren/Workspace/AI4Finance/FinRL/.venv/lib/python3.10/site-packages (from shimmy[atari]~=1.3.0; extra == \"extra\"->stable-baselines3[extra]>=2.0.0a5->finrl==0.3.6) (1.3.0)\r\n",
      "Requirement already satisfied: pillow in /Users/tonyren/Workspace/AI4Finance/FinRL/.venv/lib/python3.10/site-packages (from stable-baselines3[extra]>=2.0.0a5->finrl==0.3.6) (11.0.0)\r\n",
      "Requirement already satisfied: autorom~=0.6.1 in /Users/tonyren/Workspace/AI4Finance/FinRL/.venv/lib/python3.10/site-packages (from autorom[accept-rom-license]~=0.6.1; extra == \"extra\"->stable-baselines3[extra]>=2.0.0a5->finrl==0.3.6) (0.6.1)\r\n",
      "Requirement already satisfied: psycopg2-binary<2.10,>=2.9 in /Users/tonyren/Workspace/AI4Finance/FinRL/.venv/lib/python3.10/site-packages (from wrds<4,>=3->finrl==0.3.6) (2.9.10)\r\n",
      "Requirement already satisfied: multitasking>=0.0.7 in /Users/tonyren/Workspace/AI4Finance/FinRL/.venv/lib/python3.10/site-packages (from yfinance<0.3,>=0.2->finrl==0.3.6) (0.0.11)\r\n",
      "Requirement already satisfied: lxml>=4.9.1 in /Users/tonyren/Workspace/AI4Finance/FinRL/.venv/lib/python3.10/site-packages (from yfinance<0.3,>=0.2->finrl==0.3.6) (5.3.0)\r\n",
      "Requirement already satisfied: platformdirs>=2.0.0 in /Users/tonyren/Workspace/AI4Finance/FinRL/.venv/lib/python3.10/site-packages (from yfinance<0.3,>=0.2->finrl==0.3.6) (4.3.6)\r\n",
      "Requirement already satisfied: frozendict>=2.3.4 in /Users/tonyren/Workspace/AI4Finance/FinRL/.venv/lib/python3.10/site-packages (from yfinance<0.3,>=0.2->finrl==0.3.6) (2.4.6)\r\n",
      "Requirement already satisfied: peewee>=3.16.2 in /Users/tonyren/Workspace/AI4Finance/FinRL/.venv/lib/python3.10/site-packages (from yfinance<0.3,>=0.2->finrl==0.3.6) (3.17.3)\r\n",
      "Requirement already satisfied: beautifulsoup4>=4.11.1 in /Users/tonyren/Workspace/AI4Finance/FinRL/.venv/lib/python3.10/site-packages (from yfinance<0.3,>=0.2->finrl==0.3.6) (4.12.3)\r\n",
      "Requirement already satisfied: html5lib>=1.1 in /Users/tonyren/Workspace/AI4Finance/FinRL/.venv/lib/python3.10/site-packages (from yfinance<0.3,>=0.2->finrl==0.3.6) (1.1)\r\n",
      "Requirement already satisfied: th in /Users/tonyren/Workspace/AI4Finance/FinRL/.venv/lib/python3.10/site-packages (from elegantrl@ git+https://github.com/AI4Finance-Foundation/ElegantRL.git#egg=elegantrl->finrl==0.3.6) (0.4.1)\r\n",
      "Requirement already satisfied: pycares>=4.0.0 in /Users/tonyren/Workspace/AI4Finance/FinRL/.venv/lib/python3.10/site-packages (from aiodns>=1.1.1->ccxt<4,>=3->finrl==0.3.6) (4.4.0)\r\n",
      "Requirement already satisfied: aiohappyeyeballs>=2.3.0 in /Users/tonyren/Workspace/AI4Finance/FinRL/.venv/lib/python3.10/site-packages (from aiohttp<4,>=3.8.3->alpaca-trade-api<4,>=3->finrl==0.3.6) (2.4.3)\r\n",
      "Requirement already satisfied: attrs>=17.3.0 in /Users/tonyren/Workspace/AI4Finance/FinRL/.venv/lib/python3.10/site-packages (from aiohttp<4,>=3.8.3->alpaca-trade-api<4,>=3->finrl==0.3.6) (24.2.0)\r\n",
      "Requirement already satisfied: multidict<7.0,>=4.5 in /Users/tonyren/Workspace/AI4Finance/FinRL/.venv/lib/python3.10/site-packages (from aiohttp<4,>=3.8.3->alpaca-trade-api<4,>=3->finrl==0.3.6) (6.1.0)\r\n",
      "Requirement already satisfied: async-timeout<5.0,>=4.0 in /Users/tonyren/Workspace/AI4Finance/FinRL/.venv/lib/python3.10/site-packages (from aiohttp<4,>=3.8.3->alpaca-trade-api<4,>=3->finrl==0.3.6) (4.0.3)\r\n",
      "Requirement already satisfied: AutoROM.accept-rom-license in /Users/tonyren/Workspace/AI4Finance/FinRL/.venv/lib/python3.10/site-packages (from autorom[accept-rom-license]~=0.6.1; extra == \"extra\"->stable-baselines3[extra]>=2.0.0a5->finrl==0.3.6) (0.6.1)\r\n",
      "Requirement already satisfied: soupsieve>1.2 in /Users/tonyren/Workspace/AI4Finance/FinRL/.venv/lib/python3.10/site-packages (from beautifulsoup4>=4.11.1->yfinance<0.3,>=0.2->finrl==0.3.6) (2.6)\r\n",
      "Requirement already satisfied: cffi>=1.12 in /Users/tonyren/Workspace/AI4Finance/FinRL/.venv/lib/python3.10/site-packages (from cryptography>=2.6.1->ccxt<4,>=3->finrl==0.3.6) (1.17.1)\r\n",
      "Requirement already satisfied: osqp>=0.6.2 in /Users/tonyren/Workspace/AI4Finance/FinRL/.venv/lib/python3.10/site-packages (from cvxpy<2.0.0,>=1.1.19->pyportfolioopt<2,>=1->finrl==0.3.6) (0.6.7.post3)\r\n",
      "Requirement already satisfied: clarabel>=0.5.0 in /Users/tonyren/Workspace/AI4Finance/FinRL/.venv/lib/python3.10/site-packages (from cvxpy<2.0.0,>=1.1.19->pyportfolioopt<2,>=1->finrl==0.3.6) (0.9.0)\r\n",
      "Requirement already satisfied: scs>=3.2.4.post1 in /Users/tonyren/Workspace/AI4Finance/FinRL/.venv/lib/python3.10/site-packages (from cvxpy<2.0.0,>=1.1.19->pyportfolioopt<2,>=1->finrl==0.3.6) (3.2.7)\r\n",
      "Requirement already satisfied: pandas-datareader>=0.2 in /Users/tonyren/Workspace/AI4Finance/FinRL/.venv/lib/python3.10/site-packages (from empyrical>=0.5.0->pyfolio<0.10,>=0.9->finrl==0.3.6) (0.10.0)\r\n",
      "Requirement already satisfied: typing-extensions>=4.3.0 in /Users/tonyren/Workspace/AI4Finance/FinRL/.venv/lib/python3.10/site-packages (from gymnasium<0.30,>=0.28.1->stable-baselines3>=2.0.0a5->stable-baselines3[extra]>=2.0.0a5->finrl==0.3.6) (4.12.2)\r\n",
      "Requirement already satisfied: farama-notifications>=0.0.1 in /Users/tonyren/Workspace/AI4Finance/FinRL/.venv/lib/python3.10/site-packages (from gymnasium<0.30,>=0.28.1->stable-baselines3>=2.0.0a5->stable-baselines3[extra]>=2.0.0a5->finrl==0.3.6) (0.0.4)\r\n",
      "Requirement already satisfied: webencodings in /Users/tonyren/Workspace/AI4Finance/FinRL/.venv/lib/python3.10/site-packages (from html5lib>=1.1->yfinance<0.3,>=0.2->finrl==0.3.6) (0.5.1)\r\n",
      "Requirement already satisfied: decorator in /Users/tonyren/Workspace/AI4Finance/FinRL/.venv/lib/python3.10/site-packages (from ipython>=3.2.3->pyfolio<0.10,>=0.9->finrl==0.3.6) (5.1.1)\r\n",
      "Requirement already satisfied: jedi>=0.16 in /Users/tonyren/Workspace/AI4Finance/FinRL/.venv/lib/python3.10/site-packages (from ipython>=3.2.3->pyfolio<0.10,>=0.9->finrl==0.3.6) (0.19.2)\r\n",
      "Requirement already satisfied: matplotlib-inline in /Users/tonyren/Workspace/AI4Finance/FinRL/.venv/lib/python3.10/site-packages (from ipython>=3.2.3->pyfolio<0.10,>=0.9->finrl==0.3.6) (0.1.7)\r\n",
      "Requirement already satisfied: prompt-toolkit<3.1.0,>=3.0.41 in /Users/tonyren/Workspace/AI4Finance/FinRL/.venv/lib/python3.10/site-packages (from ipython>=3.2.3->pyfolio<0.10,>=0.9->finrl==0.3.6) (3.0.48)\r\n",
      "Requirement already satisfied: pygments>=2.4.0 in /Users/tonyren/Workspace/AI4Finance/FinRL/.venv/lib/python3.10/site-packages (from ipython>=3.2.3->pyfolio<0.10,>=0.9->finrl==0.3.6) (2.18.0)\r\n",
      "Requirement already satisfied: stack-data in /Users/tonyren/Workspace/AI4Finance/FinRL/.venv/lib/python3.10/site-packages (from ipython>=3.2.3->pyfolio<0.10,>=0.9->finrl==0.3.6) (0.6.3)\r\n",
      "Requirement already satisfied: traitlets>=5.13.0 in /Users/tonyren/Workspace/AI4Finance/FinRL/.venv/lib/python3.10/site-packages (from ipython>=3.2.3->pyfolio<0.10,>=0.9->finrl==0.3.6) (5.14.3)\r\n",
      "Requirement already satisfied: exceptiongroup in /Users/tonyren/Workspace/AI4Finance/FinRL/.venv/lib/python3.10/site-packages (from ipython>=3.2.3->pyfolio<0.10,>=0.9->finrl==0.3.6) (1.2.2)\r\n",
      "Requirement already satisfied: pexpect>4.3 in /Users/tonyren/Workspace/AI4Finance/FinRL/.venv/lib/python3.10/site-packages (from ipython>=3.2.3->pyfolio<0.10,>=0.9->finrl==0.3.6) (4.9.0)\r\n",
      "Requirement already satisfied: contourpy>=1.0.1 in /Users/tonyren/Workspace/AI4Finance/FinRL/.venv/lib/python3.10/site-packages (from matplotlib>=1.4.0->pyfolio<0.10,>=0.9->finrl==0.3.6) (1.3.0)\r\n",
      "Requirement already satisfied: cycler>=0.10 in /Users/tonyren/Workspace/AI4Finance/FinRL/.venv/lib/python3.10/site-packages (from matplotlib>=1.4.0->pyfolio<0.10,>=0.9->finrl==0.3.6) (0.12.1)\r\n",
      "Requirement already satisfied: fonttools>=4.22.0 in /Users/tonyren/Workspace/AI4Finance/FinRL/.venv/lib/python3.10/site-packages (from matplotlib>=1.4.0->pyfolio<0.10,>=0.9->finrl==0.3.6) (4.54.1)\r\n",
      "Requirement already satisfied: kiwisolver>=1.3.1 in /Users/tonyren/Workspace/AI4Finance/FinRL/.venv/lib/python3.10/site-packages (from matplotlib>=1.4.0->pyfolio<0.10,>=0.9->finrl==0.3.6) (1.4.7)\r\n",
      "Requirement already satisfied: pyparsing>=2.3.1 in /Users/tonyren/Workspace/AI4Finance/FinRL/.venv/lib/python3.10/site-packages (from matplotlib>=1.4.0->pyfolio<0.10,>=0.9->finrl==0.3.6) (3.2.0)\r\n",
      "Requirement already satisfied: python-dateutil>=2.7 in /Users/tonyren/Workspace/AI4Finance/FinRL/.venv/lib/python3.10/site-packages (from matplotlib>=1.4.0->pyfolio<0.10,>=0.9->finrl==0.3.6) (2.9.0.post0)\r\n",
      "Requirement already satisfied: annotated-types>=0.6.0 in /Users/tonyren/Workspace/AI4Finance/FinRL/.venv/lib/python3.10/site-packages (from pydantic!=2.0.*,!=2.1.*,!=2.2.*,!=2.3.*,!=2.4.*,<3->ray[default,tune]<3,>=2->finrl==0.3.6) (0.7.0)\r\n",
      "Requirement already satisfied: pydantic-core==2.23.4 in /Users/tonyren/Workspace/AI4Finance/FinRL/.venv/lib/python3.10/site-packages (from pydantic!=2.0.*,!=2.1.*,!=2.2.*,!=2.3.*,!=2.4.*,<3->ray[default,tune]<3,>=2->finrl==0.3.6) (2.23.4)\r\n",
      "Requirement already satisfied: charset-normalizer<4,>=2 in /Users/tonyren/Workspace/AI4Finance/FinRL/.venv/lib/python3.10/site-packages (from requests<3,>2->alpaca-trade-api<4,>=3->finrl==0.3.6) (3.4.0)\r\n",
      "Requirement already satisfied: idna<4,>=2.5 in /Users/tonyren/Workspace/AI4Finance/FinRL/.venv/lib/python3.10/site-packages (from requests<3,>2->alpaca-trade-api<4,>=3->finrl==0.3.6) (3.10)\r\n",
      "Requirement already satisfied: ale-py~=0.8.1 in /Users/tonyren/Workspace/AI4Finance/FinRL/.venv/lib/python3.10/site-packages (from shimmy[atari]~=1.3.0; extra == \"extra\"->stable-baselines3[extra]>=2.0.0a5->finrl==0.3.6) (0.8.1)\r\n",
      "Requirement already satisfied: absl-py>=0.4 in /Users/tonyren/Workspace/AI4Finance/FinRL/.venv/lib/python3.10/site-packages (from tensorboard>=2.9.1->stable-baselines3[extra]>=2.0.0a5->finrl==0.3.6) (2.1.0)\r\n",
      "Requirement already satisfied: markdown>=2.6.8 in /Users/tonyren/Workspace/AI4Finance/FinRL/.venv/lib/python3.10/site-packages (from tensorboard>=2.9.1->stable-baselines3[extra]>=2.0.0a5->finrl==0.3.6) (3.7)\r\n",
      "Requirement already satisfied: tensorboard-data-server<0.8.0,>=0.7.0 in /Users/tonyren/Workspace/AI4Finance/FinRL/.venv/lib/python3.10/site-packages (from tensorboard>=2.9.1->stable-baselines3[extra]>=2.0.0a5->finrl==0.3.6) (0.7.2)\r\n",
      "Requirement already satisfied: werkzeug>=1.0.1 in /Users/tonyren/Workspace/AI4Finance/FinRL/.venv/lib/python3.10/site-packages (from tensorboard>=2.9.1->stable-baselines3[extra]>=2.0.0a5->finrl==0.3.6) (3.1.3)\r\n",
      "Requirement already satisfied: Cython>=3.0.10 in /Users/tonyren/Workspace/AI4Finance/FinRL/.venv/lib/python3.10/site-packages (from thriftpy2!=0.5.1,>=0.3.9->jqdatasdk<2,>=1->finrl==0.3.6) (3.0.11)\r\n",
      "Requirement already satisfied: ply<4.0,>=3.4 in /Users/tonyren/Workspace/AI4Finance/FinRL/.venv/lib/python3.10/site-packages (from thriftpy2!=0.5.1,>=0.3.9->jqdatasdk<2,>=1->finrl==0.3.6) (3.11)\r\n",
      "Requirement already satisfied: networkx in /Users/tonyren/Workspace/AI4Finance/FinRL/.venv/lib/python3.10/site-packages (from torch>=1.13->stable-baselines3>=2.0.0a5->stable-baselines3[extra]>=2.0.0a5->finrl==0.3.6) (3.4.2)\r\n",
      "Requirement already satisfied: jinja2 in /Users/tonyren/Workspace/AI4Finance/FinRL/.venv/lib/python3.10/site-packages (from torch>=1.13->stable-baselines3>=2.0.0a5->stable-baselines3[extra]>=2.0.0a5->finrl==0.3.6) (3.1.4)\r\n",
      "Requirement already satisfied: sympy==1.13.1 in /Users/tonyren/Workspace/AI4Finance/FinRL/.venv/lib/python3.10/site-packages (from torch>=1.13->stable-baselines3>=2.0.0a5->stable-baselines3[extra]>=2.0.0a5->finrl==0.3.6) (1.13.1)\r\n",
      "Requirement already satisfied: mpmath<1.4,>=1.1.0 in /Users/tonyren/Workspace/AI4Finance/FinRL/.venv/lib/python3.10/site-packages (from sympy==1.13.1->torch>=1.13->stable-baselines3>=2.0.0a5->stable-baselines3[extra]>=2.0.0a5->finrl==0.3.6) (1.3.0)\r\n",
      "Requirement already satisfied: distlib<1,>=0.3.7 in /Users/tonyren/Workspace/AI4Finance/FinRL/.venv/lib/python3.10/site-packages (from virtualenv!=20.21.1,>=20.0.24->ray[default,tune]<3,>=2->finrl==0.3.6) (0.3.9)\r\n",
      "Requirement already satisfied: propcache>=0.2.0 in /Users/tonyren/Workspace/AI4Finance/FinRL/.venv/lib/python3.10/site-packages (from yarl>=1.7.2->ccxt<4,>=3->finrl==0.3.6) (0.2.0)\r\n",
      "Requirement already satisfied: jsonschema-specifications>=2023.03.6 in /Users/tonyren/Workspace/AI4Finance/FinRL/.venv/lib/python3.10/site-packages (from jsonschema->ray<3,>=2->ray[default,tune]<3,>=2->finrl==0.3.6) (2024.10.1)\r\n",
      "Requirement already satisfied: referencing>=0.28.4 in /Users/tonyren/Workspace/AI4Finance/FinRL/.venv/lib/python3.10/site-packages (from jsonschema->ray<3,>=2->ray[default,tune]<3,>=2->finrl==0.3.6) (0.35.1)\r\n",
      "Requirement already satisfied: rpds-py>=0.7.1 in /Users/tonyren/Workspace/AI4Finance/FinRL/.venv/lib/python3.10/site-packages (from jsonschema->ray<3,>=2->ray[default,tune]<3,>=2->finrl==0.3.6) (0.21.0)\r\n",
      "Requirement already satisfied: textual>=0.41.0 in /Users/tonyren/Workspace/AI4Finance/FinRL/.venv/lib/python3.10/site-packages (from memray->ray[default,tune]<3,>=2->finrl==0.3.6) (0.85.2)\r\n",
      "Requirement already satisfied: markdown-it-py>=2.2.0 in /Users/tonyren/Workspace/AI4Finance/FinRL/.venv/lib/python3.10/site-packages (from rich->stable-baselines3[extra]>=2.0.0a5->finrl==0.3.6) (3.0.0)\r\n",
      "Requirement already satisfied: opencensus-context>=0.1.3 in /Users/tonyren/Workspace/AI4Finance/FinRL/.venv/lib/python3.10/site-packages (from opencensus->ray[default,tune]<3,>=2->finrl==0.3.6) (0.1.3)\r\n",
      "Requirement already satisfied: google-api-core<3.0.0,>=1.0.0 in /Users/tonyren/Workspace/AI4Finance/FinRL/.venv/lib/python3.10/site-packages (from opencensus->ray[default,tune]<3,>=2->finrl==0.3.6) (2.23.0)\r\n",
      "Requirement already satisfied: wrapt in /Users/tonyren/Workspace/AI4Finance/FinRL/.venv/lib/python3.10/site-packages (from smart-open->ray[default,tune]<3,>=2->finrl==0.3.6) (1.16.0)\r\n",
      "Requirement already satisfied: niltype<2.0,>=0.3 in /Users/tonyren/Workspace/AI4Finance/FinRL/.venv/lib/python3.10/site-packages (from th->elegantrl@ git+https://github.com/AI4Finance-Foundation/ElegantRL.git#egg=elegantrl->finrl==0.3.6) (1.0.2)\r\n",
      "Requirement already satisfied: importlib-resources in /Users/tonyren/Workspace/AI4Finance/FinRL/.venv/lib/python3.10/site-packages (from ale-py~=0.8.1->shimmy[atari]~=1.3.0; extra == \"extra\"->stable-baselines3[extra]>=2.0.0a5->finrl==0.3.6) (6.4.5)\r\n",
      "Requirement already satisfied: pycparser in /Users/tonyren/Workspace/AI4Finance/FinRL/.venv/lib/python3.10/site-packages (from cffi>=1.12->cryptography>=2.6.1->ccxt<4,>=3->finrl==0.3.6) (2.22)\r\n",
      "Requirement already satisfied: googleapis-common-protos<2.0.dev0,>=1.56.2 in /Users/tonyren/Workspace/AI4Finance/FinRL/.venv/lib/python3.10/site-packages (from google-api-core<3.0.0,>=1.0.0->opencensus->ray[default,tune]<3,>=2->finrl==0.3.6) (1.65.0)\r\n",
      "Requirement already satisfied: proto-plus<2.0.0dev,>=1.22.3 in /Users/tonyren/Workspace/AI4Finance/FinRL/.venv/lib/python3.10/site-packages (from google-api-core<3.0.0,>=1.0.0->opencensus->ray[default,tune]<3,>=2->finrl==0.3.6) (1.25.0)\r\n",
      "Requirement already satisfied: google-auth<3.0.dev0,>=2.14.1 in /Users/tonyren/Workspace/AI4Finance/FinRL/.venv/lib/python3.10/site-packages (from google-api-core<3.0.0,>=1.0.0->opencensus->ray[default,tune]<3,>=2->finrl==0.3.6) (2.36.0)\r\n",
      "Requirement already satisfied: parso<0.9.0,>=0.8.4 in /Users/tonyren/Workspace/AI4Finance/FinRL/.venv/lib/python3.10/site-packages (from jedi>=0.16->ipython>=3.2.3->pyfolio<0.10,>=0.9->finrl==0.3.6) (0.8.4)\r\n",
      "Requirement already satisfied: MarkupSafe>=2.0 in /Users/tonyren/Workspace/AI4Finance/FinRL/.venv/lib/python3.10/site-packages (from jinja2->torch>=1.13->stable-baselines3>=2.0.0a5->stable-baselines3[extra]>=2.0.0a5->finrl==0.3.6) (3.0.2)\r\n",
      "Requirement already satisfied: mdurl~=0.1 in /Users/tonyren/Workspace/AI4Finance/FinRL/.venv/lib/python3.10/site-packages (from markdown-it-py>=2.2.0->rich->stable-baselines3[extra]>=2.0.0a5->finrl==0.3.6) (0.1.2)\r\n",
      "Requirement already satisfied: qdldl in /Users/tonyren/Workspace/AI4Finance/FinRL/.venv/lib/python3.10/site-packages (from osqp>=0.6.2->cvxpy<2.0.0,>=1.1.19->pyportfolioopt<2,>=1->finrl==0.3.6) (0.1.7.post4)\r\n",
      "Requirement already satisfied: ptyprocess>=0.5 in /Users/tonyren/Workspace/AI4Finance/FinRL/.venv/lib/python3.10/site-packages (from pexpect>4.3->ipython>=3.2.3->pyfolio<0.10,>=0.9->finrl==0.3.6) (0.7.0)\r\n",
      "Requirement already satisfied: wcwidth in /Users/tonyren/Workspace/AI4Finance/FinRL/.venv/lib/python3.10/site-packages (from prompt-toolkit<3.1.0,>=3.0.41->ipython>=3.2.3->pyfolio<0.10,>=0.9->finrl==0.3.6) (0.2.13)\r\n",
      "Requirement already satisfied: executing>=1.2.0 in /Users/tonyren/Workspace/AI4Finance/FinRL/.venv/lib/python3.10/site-packages (from stack-data->ipython>=3.2.3->pyfolio<0.10,>=0.9->finrl==0.3.6) (2.1.0)\r\n",
      "Requirement already satisfied: asttokens>=2.1.0 in /Users/tonyren/Workspace/AI4Finance/FinRL/.venv/lib/python3.10/site-packages (from stack-data->ipython>=3.2.3->pyfolio<0.10,>=0.9->finrl==0.3.6) (2.4.1)\r\n",
      "Requirement already satisfied: pure-eval in /Users/tonyren/Workspace/AI4Finance/FinRL/.venv/lib/python3.10/site-packages (from stack-data->ipython>=3.2.3->pyfolio<0.10,>=0.9->finrl==0.3.6) (0.2.3)\r\n",
      "Requirement already satisfied: cachetools<6.0,>=2.0.0 in /Users/tonyren/Workspace/AI4Finance/FinRL/.venv/lib/python3.10/site-packages (from google-auth<3.0.dev0,>=2.14.1->google-api-core<3.0.0,>=1.0.0->opencensus->ray[default,tune]<3,>=2->finrl==0.3.6) (5.5.0)\r\n",
      "Requirement already satisfied: pyasn1-modules>=0.2.1 in /Users/tonyren/Workspace/AI4Finance/FinRL/.venv/lib/python3.10/site-packages (from google-auth<3.0.dev0,>=2.14.1->google-api-core<3.0.0,>=1.0.0->opencensus->ray[default,tune]<3,>=2->finrl==0.3.6) (0.4.1)\r\n",
      "Requirement already satisfied: rsa<5,>=3.1.4 in /Users/tonyren/Workspace/AI4Finance/FinRL/.venv/lib/python3.10/site-packages (from google-auth<3.0.dev0,>=2.14.1->google-api-core<3.0.0,>=1.0.0->opencensus->ray[default,tune]<3,>=2->finrl==0.3.6) (4.9)\r\n",
      "Requirement already satisfied: mdit-py-plugins in /Users/tonyren/Workspace/AI4Finance/FinRL/.venv/lib/python3.10/site-packages (from markdown-it-py[linkify,plugins]>=2.1.0->textual>=0.41.0->memray->ray[default,tune]<3,>=2->finrl==0.3.6) (0.4.2)\r\n",
      "Requirement already satisfied: linkify-it-py<3,>=1 in /Users/tonyren/Workspace/AI4Finance/FinRL/.venv/lib/python3.10/site-packages (from markdown-it-py[linkify,plugins]>=2.1.0->textual>=0.41.0->memray->ray[default,tune]<3,>=2->finrl==0.3.6) (2.0.3)\r\n",
      "Requirement already satisfied: uc-micro-py in /Users/tonyren/Workspace/AI4Finance/FinRL/.venv/lib/python3.10/site-packages (from linkify-it-py<3,>=1->markdown-it-py[linkify,plugins]>=2.1.0->textual>=0.41.0->memray->ray[default,tune]<3,>=2->finrl==0.3.6) (1.0.3)\r\n",
      "Requirement already satisfied: pyasn1<0.7.0,>=0.4.6 in /Users/tonyren/Workspace/AI4Finance/FinRL/.venv/lib/python3.10/site-packages (from pyasn1-modules>=0.2.1->google-auth<3.0.dev0,>=2.14.1->google-api-core<3.0.0,>=1.0.0->opencensus->ray[default,tune]<3,>=2->finrl==0.3.6) (0.6.1)\r\n",
      "Building wheels for collected packages: finrl\r\n",
      "  Building editable for finrl (pyproject.toml) ... \u001B[?25ldone\r\n",
      "\u001B[?25h  Created wheel for finrl: filename=finrl-0.3.6-py3-none-any.whl size=9103 sha256=ebb9a360ce7d0d9ebf487c32c03f6b271218e70155a142c8c4b5ad74786d858b\r\n",
      "  Stored in directory: /private/var/folders/fk/ghrbpzjd2ljb898y6fvw8sgc0000gn/T/pip-ephem-wheel-cache-et7dqrhy/wheels/44/e1/3d/fdcf61a6a98fb1ba10ecedc8728a1ae900edde6c6a3397e02c\r\n",
      "Successfully built finrl\r\n",
      "Installing collected packages: finrl\r\n",
      "  Attempting uninstall: finrl\r\n",
      "    Found existing installation: finrl 0.3.6\r\n",
      "    Uninstalling finrl-0.3.6:\r\n",
      "      Successfully uninstalled finrl-0.3.6\r\n",
      "Successfully installed finrl-0.3.6\r\n"
     ]
    }
   ],
   "execution_count": 31
  },
  {
   "cell_type": "code",
   "metadata": {
    "id": "EeMK7Uentj1V",
    "ExecuteTime": {
     "end_time": "2024-11-30T02:10:11.430358Z",
     "start_time": "2024-11-30T02:10:11.428673Z"
    }
   },
   "source": [
    "import warnings\n",
    "warnings.filterwarnings(\"ignore\")"
   ],
   "outputs": [],
   "execution_count": 1
  },
  {
   "cell_type": "code",
   "metadata": {
    "id": "lPqeTTwoh1hn",
    "ExecuteTime": {
     "end_time": "2024-11-30T02:10:13.390953Z",
     "start_time": "2024-11-30T02:10:11.547129Z"
    }
   },
   "source": [
    "import pandas as pd\n",
    "import numpy as np\n",
    "import matplotlib\n",
    "import matplotlib.pyplot as plt\n",
    "# matplotlib.use('Agg')\n",
    "import datetime\n",
    "\n",
    "%matplotlib inline\n",
    "from finrl.config_tickers import CUSTOM_TICKER\n",
    "from finrl.meta.preprocessor.yahoodownloader import YahooDownloader\n",
    "from finrl.meta.preprocessor.preprocessors import FeatureEngineer, data_split\n",
    "from finrl.meta.env_stock_trading.env_stocktrading import StockTradingEnv\n",
    "from finrl.agents.stablebaselines3.models import DRLAgent,DRLEnsembleAgent\n",
    "from finrl.plot import backtest_stats, backtest_plot, get_daily_return, get_baseline\n",
    "from finrl.agents.stablebaselines3.models import hyperparameterized_model_name, MODELS\n",
    "\n",
    "\n",
    "from pprint import pprint\n",
    "\n",
    "import sys\n",
    "import itertools"
   ],
   "outputs": [],
   "execution_count": 2
  },
  {
   "cell_type": "code",
   "metadata": {
    "id": "w9A8CN5R5PuZ",
    "ExecuteTime": {
     "end_time": "2024-11-30T02:10:13.396677Z",
     "start_time": "2024-11-30T02:10:13.393946Z"
    }
   },
   "source": [
    "import os\n",
    "from finrl.main import check_and_make_directories\n",
    "from finrl.config import (\n",
    "    DATA_SAVE_DIR,\n",
    "    TRAINED_MODEL_DIR,\n",
    "    TENSORBOARD_LOG_DIR,\n",
    "    RESULTS_DIR,\n",
    "    INDICATORS,\n",
    "    TRAIN_START_DATE,\n",
    "    TRAIN_END_DATE,\n",
    "    TEST_START_DATE,\n",
    "    TEST_END_DATE,\n",
    "    TRADE_START_DATE,\n",
    "    TRADE_END_DATE,\n",
    ")\n",
    "\n",
    "check_and_make_directories([DATA_SAVE_DIR, TRAINED_MODEL_DIR, TENSORBOARD_LOG_DIR, RESULTS_DIR])"
   ],
   "outputs": [],
   "execution_count": 3
  },
  {
   "cell_type": "code",
   "metadata": {
    "colab": {
     "base_uri": "https://localhost:8080/"
    },
    "id": "yCKm4om-s9kE",
    "outputId": "ee98004d-3f47-4daf-f73a-867e5faf268e",
    "ExecuteTime": {
     "end_time": "2024-11-30T02:10:14.067574Z",
     "start_time": "2024-11-30T02:10:14.064377Z"
    }
   },
   "source": [
    "import os\n",
    "from finrl.main import check_and_make_directories\n",
    "from finrl.config import (\n",
    "    DATA_SAVE_DIR,\n",
    "    TRAINED_MODEL_DIR,\n",
    "    TENSORBOARD_LOG_DIR,\n",
    "    RESULTS_DIR,\n",
    "    INDICATORS,\n",
    "    TRAIN_START_DATE,\n",
    "    TRAIN_END_DATE,\n",
    "    TEST_START_DATE,\n",
    "    TEST_END_DATE,\n",
    "    TRADE_START_DATE,\n",
    "    TRADE_END_DATE,\n",
    ")\n",
    "\n",
    "check_and_make_directories([DATA_SAVE_DIR, TRAINED_MODEL_DIR, TENSORBOARD_LOG_DIR, RESULTS_DIR])\n",
    "\n",
    "from finrl.meta.preprocessor.yahoodownloader import YahooDownloader\n",
    "from finrl.config_tickers import CUSTOM_TICKER\n",
    "from finrl.meta.preprocessor.preprocessors import FeatureEngineer\n",
    "\n",
    "TRAIN_START_DATE = '2010-01-01'\n",
    "TRAIN_END_DATE = '2022-11-10'\n",
    "TEST_START_DATE = '2022-11-11'\n",
    "TEST_END_DATE = '2024-11-11'\n",
    "\n",
    "INDICATORS = ['close_7_s']"
   ],
   "outputs": [],
   "execution_count": 4
  },
  {
   "cell_type": "code",
   "metadata": {
    "ExecuteTime": {
     "end_time": "2024-11-30T02:10:15.568550Z",
     "start_time": "2024-11-30T02:10:15.566005Z"
    }
   },
   "source": [
    "CUSTOM_TICKER = [\n",
    "    \"INTC\"\n",
    "]"
   ],
   "outputs": [],
   "execution_count": 5
  },
  {
   "cell_type": "code",
   "metadata": {
    "ExecuteTime": {
     "end_time": "2024-11-30T02:10:17.920088Z",
     "start_time": "2024-11-30T02:10:17.916313Z"
    }
   },
   "source": [
    "def dummy_stock(n, type='flat'):\n",
    "    if type == 'flat':\n",
    "        return [10]*n\n",
    "    if type == 'triangle':\n",
    "       return (list(np.arange(100,2000,100)) + list(np.arange(2000,100,-100))*n)[0:n]\n",
    "    if type == 'up':\n",
    "       return list(np.arange(10,20000,(20000-10)/n))[0:n]\n",
    "    if type == 'down':\n",
    "       return list(np.arange(20000,10,(10-20000)/n))[0:n]"
   ],
   "outputs": [],
   "execution_count": 6
  },
  {
   "metadata": {
    "ExecuteTime": {
     "end_time": "2024-11-30T02:18:15.755020Z",
     "start_time": "2024-11-30T02:18:15.750922Z"
    }
   },
   "cell_type": "code",
   "source": "(list(np.arange(100,2000,100)) + list(np.arange(2000,100,-100)))*2",
   "outputs": [
    {
     "data": {
      "text/plain": [
       "[100,\n",
       " 200,\n",
       " 300,\n",
       " 400,\n",
       " 500,\n",
       " 600,\n",
       " 700,\n",
       " 800,\n",
       " 900,\n",
       " 1000,\n",
       " 1100,\n",
       " 1200,\n",
       " 1300,\n",
       " 1400,\n",
       " 1500,\n",
       " 1600,\n",
       " 1700,\n",
       " 1800,\n",
       " 1900,\n",
       " 2000,\n",
       " 1900,\n",
       " 1800,\n",
       " 1700,\n",
       " 1600,\n",
       " 1500,\n",
       " 1400,\n",
       " 1300,\n",
       " 1200,\n",
       " 1100,\n",
       " 1000,\n",
       " 900,\n",
       " 800,\n",
       " 700,\n",
       " 600,\n",
       " 500,\n",
       " 400,\n",
       " 300,\n",
       " 200,\n",
       " 100,\n",
       " 200,\n",
       " 300,\n",
       " 400,\n",
       " 500,\n",
       " 600,\n",
       " 700,\n",
       " 800,\n",
       " 900,\n",
       " 1000,\n",
       " 1100,\n",
       " 1200,\n",
       " 1300,\n",
       " 1400,\n",
       " 1500,\n",
       " 1600,\n",
       " 1700,\n",
       " 1800,\n",
       " 1900,\n",
       " 2000,\n",
       " 1900,\n",
       " 1800,\n",
       " 1700,\n",
       " 1600,\n",
       " 1500,\n",
       " 1400,\n",
       " 1300,\n",
       " 1200,\n",
       " 1100,\n",
       " 1000,\n",
       " 900,\n",
       " 800,\n",
       " 700,\n",
       " 600,\n",
       " 500,\n",
       " 400,\n",
       " 300,\n",
       " 200]"
      ]
     },
     "execution_count": 14,
     "metadata": {},
     "output_type": "execute_result"
    }
   ],
   "execution_count": 14
  },
  {
   "cell_type": "code",
   "metadata": {
    "colab": {
     "base_uri": "https://localhost:8080/"
    },
    "id": "jgXfBcjxtj1a",
    "outputId": "07518687-7a3a-43ee-d500-ac50095b512a",
    "ExecuteTime": {
     "end_time": "2024-11-30T02:10:27.606495Z",
     "start_time": "2024-11-30T02:10:24.228414Z"
    }
   },
   "source": [
    "if True:\n",
    "    df = YahooDownloader(start_date = TRAIN_START_DATE,\n",
    "                     end_date = TEST_END_DATE,\n",
    "                     ticker_list = CUSTOM_TICKER).fetch_data()\n",
    "\n",
    "    #df['close'] = dummy_stock(df.shape[0], type='up')\n",
    "    #df['open'] = dummy_stock(df.shape[0], type='up')\n",
    "    #df['low'] = dummy_stock(df.shape[0], type='up')\n",
    "    #df['high'] = dummy_stock(df.shape[0], type='up')\n",
    "    fe = FeatureEngineer(use_technical_indicator=True,\n",
    "                         tech_indicator_list = INDICATORS,\n",
    "                         use_turbulence=True,\n",
    "                         user_defined_feature = False)\n",
    "\n",
    "    processed = fe.preprocess_data(df)\n",
    "    processed = processed.copy()\n",
    "    processed = processed.fillna(0)\n",
    "    processed = processed.replace(np.inf,0)\n",
    "    processed['close_7_s'] = 100*(processed['close_7_s']-processed['close'])/processed['close']\n",
    "\n",
    "\n",
    "    processed.to_csv(\"datasets/processed_sanity.csv\", index=False)"
   ],
   "outputs": [
    {
     "name": "stderr",
     "output_type": "stream",
     "text": [
      "[*********************100%***********************]  1 of 1 completed\n"
     ]
    },
    {
     "name": "stdout",
     "output_type": "stream",
     "text": [
      "Shape of DataFrame:  (3739, 8)\n",
      "Successfully added technical indicators\n",
      "Successfully added turbulence index\n"
     ]
    }
   ],
   "execution_count": 7
  },
  {
   "cell_type": "code",
   "metadata": {
    "colab": {
     "base_uri": "https://localhost:8080/"
    },
    "id": "Q2zqII8rMIqn",
    "outputId": "47edb3e0-2d83-4063-b2e8-c1d988e61da0",
    "ExecuteTime": {
     "end_time": "2024-11-30T02:10:30.068219Z",
     "start_time": "2024-11-30T02:10:30.064553Z"
    }
   },
   "source": [
    "stock_dimension = len(processed.tic.unique())\n",
    "state_space = 1 + 2*stock_dimension + len(INDICATORS)*stock_dimension\n",
    "print(f\"Stock Dimension: {stock_dimension}, State Space: {state_space}\")\n"
   ],
   "outputs": [
    {
     "name": "stdout",
     "output_type": "stream",
     "text": [
      "Stock Dimension: 1, State Space: 4\n"
     ]
    }
   ],
   "execution_count": 8
  },
  {
   "cell_type": "code",
   "metadata": {
    "ExecuteTime": {
     "end_time": "2024-11-30T02:10:30.836894Z",
     "start_time": "2024-11-30T02:10:30.827449Z"
    }
   },
   "source": [
    "import random\n",
    "import copy\n",
    "def generate_hyperparams_list_from_code(num_variations=5, duplication=4):\n",
    "    hyperparams_list = []\n",
    "\n",
    "    # PPO Variations\n",
    "    PPO_variations = {\n",
    "        'learning_rate': [1e-5, 1e-4, 1e-3],\n",
    "        'n_steps': [512, 1024, 2048],\n",
    "        'batch_size': [64, 128],\n",
    "        'gamma': [0.98, 0.99],\n",
    "        'ent_coef': [1e-5, 1e-3],\n",
    "        'clip_range': [0.2, 0.3],\n",
    "        'gae_lambda': [0.95, 0.98]\n",
    "    }\n",
    "\n",
    "    # A2C Variations\n",
    "    A2C_variations = {\n",
    "        'learning_rate': [1e-5, 1e-4, 1e-3, 0.0007],\n",
    "        'n_steps': [5, 10, 20],\n",
    "        'gamma': [0.98, 0.99],\n",
    "        'ent_coef': [1e-5, 1e-3, 0.005],\n",
    "        'normalize_advantage': [True, False],\n",
    "        'use_rms_prop': [True, False]\n",
    "    }\n",
    "\n",
    "    # DDPG Variations\n",
    "    DDPG_variations = {\n",
    "        'learning_rate': [1e-5, 1e-4, 1e-3],\n",
    "        'batch_size': [64, 128],\n",
    "        'buffer_size': [int(1e5), int(1e6)],\n",
    "        'tau': [0.005, 0.01],\n",
    "        'gamma': [0.98, 0.99],\n",
    "        'train_freq': [1, 10],\n",
    "        'action_noise': ['normal', 'ornstein_uhlenbeck']\n",
    "    }\n",
    "\n",
    "    # SAC Variations\n",
    "    SAC_variations = {\n",
    "        'learning_rate': [1e-5, 1e-4, 1e-3],\n",
    "        'batch_size': [64, 128],\n",
    "        'buffer_size': [int(1e5), int(1e6)],\n",
    "        'tau': [0.005, 0.01],\n",
    "        'gamma': [0.98, 0.99],\n",
    "        'train_freq': [1, 10],\n",
    "        'ent_coef': ['auto'],\n",
    "    }\n",
    "\n",
    "    # TD3 Variations\n",
    "    TD3_variations = {\n",
    "        'learning_rate': [1e-5, 1e-4, 1e-3],\n",
    "        'batch_size': [64, 128],\n",
    "        'buffer_size': [int(1e5), int(1e6)],\n",
    "        'tau': [0.005, 0.01],\n",
    "        'gamma': [0.98, 0.99],\n",
    "        'train_freq': [1, 10],\n",
    "        'action_noise': ['normal', 'ornstein_uhlenbeck']\n",
    "    }\n",
    "\n",
    "    # Timesteps Variations\n",
    "    timesteps_variations = {\n",
    "        'a2c': [10000],\n",
    "        'ppo': [10000],\n",
    "        'ddpg': [10000],\n",
    "        'sac': [10000],\n",
    "        'td3': [10000]\n",
    "    }\n",
    "\n",
    "    hyperparams_list = []\n",
    "    for i in range(num_variations):\n",
    "        A2C_kwargs = {k: random.choice(v) for k, v in A2C_variations.items()}\n",
    "        PPO_kwargs = {k: random.choice(v) for k, v in PPO_variations.items()}\n",
    "        DDPG_kwargs = {k: random.choice(v) for k, v in DDPG_variations.items()}\n",
    "        SAC_kwargs = {k: random.choice(v) for k, v in SAC_variations.items()}\n",
    "        TD3_kwargs = {k: random.choice(v) for k, v in TD3_variations.items()}\n",
    "        timesteps_dict = {k: random.choice(v) for k, v in timesteps_variations.items()}\n",
    "\n",
    "        # Assign a unique name to each set\n",
    "        for j in range(duplication):\n",
    "            name = f\"variant_{j+1}\"\n",
    "            print(name)\n",
    "\n",
    "            A2C_kwargs['name'] = name\n",
    "            PPO_kwargs['name'] = name\n",
    "            DDPG_kwargs['name'] = name\n",
    "            SAC_kwargs['name'] = name\n",
    "            TD3_kwargs['name'] = name\n",
    "\n",
    "            hyperparam = {\n",
    "                'A2C_model_kwargs': A2C_kwargs,\n",
    "                'PPO_model_kwargs': PPO_kwargs,\n",
    "                'DDPG_model_kwargs': DDPG_kwargs,\n",
    "                'SAC_model_kwargs': SAC_kwargs,\n",
    "                'TD3_model_kwargs': TD3_kwargs,\n",
    "                'timesteps_dict': timesteps_dict\n",
    "            }\n",
    "\n",
    "            hyperparams_list.append(copy.deepcopy(hyperparam))\n",
    "\n",
    "    return hyperparams_list"
   ],
   "outputs": [],
   "execution_count": 9
  },
  {
   "cell_type": "code",
   "metadata": {
    "ExecuteTime": {
     "end_time": "2024-11-30T02:10:35.498545Z",
     "start_time": "2024-11-30T02:10:35.493090Z"
    }
   },
   "source": "hyperparams_list = generate_hyperparams_list_from_code(num_variations=5, duplication=10)",
   "outputs": [
    {
     "name": "stdout",
     "output_type": "stream",
     "text": [
      "variant_1\n",
      "variant_2\n",
      "variant_3\n",
      "variant_4\n",
      "variant_5\n",
      "variant_6\n",
      "variant_7\n",
      "variant_8\n",
      "variant_9\n",
      "variant_10\n",
      "variant_1\n",
      "variant_2\n",
      "variant_3\n",
      "variant_4\n",
      "variant_5\n",
      "variant_6\n",
      "variant_7\n",
      "variant_8\n",
      "variant_9\n",
      "variant_10\n",
      "variant_1\n",
      "variant_2\n",
      "variant_3\n",
      "variant_4\n",
      "variant_5\n",
      "variant_6\n",
      "variant_7\n",
      "variant_8\n",
      "variant_9\n",
      "variant_10\n",
      "variant_1\n",
      "variant_2\n",
      "variant_3\n",
      "variant_4\n",
      "variant_5\n",
      "variant_6\n",
      "variant_7\n",
      "variant_8\n",
      "variant_9\n",
      "variant_10\n",
      "variant_1\n",
      "variant_2\n",
      "variant_3\n",
      "variant_4\n",
      "variant_5\n",
      "variant_6\n",
      "variant_7\n",
      "variant_8\n",
      "variant_9\n",
      "variant_10\n"
     ]
    }
   ],
   "execution_count": 10
  },
  {
   "cell_type": "code",
   "metadata": {
    "ExecuteTime": {
     "end_time": "2024-11-30T02:10:38.223674Z",
     "start_time": "2024-11-30T02:10:36.543985Z"
    }
   },
   "source": [
    "import ray\n",
    "import random\n",
    "import numpy as np\n",
    "import torch\n",
    "\n",
    "ray.init(ignore_reinit_error=True)\n",
    "\n",
    "@ray.remote\n",
    "def run_ensemble_with_params(hyperparams, seed, processed):\n",
    "\n",
    "    #np.random.seed(seed)\n",
    "    #random.seed(seed)\n",
    "    #torch.manual_seed(seed)\n",
    "    rebalance_window = 100\n",
    "    validation_window = 310\n",
    "\n",
    "    A2C_model_kwargs = hyperparams['A2C_model_kwargs']\n",
    "    PPO_model_kwargs = hyperparams['PPO_model_kwargs']\n",
    "    DDPG_model_kwargs = hyperparams['DDPG_model_kwargs']\n",
    "    SAC_model_kwargs = hyperparams['SAC_model_kwargs']\n",
    "    TD3_model_kwargs = hyperparams['TD3_model_kwargs']\n",
    "    timesteps_dict = hyperparams['timesteps_dict']\n",
    "\n",
    "    env_kwargs = {\n",
    "        \"hmax\": 1000,\n",
    "        \"initial_amount\": 1000000,\n",
    "        \"buy_cost_pct\": 0.001,\n",
    "        \"sell_cost_pct\": 0.001,\n",
    "        \"state_space\": state_space,\n",
    "        \"stock_dim\": stock_dimension,\n",
    "        \"tech_indicator_list\": INDICATORS,\n",
    "        \"action_space\": stock_dimension,\n",
    "        \"reward_scaling\": 1,\n",
    "        \"print_verbosity\":100,\n",
    "    }\n",
    "\n",
    "    # Instantiate and run the ensemble agent\n",
    "    ensemble_agent = DRLEnsembleAgent(\n",
    "        df=processed,\n",
    "        train_period=(TRAIN_START_DATE, TRAIN_END_DATE),\n",
    "        val_test_period=(TEST_START_DATE, TEST_END_DATE),\n",
    "        rebalance_window=rebalance_window,\n",
    "        validation_window=validation_window,\n",
    "        **env_kwargs\n",
    "    )\n",
    "\n",
    "    df_summary = ensemble_agent.run_ensemble_strategy(\n",
    "        A2C_model_kwargs,\n",
    "        PPO_model_kwargs,\n",
    "        DDPG_model_kwargs,\n",
    "        SAC_model_kwargs,\n",
    "        TD3_model_kwargs,\n",
    "        timesteps_dict\n",
    "    )\n",
    "\n",
    "    return df_summary"
   ],
   "outputs": [
    {
     "name": "stderr",
     "output_type": "stream",
     "text": [
      "2024-11-29 18:10:37,729\tINFO worker.py:1807 -- Started a local Ray instance. View the dashboard at \u001B[1m\u001B[32m127.0.0.1:8265 \u001B[39m\u001B[22m\n"
     ]
    }
   ],
   "execution_count": 11
  },
  {
   "cell_type": "code",
   "metadata": {
    "ExecuteTime": {
     "end_time": "2024-11-30T01:45:16.186759Z",
     "start_time": "2024-11-30T01:45:13.834324Z"
    }
   },
   "source": [
    "ray.shutdown()\n"
   ],
   "outputs": [],
   "execution_count": 82
  },
  {
   "cell_type": "code",
   "metadata": {
    "ExecuteTime": {
     "end_time": "2024-11-30T02:16:50.205867Z",
     "start_time": "2024-11-30T02:10:39.973764Z"
    }
   },
   "source": [
    "seeds = [42]\n",
    "futures = []\n",
    "\n",
    "for seed in seeds:\n",
    "    for hyperparams in hyperparams_list:\n",
    "        future = run_ensemble_with_params.remote(\n",
    "            hyperparams,\n",
    "            seed,\n",
    "            processed\n",
    "        )\n",
    "        futures.append(future)\n",
    "\n",
    "results = ray.get(futures)\n",
    "for df_summary in results:\n",
    "    print(df_summary)"
   ],
   "outputs": [
    {
     "name": "stdout",
     "output_type": "stream",
     "text": [
      "  Iter   Val Start     Val End Model Used A2C Sharpe PPO Sharpe DDPG Sharpe  \\\n",
      "0  410  2022-11-14  2024-02-09        PPO   0.024125   0.134721    0.133302   \n",
      "\n",
      "  SAC Sharpe TD3 Sharpe  \n",
      "0        0.0        0.0  \n",
      "  Iter   Val Start     Val End Model Used A2C Sharpe PPO Sharpe DDPG Sharpe  \\\n",
      "0  410  2022-11-14  2024-02-09        SAC   0.043531   0.087926         0.0   \n",
      "\n",
      "  SAC Sharpe TD3 Sharpe  \n",
      "0   0.133302        0.0  \n",
      "  Iter   Val Start     Val End Model Used A2C Sharpe PPO Sharpe DDPG Sharpe  \\\n",
      "0  410  2022-11-14  2024-02-09        TD3   0.110125   0.033671         0.0   \n",
      "\n",
      "  SAC Sharpe TD3 Sharpe  \n",
      "0   0.133302   0.133302  \n",
      "  Iter   Val Start     Val End Model Used A2C Sharpe PPO Sharpe DDPG Sharpe  \\\n",
      "0  410  2022-11-14  2024-02-09       DDPG   0.101471   0.114439    0.133302   \n",
      "\n",
      "  SAC Sharpe TD3 Sharpe  \n",
      "0        0.0        0.0  \n",
      "  Iter   Val Start     Val End Model Used A2C Sharpe PPO Sharpe DDPG Sharpe  \\\n",
      "0  410  2022-11-14  2024-02-09        SAC   0.029186   0.052189         0.0   \n",
      "\n",
      "  SAC Sharpe TD3 Sharpe  \n",
      "0   0.133302        0.0  \n",
      "  Iter   Val Start     Val End Model Used A2C Sharpe PPO Sharpe DDPG Sharpe  \\\n",
      "0  410  2022-11-14  2024-02-09       DDPG   0.022368   0.052525    0.133302   \n",
      "\n",
      "  SAC Sharpe TD3 Sharpe  \n",
      "0   0.133302        0.0  \n",
      "  Iter   Val Start     Val End Model Used A2C Sharpe PPO Sharpe DDPG Sharpe  \\\n",
      "0  410  2022-11-14  2024-02-09        TD3   0.099914   0.044151         0.0   \n",
      "\n",
      "  SAC Sharpe TD3 Sharpe  \n",
      "0   0.133302   0.133302  \n",
      "  Iter   Val Start     Val End Model Used A2C Sharpe PPO Sharpe DDPG Sharpe  \\\n",
      "0  410  2022-11-14  2024-02-09        PPO   0.058268    0.13314         0.0   \n",
      "\n",
      "  SAC Sharpe TD3 Sharpe  \n",
      "0        0.0        0.0  \n",
      "  Iter   Val Start     Val End Model Used A2C Sharpe PPO Sharpe DDPG Sharpe  \\\n",
      "0  410  2022-11-14  2024-02-09        TD3    0.11515   0.113081         0.0   \n",
      "\n",
      "  SAC Sharpe TD3 Sharpe  \n",
      "0        0.0   0.133302  \n",
      "  Iter   Val Start     Val End Model Used A2C Sharpe PPO Sharpe DDPG Sharpe  \\\n",
      "0  410  2022-11-14  2024-02-09        A2C   0.138779   0.105964         0.0   \n",
      "\n",
      "  SAC Sharpe TD3 Sharpe  \n",
      "0        0.0        0.0  \n",
      "  Iter   Val Start     Val End Model Used A2C Sharpe PPO Sharpe DDPG Sharpe  \\\n",
      "0  410  2022-11-14  2024-02-09       DDPG  -0.010755   0.103544    0.133302   \n",
      "\n",
      "  SAC Sharpe TD3 Sharpe  \n",
      "0        0.0        0.0  \n",
      "  Iter   Val Start     Val End Model Used A2C Sharpe PPO Sharpe DDPG Sharpe  \\\n",
      "0  410  2022-11-14  2024-02-09        A2C   0.203987   0.144913         0.0   \n",
      "\n",
      "  SAC Sharpe TD3 Sharpe  \n",
      "0        0.0        0.0  \n",
      "  Iter   Val Start     Val End Model Used A2C Sharpe PPO Sharpe DDPG Sharpe  \\\n",
      "0  410  2022-11-14  2024-02-09        PPO   0.114412   0.134427    0.133302   \n",
      "\n",
      "  SAC Sharpe TD3 Sharpe  \n",
      "0   0.133302        0.0  \n",
      "  Iter   Val Start     Val End Model Used A2C Sharpe PPO Sharpe DDPG Sharpe  \\\n",
      "0  410  2022-11-14  2024-02-09        A2C   0.155776   -0.01551         0.0   \n",
      "\n",
      "  SAC Sharpe TD3 Sharpe  \n",
      "0   0.133302        0.0  \n",
      "  Iter   Val Start     Val End Model Used A2C Sharpe PPO Sharpe DDPG Sharpe  \\\n",
      "0  410  2022-11-14  2024-02-09        PPO   0.138211    0.14822         0.0   \n",
      "\n",
      "  SAC Sharpe TD3 Sharpe  \n",
      "0        0.0        0.0  \n",
      "  Iter   Val Start     Val End Model Used A2C Sharpe PPO Sharpe DDPG Sharpe  \\\n",
      "0  410  2022-11-14  2024-02-09        PPO   0.132573   0.137159    0.133302   \n",
      "\n",
      "  SAC Sharpe TD3 Sharpe  \n",
      "0   0.133302   0.133302  \n",
      "  Iter   Val Start     Val End Model Used A2C Sharpe PPO Sharpe DDPG Sharpe  \\\n",
      "0  410  2022-11-14  2024-02-09        TD3   0.110726   0.100263         0.0   \n",
      "\n",
      "  SAC Sharpe TD3 Sharpe  \n",
      "0        0.0   0.133302  \n",
      "  Iter   Val Start     Val End Model Used A2C Sharpe PPO Sharpe DDPG Sharpe  \\\n",
      "0  410  2022-11-14  2024-02-09        A2C   0.145523   0.019483         0.0   \n",
      "\n",
      "  SAC Sharpe TD3 Sharpe  \n",
      "0   0.133302   0.133302  \n",
      "  Iter   Val Start     Val End Model Used A2C Sharpe PPO Sharpe DDPG Sharpe  \\\n",
      "0  410  2022-11-14  2024-02-09        A2C   0.173661   0.146357         0.0   \n",
      "\n",
      "  SAC Sharpe TD3 Sharpe  \n",
      "0        0.0        0.0  \n",
      "  Iter   Val Start     Val End Model Used A2C Sharpe PPO Sharpe DDPG Sharpe  \\\n",
      "0  410  2022-11-14  2024-02-09        TD3   0.065057   0.104428         0.0   \n",
      "\n",
      "  SAC Sharpe TD3 Sharpe  \n",
      "0        0.0   0.133302  \n",
      "  Iter   Val Start     Val End Model Used A2C Sharpe PPO Sharpe DDPG Sharpe  \\\n",
      "0  410  2022-11-14  2024-02-09        PPO   0.102083   0.140458         0.0   \n",
      "\n",
      "  SAC Sharpe TD3 Sharpe  \n",
      "0        0.0        0.0  \n",
      "  Iter   Val Start     Val End Model Used A2C Sharpe PPO Sharpe DDPG Sharpe  \\\n",
      "0  410  2022-11-14  2024-02-09        PPO    0.05476   0.137452         0.0   \n",
      "\n",
      "  SAC Sharpe TD3 Sharpe  \n",
      "0   0.133302   0.133302  \n",
      "  Iter   Val Start     Val End Model Used A2C Sharpe PPO Sharpe DDPG Sharpe  \\\n",
      "0  410  2022-11-14  2024-02-09        SAC   0.091457  -0.064779         0.0   \n",
      "\n",
      "  SAC Sharpe TD3 Sharpe  \n",
      "0   0.133302        0.0  \n",
      "  Iter   Val Start     Val End Model Used A2C Sharpe PPO Sharpe DDPG Sharpe  \\\n",
      "0  410  2022-11-14  2024-02-09        PPO   0.136166    0.14503         0.0   \n",
      "\n",
      "  SAC Sharpe TD3 Sharpe  \n",
      "0   0.133302   0.133302  \n",
      "  Iter   Val Start     Val End Model Used A2C Sharpe PPO Sharpe DDPG Sharpe  \\\n",
      "0  410  2022-11-14  2024-02-09        TD3  -0.018271   0.092278     0.12986   \n",
      "\n",
      "  SAC Sharpe TD3 Sharpe  \n",
      "0        0.0   0.130786  \n",
      "  Iter   Val Start     Val End Model Used A2C Sharpe PPO Sharpe DDPG Sharpe  \\\n",
      "0  410  2022-11-14  2024-02-09        PPO   0.055274   0.145941    0.133302   \n",
      "\n",
      "  SAC Sharpe TD3 Sharpe  \n",
      "0        0.0        0.0  \n",
      "  Iter   Val Start     Val End Model Used A2C Sharpe PPO Sharpe DDPG Sharpe  \\\n",
      "0  410  2022-11-14  2024-02-09        A2C   0.177961   0.128366         0.0   \n",
      "\n",
      "  SAC Sharpe TD3 Sharpe  \n",
      "0   0.133302        0.0  \n",
      "  Iter   Val Start     Val End Model Used A2C Sharpe PPO Sharpe DDPG Sharpe  \\\n",
      "0  410  2022-11-14  2024-02-09        PPO   0.106711   0.137264    0.133302   \n",
      "\n",
      "  SAC Sharpe TD3 Sharpe  \n",
      "0        0.0   0.133302  \n",
      "  Iter   Val Start     Val End Model Used A2C Sharpe PPO Sharpe DDPG Sharpe  \\\n",
      "0  410  2022-11-14  2024-02-09        TD3   0.080544   0.081724         0.0   \n",
      "\n",
      "  SAC Sharpe TD3 Sharpe  \n",
      "0   0.133302   0.133302  \n",
      "  Iter   Val Start     Val End Model Used A2C Sharpe PPO Sharpe DDPG Sharpe  \\\n",
      "0  410  2022-11-14  2024-02-09       DDPG   0.108814   0.123077    0.133302   \n",
      "\n",
      "  SAC Sharpe TD3 Sharpe  \n",
      "0        0.0   0.133302  \n",
      "  Iter   Val Start     Val End Model Used A2C Sharpe PPO Sharpe DDPG Sharpe  \\\n",
      "0  410  2022-11-14  2024-02-09        A2C   0.101895   0.017805         0.0   \n",
      "\n",
      "  SAC Sharpe TD3 Sharpe  \n",
      "0        0.0        0.0  \n",
      "  Iter   Val Start     Val End Model Used A2C Sharpe PPO Sharpe DDPG Sharpe  \\\n",
      "0  410  2022-11-14  2024-02-09        TD3   0.078243   -0.12351         0.0   \n",
      "\n",
      "  SAC Sharpe TD3 Sharpe  \n",
      "0        0.0   0.133302  \n",
      "  Iter   Val Start     Val End Model Used A2C Sharpe PPO Sharpe DDPG Sharpe  \\\n",
      "0  410  2022-11-14  2024-02-09        PPO   0.118973   0.132199         0.0   \n",
      "\n",
      "  SAC Sharpe TD3 Sharpe  \n",
      "0        0.0        0.0  \n",
      "  Iter   Val Start     Val End Model Used A2C Sharpe PPO Sharpe DDPG Sharpe  \\\n",
      "0  410  2022-11-14  2024-02-09        PPO   0.093798   0.142904         0.0   \n",
      "\n",
      "  SAC Sharpe TD3 Sharpe  \n",
      "0        0.0        0.0  \n",
      "  Iter   Val Start     Val End Model Used A2C Sharpe PPO Sharpe DDPG Sharpe  \\\n",
      "0  410  2022-11-14  2024-02-09       DDPG    0.12066   0.035131    0.133302   \n",
      "\n",
      "  SAC Sharpe TD3 Sharpe  \n",
      "0        0.0   0.133302  \n",
      "  Iter   Val Start     Val End Model Used A2C Sharpe PPO Sharpe DDPG Sharpe  \\\n",
      "0  410  2022-11-14  2024-02-09        PPO   0.061431   0.135459         0.0   \n",
      "\n",
      "  SAC Sharpe TD3 Sharpe  \n",
      "0   0.133302        0.0  \n",
      "  Iter   Val Start     Val End Model Used A2C Sharpe PPO Sharpe DDPG Sharpe  \\\n",
      "0  410  2022-11-14  2024-02-09       DDPG   0.111904  -0.067095    0.133302   \n",
      "\n",
      "  SAC Sharpe TD3 Sharpe  \n",
      "0        0.0   0.133302  \n",
      "  Iter   Val Start     Val End Model Used A2C Sharpe PPO Sharpe DDPG Sharpe  \\\n",
      "0  410  2022-11-14  2024-02-09        A2C   0.138943    0.09414    0.133302   \n",
      "\n",
      "  SAC Sharpe TD3 Sharpe  \n",
      "0   0.133302   0.133302  \n",
      "  Iter   Val Start     Val End Model Used A2C Sharpe PPO Sharpe DDPG Sharpe  \\\n",
      "0  410  2022-11-14  2024-02-09        TD3   0.124956   0.051045         0.0   \n",
      "\n",
      "  SAC Sharpe TD3 Sharpe  \n",
      "0        0.0   0.133302  \n",
      "  Iter   Val Start     Val End Model Used A2C Sharpe PPO Sharpe DDPG Sharpe  \\\n",
      "0  410  2022-11-14  2024-02-09        A2C   0.137394  -0.073231    0.133302   \n",
      "\n",
      "  SAC Sharpe TD3 Sharpe  \n",
      "0        0.0   0.133302  \n",
      "  Iter   Val Start     Val End Model Used A2C Sharpe PPO Sharpe DDPG Sharpe  \\\n",
      "0  410  2022-11-14  2024-02-09        TD3   0.095766   0.122535         0.0   \n",
      "\n",
      "  SAC Sharpe TD3 Sharpe  \n",
      "0   0.133302   0.133302  \n",
      "  Iter   Val Start     Val End Model Used A2C Sharpe PPO Sharpe DDPG Sharpe  \\\n",
      "0  410  2022-11-14  2024-02-09        TD3    0.06942   0.020141         0.0   \n",
      "\n",
      "  SAC Sharpe TD3 Sharpe  \n",
      "0    0.12986   0.133302  \n",
      "  Iter   Val Start     Val End Model Used A2C Sharpe PPO Sharpe DDPG Sharpe  \\\n",
      "0  410  2022-11-14  2024-02-09        A2C   0.132468   0.131581         0.0   \n",
      "\n",
      "  SAC Sharpe TD3 Sharpe  \n",
      "0        0.0        0.0  \n",
      "  Iter   Val Start     Val End Model Used A2C Sharpe PPO Sharpe DDPG Sharpe  \\\n",
      "0  410  2022-11-14  2024-02-09        SAC        0.0   0.063804         0.0   \n",
      "\n",
      "  SAC Sharpe TD3 Sharpe  \n",
      "0   0.133302        0.0  \n",
      "  Iter   Val Start     Val End Model Used A2C Sharpe PPO Sharpe DDPG Sharpe  \\\n",
      "0  410  2022-11-14  2024-02-09        A2C   0.136122   0.121625    0.133302   \n",
      "\n",
      "  SAC Sharpe TD3 Sharpe  \n",
      "0   0.133302   0.133302  \n",
      "  Iter   Val Start     Val End Model Used A2C Sharpe PPO Sharpe DDPG Sharpe  \\\n",
      "0  410  2022-11-14  2024-02-09        A2C   0.132431   0.107712         0.0   \n",
      "\n",
      "  SAC Sharpe TD3 Sharpe  \n",
      "0        0.0        0.0  \n",
      "  Iter   Val Start     Val End Model Used A2C Sharpe PPO Sharpe DDPG Sharpe  \\\n",
      "0  410  2022-11-14  2024-02-09        TD3   0.117441   0.132443         0.0   \n",
      "\n",
      "  SAC Sharpe TD3 Sharpe  \n",
      "0        0.0   0.133302  \n",
      "  Iter   Val Start     Val End Model Used A2C Sharpe PPO Sharpe DDPG Sharpe  \\\n",
      "0  410  2022-11-14  2024-02-09        SAC   0.121005   0.082354         0.0   \n",
      "\n",
      "  SAC Sharpe TD3 Sharpe  \n",
      "0   0.133302        0.0  \n",
      "  Iter   Val Start     Val End Model Used A2C Sharpe PPO Sharpe DDPG Sharpe  \\\n",
      "0  410  2022-11-14  2024-02-09        A2C   0.138608   0.135364         0.0   \n",
      "\n",
      "  SAC Sharpe TD3 Sharpe  \n",
      "0        0.0        0.0  \n",
      "  Iter   Val Start     Val End Model Used A2C Sharpe PPO Sharpe DDPG Sharpe  \\\n",
      "0  410  2022-11-14  2024-02-09       DDPG   0.073313   0.047072    0.133302   \n",
      "\n",
      "  SAC Sharpe TD3 Sharpe  \n",
      "0   0.133302        0.0  \n"
     ]
    }
   ],
   "execution_count": 12
  },
  {
   "cell_type": "code",
   "metadata": {
    "ExecuteTime": {
     "end_time": "2024-11-30T02:19:27.761544Z",
     "start_time": "2024-11-30T02:19:27.750891Z"
    }
   },
   "source": [
    "run_reports = []\n",
    "for hyperparam in hyperparams_list:\n",
    "    for k, v in hyperparam.items():\n",
    "        if 'model_kwargs' in k:\n",
    "            model_name = k.split('_')[0].lower()\n",
    "            run_reports.append([hyperparameterized_model_name(model_name, v),\n",
    "                        model_name, v])\n",
    "\n",
    "performance_stats = pd.DataFrame(run_reports, columns=['hash_id', 'model_name', 'config'])"
   ],
   "outputs": [],
   "execution_count": 15
  },
  {
   "cell_type": "code",
   "metadata": {
    "ExecuteTime": {
     "end_time": "2024-11-30T02:19:28.264427Z",
     "start_time": "2024-11-30T02:19:28.255828Z"
    }
   },
   "source": [
    "performance_stats"
   ],
   "outputs": [
    {
     "data": {
      "text/plain": [
       "                              hash_id model_name  \\\n",
       "0    069f86e304c5e322018de9d1b155c769        a2c   \n",
       "1    764d0976ac29f04eb19b90e27e18bddd        ppo   \n",
       "2    71ca06de729ef73064945daa090ba7cc       ddpg   \n",
       "3    8d1df26cce39ffb0c4e792f2456d00ac        sac   \n",
       "4    0ac3fefc4465dea92cfe9ea549890d45        td3   \n",
       "..                                ...        ...   \n",
       "245  92fedb5e6877bce69737e7e0a7fa3270        a2c   \n",
       "246  f270b6e6014b248e7aade2f1f00c5198        ppo   \n",
       "247  e2796f21b37e2d33159892ac666fa3f5       ddpg   \n",
       "248  76f4cad41f59db7480b772b2b4661411        sac   \n",
       "249  2307ec4fd9bfd60b044837e093251582        td3   \n",
       "\n",
       "                                                config  \n",
       "0    {'learning_rate': 1e-05, 'n_steps': 10, 'gamma...  \n",
       "1    {'learning_rate': 1e-05, 'n_steps': 2048, 'bat...  \n",
       "2    {'learning_rate': 0.0001, 'batch_size': 128, '...  \n",
       "3    {'learning_rate': 0.0001, 'batch_size': 128, '...  \n",
       "4    {'learning_rate': 1e-05, 'batch_size': 64, 'bu...  \n",
       "..                                                 ...  \n",
       "245  {'learning_rate': 0.0007, 'n_steps': 20, 'gamm...  \n",
       "246  {'learning_rate': 0.0001, 'n_steps': 2048, 'ba...  \n",
       "247  {'learning_rate': 0.001, 'batch_size': 64, 'bu...  \n",
       "248  {'learning_rate': 1e-05, 'batch_size': 64, 'bu...  \n",
       "249  {'learning_rate': 0.0001, 'batch_size': 128, '...  \n",
       "\n",
       "[250 rows x 3 columns]"
      ],
      "text/html": [
       "<div>\n",
       "<style scoped>\n",
       "    .dataframe tbody tr th:only-of-type {\n",
       "        vertical-align: middle;\n",
       "    }\n",
       "\n",
       "    .dataframe tbody tr th {\n",
       "        vertical-align: top;\n",
       "    }\n",
       "\n",
       "    .dataframe thead th {\n",
       "        text-align: right;\n",
       "    }\n",
       "</style>\n",
       "<table border=\"1\" class=\"dataframe\">\n",
       "  <thead>\n",
       "    <tr style=\"text-align: right;\">\n",
       "      <th></th>\n",
       "      <th>hash_id</th>\n",
       "      <th>model_name</th>\n",
       "      <th>config</th>\n",
       "    </tr>\n",
       "  </thead>\n",
       "  <tbody>\n",
       "    <tr>\n",
       "      <th>0</th>\n",
       "      <td>069f86e304c5e322018de9d1b155c769</td>\n",
       "      <td>a2c</td>\n",
       "      <td>{'learning_rate': 1e-05, 'n_steps': 10, 'gamma...</td>\n",
       "    </tr>\n",
       "    <tr>\n",
       "      <th>1</th>\n",
       "      <td>764d0976ac29f04eb19b90e27e18bddd</td>\n",
       "      <td>ppo</td>\n",
       "      <td>{'learning_rate': 1e-05, 'n_steps': 2048, 'bat...</td>\n",
       "    </tr>\n",
       "    <tr>\n",
       "      <th>2</th>\n",
       "      <td>71ca06de729ef73064945daa090ba7cc</td>\n",
       "      <td>ddpg</td>\n",
       "      <td>{'learning_rate': 0.0001, 'batch_size': 128, '...</td>\n",
       "    </tr>\n",
       "    <tr>\n",
       "      <th>3</th>\n",
       "      <td>8d1df26cce39ffb0c4e792f2456d00ac</td>\n",
       "      <td>sac</td>\n",
       "      <td>{'learning_rate': 0.0001, 'batch_size': 128, '...</td>\n",
       "    </tr>\n",
       "    <tr>\n",
       "      <th>4</th>\n",
       "      <td>0ac3fefc4465dea92cfe9ea549890d45</td>\n",
       "      <td>td3</td>\n",
       "      <td>{'learning_rate': 1e-05, 'batch_size': 64, 'bu...</td>\n",
       "    </tr>\n",
       "    <tr>\n",
       "      <th>...</th>\n",
       "      <td>...</td>\n",
       "      <td>...</td>\n",
       "      <td>...</td>\n",
       "    </tr>\n",
       "    <tr>\n",
       "      <th>245</th>\n",
       "      <td>92fedb5e6877bce69737e7e0a7fa3270</td>\n",
       "      <td>a2c</td>\n",
       "      <td>{'learning_rate': 0.0007, 'n_steps': 20, 'gamm...</td>\n",
       "    </tr>\n",
       "    <tr>\n",
       "      <th>246</th>\n",
       "      <td>f270b6e6014b248e7aade2f1f00c5198</td>\n",
       "      <td>ppo</td>\n",
       "      <td>{'learning_rate': 0.0001, 'n_steps': 2048, 'ba...</td>\n",
       "    </tr>\n",
       "    <tr>\n",
       "      <th>247</th>\n",
       "      <td>e2796f21b37e2d33159892ac666fa3f5</td>\n",
       "      <td>ddpg</td>\n",
       "      <td>{'learning_rate': 0.001, 'batch_size': 64, 'bu...</td>\n",
       "    </tr>\n",
       "    <tr>\n",
       "      <th>248</th>\n",
       "      <td>76f4cad41f59db7480b772b2b4661411</td>\n",
       "      <td>sac</td>\n",
       "      <td>{'learning_rate': 1e-05, 'batch_size': 64, 'bu...</td>\n",
       "    </tr>\n",
       "    <tr>\n",
       "      <th>249</th>\n",
       "      <td>2307ec4fd9bfd60b044837e093251582</td>\n",
       "      <td>td3</td>\n",
       "      <td>{'learning_rate': 0.0001, 'batch_size': 128, '...</td>\n",
       "    </tr>\n",
       "  </tbody>\n",
       "</table>\n",
       "<p>250 rows × 3 columns</p>\n",
       "</div>"
      ]
     },
     "execution_count": 16,
     "metadata": {},
     "output_type": "execute_result"
    }
   ],
   "execution_count": 16
  },
  {
   "cell_type": "code",
   "metadata": {
    "ExecuteTime": {
     "end_time": "2024-11-30T02:19:30.139530Z",
     "start_time": "2024-11-30T02:19:29.907264Z"
    }
   },
   "source": [
    "portfolio_return = []\n",
    "for i, row in performance_stats.iterrows():\n",
    "    r = (list(pd.read_csv(f'results/account_value_validation_{row[\"hash_id\"]}_410.csv')['account_value'])[-1]/1000000) - 1\n",
    "    portfolio_return.append(r)\n",
    "\n",
    "performance_stats['r'] = portfolio_return\n"
   ],
   "outputs": [],
   "execution_count": 17
  },
  {
   "cell_type": "code",
   "metadata": {
    "ExecuteTime": {
     "end_time": "2024-11-30T02:19:31.006892Z",
     "start_time": "2024-11-30T02:19:31.000716Z"
    }
   },
   "source": [
    "import hashlib\n",
    "performance_stats['config_str'] = [hashlib.md5(str({z for z in x.items() if z[0] != 'name'}).encode()).hexdigest()  for x in performance_stats['config']]"
   ],
   "outputs": [],
   "execution_count": 18
  },
  {
   "cell_type": "code",
   "metadata": {
    "ExecuteTime": {
     "end_time": "2024-11-30T02:19:31.543848Z",
     "start_time": "2024-11-30T02:19:31.536321Z"
    }
   },
   "source": "performance_stats.sort_values(['r'])",
   "outputs": [
    {
     "data": {
      "text/plain": [
       "                              hash_id model_name  \\\n",
       "50   cf4073efc79463b045a17286181c3afe        a2c   \n",
       "156  00d066119e5ab684de8e52980c53b237        ppo   \n",
       "111  6e5c5e02bde7e56536d6c462a659b9f4        ppo   \n",
       "120  eb0bf96569cd5cfdfb5a9548732f1b20        a2c   \n",
       "196  85c4c5724affdf4cd09dc7fa641ed983        ppo   \n",
       "..                                ...        ...   \n",
       "144  7c246b8190e46417f3c5ea99dd498cb8        td3   \n",
       "23   fe56876d04fd996dfbeabf67bebbd8c9        sac   \n",
       "143  61f8ab8caf44afbf7a65a754726bbd81        sac   \n",
       "159  8940bb56e344b10a5dd673dee83553de        td3   \n",
       "78   3f476d8c44eed6407d15da1d8da22635        sac   \n",
       "\n",
       "                                                config         r  \\\n",
       "50   {'learning_rate': 1e-05, 'n_steps': 5, 'gamma'... -0.012347   \n",
       "156  {'learning_rate': 0.001, 'n_steps': 512, 'batc... -0.009493   \n",
       "111  {'learning_rate': 0.0001, 'n_steps': 1024, 'ba... -0.009115   \n",
       "120  {'learning_rate': 1e-05, 'n_steps': 20, 'gamma... -0.008313   \n",
       "196  {'learning_rate': 0.001, 'n_steps': 512, 'batc... -0.005761   \n",
       "..                                                 ...       ...   \n",
       "144  {'learning_rate': 1e-05, 'batch_size': 128, 'b...  0.508574   \n",
       "23   {'learning_rate': 0.0001, 'batch_size': 128, '...  0.508574   \n",
       "143  {'learning_rate': 0.0001, 'batch_size': 128, '...  0.508574   \n",
       "159  {'learning_rate': 0.0001, 'batch_size': 128, '...  0.508574   \n",
       "78   {'learning_rate': 0.001, 'batch_size': 128, 'b...  0.508574   \n",
       "\n",
       "                           config_str  \n",
       "50   4fd6ccc389f1fe7b023d3ca2bc7019a6  \n",
       "156  7012cc6ce0bbcfead8a5be3589ef3720  \n",
       "111  378269c0d7355133aeece6104c50cfee  \n",
       "120  3ed981268ee48f92a656c9537ec0ef9c  \n",
       "196  7012cc6ce0bbcfead8a5be3589ef3720  \n",
       "..                                ...  \n",
       "144  864fe394524f40653cf3f22aef595d46  \n",
       "23   394365c325924c3047cd2b1f05ccff54  \n",
       "143  5e7d632de81a0bc43cf5bd0acb747d3a  \n",
       "159  167515587d73015cf6efce69c7608d4b  \n",
       "78   696662c507b0bf77607d3fbec612e079  \n",
       "\n",
       "[250 rows x 5 columns]"
      ],
      "text/html": [
       "<div>\n",
       "<style scoped>\n",
       "    .dataframe tbody tr th:only-of-type {\n",
       "        vertical-align: middle;\n",
       "    }\n",
       "\n",
       "    .dataframe tbody tr th {\n",
       "        vertical-align: top;\n",
       "    }\n",
       "\n",
       "    .dataframe thead th {\n",
       "        text-align: right;\n",
       "    }\n",
       "</style>\n",
       "<table border=\"1\" class=\"dataframe\">\n",
       "  <thead>\n",
       "    <tr style=\"text-align: right;\">\n",
       "      <th></th>\n",
       "      <th>hash_id</th>\n",
       "      <th>model_name</th>\n",
       "      <th>config</th>\n",
       "      <th>r</th>\n",
       "      <th>config_str</th>\n",
       "    </tr>\n",
       "  </thead>\n",
       "  <tbody>\n",
       "    <tr>\n",
       "      <th>50</th>\n",
       "      <td>cf4073efc79463b045a17286181c3afe</td>\n",
       "      <td>a2c</td>\n",
       "      <td>{'learning_rate': 1e-05, 'n_steps': 5, 'gamma'...</td>\n",
       "      <td>-0.012347</td>\n",
       "      <td>4fd6ccc389f1fe7b023d3ca2bc7019a6</td>\n",
       "    </tr>\n",
       "    <tr>\n",
       "      <th>156</th>\n",
       "      <td>00d066119e5ab684de8e52980c53b237</td>\n",
       "      <td>ppo</td>\n",
       "      <td>{'learning_rate': 0.001, 'n_steps': 512, 'batc...</td>\n",
       "      <td>-0.009493</td>\n",
       "      <td>7012cc6ce0bbcfead8a5be3589ef3720</td>\n",
       "    </tr>\n",
       "    <tr>\n",
       "      <th>111</th>\n",
       "      <td>6e5c5e02bde7e56536d6c462a659b9f4</td>\n",
       "      <td>ppo</td>\n",
       "      <td>{'learning_rate': 0.0001, 'n_steps': 1024, 'ba...</td>\n",
       "      <td>-0.009115</td>\n",
       "      <td>378269c0d7355133aeece6104c50cfee</td>\n",
       "    </tr>\n",
       "    <tr>\n",
       "      <th>120</th>\n",
       "      <td>eb0bf96569cd5cfdfb5a9548732f1b20</td>\n",
       "      <td>a2c</td>\n",
       "      <td>{'learning_rate': 1e-05, 'n_steps': 20, 'gamma...</td>\n",
       "      <td>-0.008313</td>\n",
       "      <td>3ed981268ee48f92a656c9537ec0ef9c</td>\n",
       "    </tr>\n",
       "    <tr>\n",
       "      <th>196</th>\n",
       "      <td>85c4c5724affdf4cd09dc7fa641ed983</td>\n",
       "      <td>ppo</td>\n",
       "      <td>{'learning_rate': 0.001, 'n_steps': 512, 'batc...</td>\n",
       "      <td>-0.005761</td>\n",
       "      <td>7012cc6ce0bbcfead8a5be3589ef3720</td>\n",
       "    </tr>\n",
       "    <tr>\n",
       "      <th>...</th>\n",
       "      <td>...</td>\n",
       "      <td>...</td>\n",
       "      <td>...</td>\n",
       "      <td>...</td>\n",
       "      <td>...</td>\n",
       "    </tr>\n",
       "    <tr>\n",
       "      <th>144</th>\n",
       "      <td>7c246b8190e46417f3c5ea99dd498cb8</td>\n",
       "      <td>td3</td>\n",
       "      <td>{'learning_rate': 1e-05, 'batch_size': 128, 'b...</td>\n",
       "      <td>0.508574</td>\n",
       "      <td>864fe394524f40653cf3f22aef595d46</td>\n",
       "    </tr>\n",
       "    <tr>\n",
       "      <th>23</th>\n",
       "      <td>fe56876d04fd996dfbeabf67bebbd8c9</td>\n",
       "      <td>sac</td>\n",
       "      <td>{'learning_rate': 0.0001, 'batch_size': 128, '...</td>\n",
       "      <td>0.508574</td>\n",
       "      <td>394365c325924c3047cd2b1f05ccff54</td>\n",
       "    </tr>\n",
       "    <tr>\n",
       "      <th>143</th>\n",
       "      <td>61f8ab8caf44afbf7a65a754726bbd81</td>\n",
       "      <td>sac</td>\n",
       "      <td>{'learning_rate': 0.0001, 'batch_size': 128, '...</td>\n",
       "      <td>0.508574</td>\n",
       "      <td>5e7d632de81a0bc43cf5bd0acb747d3a</td>\n",
       "    </tr>\n",
       "    <tr>\n",
       "      <th>159</th>\n",
       "      <td>8940bb56e344b10a5dd673dee83553de</td>\n",
       "      <td>td3</td>\n",
       "      <td>{'learning_rate': 0.0001, 'batch_size': 128, '...</td>\n",
       "      <td>0.508574</td>\n",
       "      <td>167515587d73015cf6efce69c7608d4b</td>\n",
       "    </tr>\n",
       "    <tr>\n",
       "      <th>78</th>\n",
       "      <td>3f476d8c44eed6407d15da1d8da22635</td>\n",
       "      <td>sac</td>\n",
       "      <td>{'learning_rate': 0.001, 'batch_size': 128, 'b...</td>\n",
       "      <td>0.508574</td>\n",
       "      <td>696662c507b0bf77607d3fbec612e079</td>\n",
       "    </tr>\n",
       "  </tbody>\n",
       "</table>\n",
       "<p>250 rows × 5 columns</p>\n",
       "</div>"
      ]
     },
     "execution_count": 19,
     "metadata": {},
     "output_type": "execute_result"
    }
   ],
   "execution_count": 19
  },
  {
   "cell_type": "code",
   "metadata": {
    "colab": {
     "base_uri": "https://localhost:8080/"
    },
    "id": "_1lyCECstj1e",
    "outputId": "056b50cd-f8e8-4192-edd9-f570587ed923",
    "scrolled": true,
    "ExecuteTime": {
     "end_time": "2024-11-30T02:19:32.740694Z",
     "start_time": "2024-11-30T02:19:32.722424Z"
    }
   },
   "source": [
    "performance_stats.groupby('model_name').agg(\n",
    "    avg=('r', 'mean'),\n",
    "    std=('r', 'std')\n",
    ")"
   ],
   "outputs": [
    {
     "data": {
      "text/plain": [
       "                 avg       std\n",
       "model_name                    \n",
       "a2c         0.145820  0.134967\n",
       "ddpg        0.162171  0.238836\n",
       "ppo         0.177065  0.156086\n",
       "sac         0.223200  0.254391\n",
       "td3         0.233318  0.255398"
      ],
      "text/html": [
       "<div>\n",
       "<style scoped>\n",
       "    .dataframe tbody tr th:only-of-type {\n",
       "        vertical-align: middle;\n",
       "    }\n",
       "\n",
       "    .dataframe tbody tr th {\n",
       "        vertical-align: top;\n",
       "    }\n",
       "\n",
       "    .dataframe thead th {\n",
       "        text-align: right;\n",
       "    }\n",
       "</style>\n",
       "<table border=\"1\" class=\"dataframe\">\n",
       "  <thead>\n",
       "    <tr style=\"text-align: right;\">\n",
       "      <th></th>\n",
       "      <th>avg</th>\n",
       "      <th>std</th>\n",
       "    </tr>\n",
       "    <tr>\n",
       "      <th>model_name</th>\n",
       "      <th></th>\n",
       "      <th></th>\n",
       "    </tr>\n",
       "  </thead>\n",
       "  <tbody>\n",
       "    <tr>\n",
       "      <th>a2c</th>\n",
       "      <td>0.145820</td>\n",
       "      <td>0.134967</td>\n",
       "    </tr>\n",
       "    <tr>\n",
       "      <th>ddpg</th>\n",
       "      <td>0.162171</td>\n",
       "      <td>0.238836</td>\n",
       "    </tr>\n",
       "    <tr>\n",
       "      <th>ppo</th>\n",
       "      <td>0.177065</td>\n",
       "      <td>0.156086</td>\n",
       "    </tr>\n",
       "    <tr>\n",
       "      <th>sac</th>\n",
       "      <td>0.223200</td>\n",
       "      <td>0.254391</td>\n",
       "    </tr>\n",
       "    <tr>\n",
       "      <th>td3</th>\n",
       "      <td>0.233318</td>\n",
       "      <td>0.255398</td>\n",
       "    </tr>\n",
       "  </tbody>\n",
       "</table>\n",
       "</div>"
      ]
     },
     "execution_count": 20,
     "metadata": {},
     "output_type": "execute_result"
    }
   ],
   "execution_count": 20
  },
  {
   "cell_type": "code",
   "metadata": {
    "ExecuteTime": {
     "end_time": "2024-11-30T02:19:45.347081Z",
     "start_time": "2024-11-30T02:19:45.342408Z"
    }
   },
   "source": "hyperparams_list[0]",
   "outputs": [
    {
     "data": {
      "text/plain": [
       "{'A2C_model_kwargs': {'learning_rate': 1e-05,\n",
       "  'n_steps': 10,\n",
       "  'gamma': 0.99,\n",
       "  'ent_coef': 0.005,\n",
       "  'normalize_advantage': True,\n",
       "  'use_rms_prop': False,\n",
       "  'name': 'variant_1'},\n",
       " 'PPO_model_kwargs': {'learning_rate': 1e-05,\n",
       "  'n_steps': 2048,\n",
       "  'batch_size': 128,\n",
       "  'gamma': 0.98,\n",
       "  'ent_coef': 1e-05,\n",
       "  'clip_range': 0.3,\n",
       "  'gae_lambda': 0.95,\n",
       "  'name': 'variant_1'},\n",
       " 'DDPG_model_kwargs': {'learning_rate': 0.0001,\n",
       "  'batch_size': 128,\n",
       "  'buffer_size': 100000,\n",
       "  'tau': 0.005,\n",
       "  'gamma': 0.99,\n",
       "  'train_freq': 1,\n",
       "  'action_noise': 'normal',\n",
       "  'name': 'variant_1'},\n",
       " 'SAC_model_kwargs': {'learning_rate': 0.0001,\n",
       "  'batch_size': 128,\n",
       "  'buffer_size': 1000000,\n",
       "  'tau': 0.01,\n",
       "  'gamma': 0.98,\n",
       "  'train_freq': 1,\n",
       "  'ent_coef': 'auto',\n",
       "  'name': 'variant_1'},\n",
       " 'TD3_model_kwargs': {'learning_rate': 1e-05,\n",
       "  'batch_size': 64,\n",
       "  'buffer_size': 1000000,\n",
       "  'tau': 0.01,\n",
       "  'gamma': 0.98,\n",
       "  'train_freq': 10,\n",
       "  'action_noise': 'ornstein_uhlenbeck',\n",
       "  'name': 'variant_1'},\n",
       " 'timesteps_dict': {'a2c': 5000,\n",
       "  'ppo': 5000,\n",
       "  'ddpg': 5000,\n",
       "  'sac': 5000,\n",
       "  'td3': 5000}}"
      ]
     },
     "execution_count": 21,
     "metadata": {},
     "output_type": "execute_result"
    }
   ],
   "execution_count": 21
  },
  {
   "cell_type": "code",
   "metadata": {
    "ExecuteTime": {
     "end_time": "2024-11-30T02:19:51.027753Z",
     "start_time": "2024-11-30T02:19:51.021643Z"
    }
   },
   "source": "performance_stats.to_csv(\"performance_stats_intel_5_variation_10_duplication.csv\")",
   "outputs": [],
   "execution_count": 22
  },
  {
   "cell_type": "code",
   "metadata": {
    "colab": {
     "base_uri": "https://localhost:8080/",
     "height": 89
    },
    "id": "-0qd8acMtj1f",
    "outputId": "ef19ff5d-9173-4268-e50b-6128cf9278f5",
    "ExecuteTime": {
     "end_time": "2024-11-30T02:25:26.784575Z",
     "start_time": "2024-11-30T02:25:26.624945Z"
    }
   },
   "source": [
    "import seaborn as sns\n",
    "import matplotlib.pyplot as plt\n",
    "import seaborn as sns\n",
    "import matplotlib.pyplot as plt\n",
    "from matplotlib.patches import Patch\n",
    "from matplotlib.lines import Line2D\n",
    "import pandas as pd\n",
    "import numpy as np\n",
    "# Sample DataFrame (Replace this with your actual data)\n",
    "import pandas as pd\n",
    "import numpy as np\n",
    "%matplotlib inline\n",
    "\n",
    "# Define the baseline return\n",
    "baseline_return = 0.40  # Adjust based on your actual baseline\n",
    "\n",
    "# Initialize the plot\n",
    "plt.figure(figsize=(12, 8))\n",
    "\n",
    "# Plot the distribution with Seaborn's histplot\n",
    "ax = sns.histplot(\n",
    "    data=performance_stats,\n",
    "    x='r',\n",
    "    hue='model_name',\n",
    "    kde=False,\n",
    "    element='step',\n",
    "    stat='density',\n",
    "    common_norm=False,\n",
    "    alpha=0.4,  # Increased alpha for better visibility\n",
    "    palette='Set2',\n",
    "    legend=False  # Disable automatic legend for manual control\n",
    ")\n",
    "\n",
    "# Add red vertical dotted line for baseline return\n",
    "baseline_line = plt.axvline(\n",
    "    x=baseline_return,\n",
    "    color='red',\n",
    "    linestyle='dotted',\n",
    "    linewidth=2,\n",
    "    label='Buy and Hold Baseline'\n",
    ")\n",
    "\n",
    "# Create custom legend handles for models\n",
    "model_names = performance_stats['model_name'].unique()\n",
    "model_colors = sns.color_palette('Set2', n_colors=len(model_names))\n",
    "model_patches = [Patch(color=model_colors[i], label=model_names[i]) for i in range(len(model_names))]\n",
    "\n",
    "# Create a custom legend handle for the baseline\n",
    "baseline_handle = Line2D([0], [0], color='red', linestyle='dotted', linewidth=2, label='Buy and Hold Baseline')\n",
    "\n",
    "# Combine all legend handles\n",
    "handles = model_patches + [baseline_handle]\n",
    "labels = [patch.get_label() for patch in model_patches] + [baseline_handle.get_label()]\n",
    "\n",
    "# Add the combined legend to the plot\n",
    "plt.legend(handles=handles, labels=labels, title='Model Name', fontsize=12, title_fontsize=14)\n",
    "\n",
    "# Customize the plot\n",
    "plt.title('Distribution of r for Each Model with Baseline Return', fontsize=16)\n",
    "plt.xlabel('r', fontsize=14)\n",
    "plt.ylabel('Density', fontsize=14)\n",
    "plt.tight_layout()\n",
    "\n",
    "# Display the plot\n",
    "plt.show()"
   ],
   "outputs": [
    {
     "data": {
      "text/plain": [
       "<Figure size 1200x800 with 1 Axes>"
      ],
      "image/png": "[encoded data removed]"
     },
     "metadata": {},
     "output_type": "display_data"
    }
   ],
   "execution_count": 27
  },
  {
   "cell_type": "code",
   "execution_count": 1,
   "metadata": {
    "ExecuteTime": {
     "end_time": "2024-11-29T22:44:15.521626Z",
     "start_time": "2024-11-29T22:44:15.505589Z"
    }
   },
   "outputs": [],
   "source": [
    "%load_ext tensorboard\n",
    "\n"
   ]
  },
  {
   "cell_type": "code",
   "execution_count": 2,
   "metadata": {
    "ExecuteTime": {
     "end_time": "2024-11-29T22:44:17.379705Z",
     "start_time": "2024-11-29T22:44:15.845325Z"
    }
   },
   "outputs": [
    {
     "data": {
      "text/plain": [
       "Reusing TensorBoard on port 6006 (pid 49484), started 0:00:23 ago. (Use '!kill 49484' to kill it.)"
      ]
     },
     "metadata": {},
     "output_type": "display_data"
    },
    {
     "data": {
      "text/html": [
       "\n",
       "      <iframe id=\"tensorboard-frame-68d0dfbdc49ba482\" width=\"100%\" height=\"800\" frameborder=\"0\">\n",
       "      </iframe>\n",
       "      <script>\n",
       "        (function() {\n",
       "          const frame = document.getElementById(\"tensorboard-frame-68d0dfbdc49ba482\");\n",
       "          const url = new URL(\"/\", window.location);\n",
       "          const port = 6006;\n",
       "          if (port) {\n",
       "            url.port = port;\n",
       "          }\n",
       "          frame.src = url;\n",
       "        })();\n",
       "      </script>\n",
       "    "
      ],
      "text/plain": [
       "<IPython.core.display.HTML object>"
      ]
     },
     "metadata": {},
     "output_type": "display_data"
    }
   ],
   "source": [
    "%tensorboard --logdir tensorboard_log/\n"
   ]
  },
  {
   "cell_type": "markdown",
   "metadata": {
    "id": "W6vvNSC6h1jZ"
   },
   "source": [
    "<a id='6'></a>\n",
    "# Part 7: Backtest Our Strategy\n",
    "Backtesting plays a key role in evaluating the performance of a trading strategy. Automated backtesting tool is preferred because it reduces the human error. We usually use the Quantopian pyfolio package to backtest our trading strategies. It is easy to use and consists of various individual plots that provide a comprehensive image of the performance of a trading strategy."
   ]
  },
  {
   "cell_type": "code",
   "execution_count": 54,
   "metadata": {
    "ExecuteTime": {
     "end_time": "2024-11-29T05:40:07.130801Z",
     "start_time": "2024-11-29T05:40:07.128500Z"
    }
   },
   "outputs": [],
   "source": [
    "rebalance_window = 100\n",
    "validation_window = 300\n"
   ]
  },
  {
   "cell_type": "code",
   "execution_count": 55,
   "metadata": {
    "ExecuteTime": {
     "end_time": "2024-11-29T05:40:07.467181Z",
     "start_time": "2024-11-29T05:40:07.462232Z"
    },
    "id": "X4JKB--8tj1g"
   },
   "outputs": [],
   "source": [
    "unique_trade_date = processed[(processed.date > TEST_START_DATE)&(processed.date <= TEST_END_DATE)].date.unique()"
   ]
  },
  {
   "cell_type": "code",
   "execution_count": 56,
   "metadata": {
    "ExecuteTime": {
     "end_time": "2024-11-29T05:40:07.971183Z",
     "start_time": "2024-11-29T05:40:07.922378Z"
    },
    "id": "q9mKF7GGtj1g",
    "scrolled": true
   },
   "outputs": [
    {
     "ename": "FileNotFoundError",
     "evalue": "[Errno 2] No such file or directory: 'results/account_value_trade_ensemble_400.csv'",
     "output_type": "error",
     "traceback": [
      "\u001B[0;31m---------------------------------------------------------------------------\u001B[0m",
      "\u001B[0;31mFileNotFoundError\u001B[0m                         Traceback (most recent call last)",
      "Cell \u001B[0;32mIn[56], line 5\u001B[0m\n\u001B[1;32m      3\u001B[0m df_account_value\u001B[38;5;241m=\u001B[39mpd\u001B[38;5;241m.\u001B[39mDataFrame()\n\u001B[1;32m      4\u001B[0m \u001B[38;5;28;01mfor\u001B[39;00m i \u001B[38;5;129;01min\u001B[39;00m \u001B[38;5;28mrange\u001B[39m(rebalance_window\u001B[38;5;241m+\u001B[39mvalidation_window, \u001B[38;5;28mlen\u001B[39m(unique_trade_date)\u001B[38;5;241m+\u001B[39m\u001B[38;5;241m1\u001B[39m,rebalance_window):\n\u001B[0;32m----> 5\u001B[0m     temp \u001B[38;5;241m=\u001B[39m \u001B[43mpd\u001B[49m\u001B[38;5;241;43m.\u001B[39;49m\u001B[43mread_csv\u001B[49m\u001B[43m(\u001B[49m\u001B[38;5;124;43m'\u001B[39;49m\u001B[38;5;124;43mresults/account_value_trade_\u001B[39;49m\u001B[38;5;132;43;01m{}\u001B[39;49;00m\u001B[38;5;124;43m_\u001B[39;49m\u001B[38;5;132;43;01m{}\u001B[39;49;00m\u001B[38;5;124;43m.csv\u001B[39;49m\u001B[38;5;124;43m'\u001B[39;49m\u001B[38;5;241;43m.\u001B[39;49m\u001B[43mformat\u001B[49m\u001B[43m(\u001B[49m\u001B[38;5;124;43m'\u001B[39;49m\u001B[38;5;124;43mensemble\u001B[39;49m\u001B[38;5;124;43m'\u001B[39;49m\u001B[43m,\u001B[49m\u001B[43mi\u001B[49m\u001B[43m)\u001B[49m\u001B[43m)\u001B[49m\n\u001B[1;32m      6\u001B[0m     df_account_value \u001B[38;5;241m=\u001B[39m pd\u001B[38;5;241m.\u001B[39mconcat([df_account_value, temp], ignore_index\u001B[38;5;241m=\u001B[39m\u001B[38;5;28;01mTrue\u001B[39;00m)\n\u001B[1;32m      7\u001B[0m sharpe\u001B[38;5;241m=\u001B[39m(\u001B[38;5;241m252\u001B[39m\u001B[38;5;241m*\u001B[39m\u001B[38;5;241m*\u001B[39m\u001B[38;5;241m0.5\u001B[39m)\u001B[38;5;241m*\u001B[39mdf_account_value\u001B[38;5;241m.\u001B[39maccount_value\u001B[38;5;241m.\u001B[39mpct_change(\u001B[38;5;241m1\u001B[39m)\u001B[38;5;241m.\u001B[39mmean()\u001B[38;5;241m/\u001B[39mdf_account_value\u001B[38;5;241m.\u001B[39maccount_value\u001B[38;5;241m.\u001B[39mpct_change(\u001B[38;5;241m1\u001B[39m)\u001B[38;5;241m.\u001B[39mstd()\n",
      "File \u001B[0;32m~/Workspace/AI4Finance/FinRL/.venv/lib/python3.10/site-packages/pandas/io/parsers/readers.py:1026\u001B[0m, in \u001B[0;36mread_csv\u001B[0;34m(filepath_or_buffer, sep, delimiter, header, names, index_col, usecols, dtype, engine, converters, true_values, false_values, skipinitialspace, skiprows, skipfooter, nrows, na_values, keep_default_na, na_filter, verbose, skip_blank_lines, parse_dates, infer_datetime_format, keep_date_col, date_parser, date_format, dayfirst, cache_dates, iterator, chunksize, compression, thousands, decimal, lineterminator, quotechar, quoting, doublequote, escapechar, comment, encoding, encoding_errors, dialect, on_bad_lines, delim_whitespace, low_memory, memory_map, float_precision, storage_options, dtype_backend)\u001B[0m\n\u001B[1;32m   1013\u001B[0m kwds_defaults \u001B[38;5;241m=\u001B[39m _refine_defaults_read(\n\u001B[1;32m   1014\u001B[0m     dialect,\n\u001B[1;32m   1015\u001B[0m     delimiter,\n\u001B[0;32m   (...)\u001B[0m\n\u001B[1;32m   1022\u001B[0m     dtype_backend\u001B[38;5;241m=\u001B[39mdtype_backend,\n\u001B[1;32m   1023\u001B[0m )\n\u001B[1;32m   1024\u001B[0m kwds\u001B[38;5;241m.\u001B[39mupdate(kwds_defaults)\n\u001B[0;32m-> 1026\u001B[0m \u001B[38;5;28;01mreturn\u001B[39;00m \u001B[43m_read\u001B[49m\u001B[43m(\u001B[49m\u001B[43mfilepath_or_buffer\u001B[49m\u001B[43m,\u001B[49m\u001B[43m \u001B[49m\u001B[43mkwds\u001B[49m\u001B[43m)\u001B[49m\n",
      "File \u001B[0;32m~/Workspace/AI4Finance/FinRL/.venv/lib/python3.10/site-packages/pandas/io/parsers/readers.py:620\u001B[0m, in \u001B[0;36m_read\u001B[0;34m(filepath_or_buffer, kwds)\u001B[0m\n\u001B[1;32m    617\u001B[0m _validate_names(kwds\u001B[38;5;241m.\u001B[39mget(\u001B[38;5;124m\"\u001B[39m\u001B[38;5;124mnames\u001B[39m\u001B[38;5;124m\"\u001B[39m, \u001B[38;5;28;01mNone\u001B[39;00m))\n\u001B[1;32m    619\u001B[0m \u001B[38;5;66;03m# Create the parser.\u001B[39;00m\n\u001B[0;32m--> 620\u001B[0m parser \u001B[38;5;241m=\u001B[39m \u001B[43mTextFileReader\u001B[49m\u001B[43m(\u001B[49m\u001B[43mfilepath_or_buffer\u001B[49m\u001B[43m,\u001B[49m\u001B[43m \u001B[49m\u001B[38;5;241;43m*\u001B[39;49m\u001B[38;5;241;43m*\u001B[39;49m\u001B[43mkwds\u001B[49m\u001B[43m)\u001B[49m\n\u001B[1;32m    622\u001B[0m \u001B[38;5;28;01mif\u001B[39;00m chunksize \u001B[38;5;129;01mor\u001B[39;00m iterator:\n\u001B[1;32m    623\u001B[0m     \u001B[38;5;28;01mreturn\u001B[39;00m parser\n",
      "File \u001B[0;32m~/Workspace/AI4Finance/FinRL/.venv/lib/python3.10/site-packages/pandas/io/parsers/readers.py:1620\u001B[0m, in \u001B[0;36mTextFileReader.__init__\u001B[0;34m(self, f, engine, **kwds)\u001B[0m\n\u001B[1;32m   1617\u001B[0m     \u001B[38;5;28mself\u001B[39m\u001B[38;5;241m.\u001B[39moptions[\u001B[38;5;124m\"\u001B[39m\u001B[38;5;124mhas_index_names\u001B[39m\u001B[38;5;124m\"\u001B[39m] \u001B[38;5;241m=\u001B[39m kwds[\u001B[38;5;124m\"\u001B[39m\u001B[38;5;124mhas_index_names\u001B[39m\u001B[38;5;124m\"\u001B[39m]\n\u001B[1;32m   1619\u001B[0m \u001B[38;5;28mself\u001B[39m\u001B[38;5;241m.\u001B[39mhandles: IOHandles \u001B[38;5;241m|\u001B[39m \u001B[38;5;28;01mNone\u001B[39;00m \u001B[38;5;241m=\u001B[39m \u001B[38;5;28;01mNone\u001B[39;00m\n\u001B[0;32m-> 1620\u001B[0m \u001B[38;5;28mself\u001B[39m\u001B[38;5;241m.\u001B[39m_engine \u001B[38;5;241m=\u001B[39m \u001B[38;5;28;43mself\u001B[39;49m\u001B[38;5;241;43m.\u001B[39;49m\u001B[43m_make_engine\u001B[49m\u001B[43m(\u001B[49m\u001B[43mf\u001B[49m\u001B[43m,\u001B[49m\u001B[43m \u001B[49m\u001B[38;5;28;43mself\u001B[39;49m\u001B[38;5;241;43m.\u001B[39;49m\u001B[43mengine\u001B[49m\u001B[43m)\u001B[49m\n",
      "File \u001B[0;32m~/Workspace/AI4Finance/FinRL/.venv/lib/python3.10/site-packages/pandas/io/parsers/readers.py:1880\u001B[0m, in \u001B[0;36mTextFileReader._make_engine\u001B[0;34m(self, f, engine)\u001B[0m\n\u001B[1;32m   1878\u001B[0m     \u001B[38;5;28;01mif\u001B[39;00m \u001B[38;5;124m\"\u001B[39m\u001B[38;5;124mb\u001B[39m\u001B[38;5;124m\"\u001B[39m \u001B[38;5;129;01mnot\u001B[39;00m \u001B[38;5;129;01min\u001B[39;00m mode:\n\u001B[1;32m   1879\u001B[0m         mode \u001B[38;5;241m+\u001B[39m\u001B[38;5;241m=\u001B[39m \u001B[38;5;124m\"\u001B[39m\u001B[38;5;124mb\u001B[39m\u001B[38;5;124m\"\u001B[39m\n\u001B[0;32m-> 1880\u001B[0m \u001B[38;5;28mself\u001B[39m\u001B[38;5;241m.\u001B[39mhandles \u001B[38;5;241m=\u001B[39m \u001B[43mget_handle\u001B[49m\u001B[43m(\u001B[49m\n\u001B[1;32m   1881\u001B[0m \u001B[43m    \u001B[49m\u001B[43mf\u001B[49m\u001B[43m,\u001B[49m\n\u001B[1;32m   1882\u001B[0m \u001B[43m    \u001B[49m\u001B[43mmode\u001B[49m\u001B[43m,\u001B[49m\n\u001B[1;32m   1883\u001B[0m \u001B[43m    \u001B[49m\u001B[43mencoding\u001B[49m\u001B[38;5;241;43m=\u001B[39;49m\u001B[38;5;28;43mself\u001B[39;49m\u001B[38;5;241;43m.\u001B[39;49m\u001B[43moptions\u001B[49m\u001B[38;5;241;43m.\u001B[39;49m\u001B[43mget\u001B[49m\u001B[43m(\u001B[49m\u001B[38;5;124;43m\"\u001B[39;49m\u001B[38;5;124;43mencoding\u001B[39;49m\u001B[38;5;124;43m\"\u001B[39;49m\u001B[43m,\u001B[49m\u001B[43m \u001B[49m\u001B[38;5;28;43;01mNone\u001B[39;49;00m\u001B[43m)\u001B[49m\u001B[43m,\u001B[49m\n\u001B[1;32m   1884\u001B[0m \u001B[43m    \u001B[49m\u001B[43mcompression\u001B[49m\u001B[38;5;241;43m=\u001B[39;49m\u001B[38;5;28;43mself\u001B[39;49m\u001B[38;5;241;43m.\u001B[39;49m\u001B[43moptions\u001B[49m\u001B[38;5;241;43m.\u001B[39;49m\u001B[43mget\u001B[49m\u001B[43m(\u001B[49m\u001B[38;5;124;43m\"\u001B[39;49m\u001B[38;5;124;43mcompression\u001B[39;49m\u001B[38;5;124;43m\"\u001B[39;49m\u001B[43m,\u001B[49m\u001B[43m \u001B[49m\u001B[38;5;28;43;01mNone\u001B[39;49;00m\u001B[43m)\u001B[49m\u001B[43m,\u001B[49m\n\u001B[1;32m   1885\u001B[0m \u001B[43m    \u001B[49m\u001B[43mmemory_map\u001B[49m\u001B[38;5;241;43m=\u001B[39;49m\u001B[38;5;28;43mself\u001B[39;49m\u001B[38;5;241;43m.\u001B[39;49m\u001B[43moptions\u001B[49m\u001B[38;5;241;43m.\u001B[39;49m\u001B[43mget\u001B[49m\u001B[43m(\u001B[49m\u001B[38;5;124;43m\"\u001B[39;49m\u001B[38;5;124;43mmemory_map\u001B[39;49m\u001B[38;5;124;43m\"\u001B[39;49m\u001B[43m,\u001B[49m\u001B[43m \u001B[49m\u001B[38;5;28;43;01mFalse\u001B[39;49;00m\u001B[43m)\u001B[49m\u001B[43m,\u001B[49m\n\u001B[1;32m   1886\u001B[0m \u001B[43m    \u001B[49m\u001B[43mis_text\u001B[49m\u001B[38;5;241;43m=\u001B[39;49m\u001B[43mis_text\u001B[49m\u001B[43m,\u001B[49m\n\u001B[1;32m   1887\u001B[0m \u001B[43m    \u001B[49m\u001B[43merrors\u001B[49m\u001B[38;5;241;43m=\u001B[39;49m\u001B[38;5;28;43mself\u001B[39;49m\u001B[38;5;241;43m.\u001B[39;49m\u001B[43moptions\u001B[49m\u001B[38;5;241;43m.\u001B[39;49m\u001B[43mget\u001B[49m\u001B[43m(\u001B[49m\u001B[38;5;124;43m\"\u001B[39;49m\u001B[38;5;124;43mencoding_errors\u001B[39;49m\u001B[38;5;124;43m\"\u001B[39;49m\u001B[43m,\u001B[49m\u001B[43m \u001B[49m\u001B[38;5;124;43m\"\u001B[39;49m\u001B[38;5;124;43mstrict\u001B[39;49m\u001B[38;5;124;43m\"\u001B[39;49m\u001B[43m)\u001B[49m\u001B[43m,\u001B[49m\n\u001B[1;32m   1888\u001B[0m \u001B[43m    \u001B[49m\u001B[43mstorage_options\u001B[49m\u001B[38;5;241;43m=\u001B[39;49m\u001B[38;5;28;43mself\u001B[39;49m\u001B[38;5;241;43m.\u001B[39;49m\u001B[43moptions\u001B[49m\u001B[38;5;241;43m.\u001B[39;49m\u001B[43mget\u001B[49m\u001B[43m(\u001B[49m\u001B[38;5;124;43m\"\u001B[39;49m\u001B[38;5;124;43mstorage_options\u001B[39;49m\u001B[38;5;124;43m\"\u001B[39;49m\u001B[43m,\u001B[49m\u001B[43m \u001B[49m\u001B[38;5;28;43;01mNone\u001B[39;49;00m\u001B[43m)\u001B[49m\u001B[43m,\u001B[49m\n\u001B[1;32m   1889\u001B[0m \u001B[43m\u001B[49m\u001B[43m)\u001B[49m\n\u001B[1;32m   1890\u001B[0m \u001B[38;5;28;01massert\u001B[39;00m \u001B[38;5;28mself\u001B[39m\u001B[38;5;241m.\u001B[39mhandles \u001B[38;5;129;01mis\u001B[39;00m \u001B[38;5;129;01mnot\u001B[39;00m \u001B[38;5;28;01mNone\u001B[39;00m\n\u001B[1;32m   1891\u001B[0m f \u001B[38;5;241m=\u001B[39m \u001B[38;5;28mself\u001B[39m\u001B[38;5;241m.\u001B[39mhandles\u001B[38;5;241m.\u001B[39mhandle\n",
      "File \u001B[0;32m~/Workspace/AI4Finance/FinRL/.venv/lib/python3.10/site-packages/pandas/io/common.py:873\u001B[0m, in \u001B[0;36mget_handle\u001B[0;34m(path_or_buf, mode, encoding, compression, memory_map, is_text, errors, storage_options)\u001B[0m\n\u001B[1;32m    868\u001B[0m \u001B[38;5;28;01melif\u001B[39;00m \u001B[38;5;28misinstance\u001B[39m(handle, \u001B[38;5;28mstr\u001B[39m):\n\u001B[1;32m    869\u001B[0m     \u001B[38;5;66;03m# Check whether the filename is to be opened in binary mode.\u001B[39;00m\n\u001B[1;32m    870\u001B[0m     \u001B[38;5;66;03m# Binary mode does not support 'encoding' and 'newline'.\u001B[39;00m\n\u001B[1;32m    871\u001B[0m     \u001B[38;5;28;01mif\u001B[39;00m ioargs\u001B[38;5;241m.\u001B[39mencoding \u001B[38;5;129;01mand\u001B[39;00m \u001B[38;5;124m\"\u001B[39m\u001B[38;5;124mb\u001B[39m\u001B[38;5;124m\"\u001B[39m \u001B[38;5;129;01mnot\u001B[39;00m \u001B[38;5;129;01min\u001B[39;00m ioargs\u001B[38;5;241m.\u001B[39mmode:\n\u001B[1;32m    872\u001B[0m         \u001B[38;5;66;03m# Encoding\u001B[39;00m\n\u001B[0;32m--> 873\u001B[0m         handle \u001B[38;5;241m=\u001B[39m \u001B[38;5;28;43mopen\u001B[39;49m\u001B[43m(\u001B[49m\n\u001B[1;32m    874\u001B[0m \u001B[43m            \u001B[49m\u001B[43mhandle\u001B[49m\u001B[43m,\u001B[49m\n\u001B[1;32m    875\u001B[0m \u001B[43m            \u001B[49m\u001B[43mioargs\u001B[49m\u001B[38;5;241;43m.\u001B[39;49m\u001B[43mmode\u001B[49m\u001B[43m,\u001B[49m\n\u001B[1;32m    876\u001B[0m \u001B[43m            \u001B[49m\u001B[43mencoding\u001B[49m\u001B[38;5;241;43m=\u001B[39;49m\u001B[43mioargs\u001B[49m\u001B[38;5;241;43m.\u001B[39;49m\u001B[43mencoding\u001B[49m\u001B[43m,\u001B[49m\n\u001B[1;32m    877\u001B[0m \u001B[43m            \u001B[49m\u001B[43merrors\u001B[49m\u001B[38;5;241;43m=\u001B[39;49m\u001B[43merrors\u001B[49m\u001B[43m,\u001B[49m\n\u001B[1;32m    878\u001B[0m \u001B[43m            \u001B[49m\u001B[43mnewline\u001B[49m\u001B[38;5;241;43m=\u001B[39;49m\u001B[38;5;124;43m\"\u001B[39;49m\u001B[38;5;124;43m\"\u001B[39;49m\u001B[43m,\u001B[49m\n\u001B[1;32m    879\u001B[0m \u001B[43m        \u001B[49m\u001B[43m)\u001B[49m\n\u001B[1;32m    880\u001B[0m     \u001B[38;5;28;01melse\u001B[39;00m:\n\u001B[1;32m    881\u001B[0m         \u001B[38;5;66;03m# Binary mode\u001B[39;00m\n\u001B[1;32m    882\u001B[0m         handle \u001B[38;5;241m=\u001B[39m \u001B[38;5;28mopen\u001B[39m(handle, ioargs\u001B[38;5;241m.\u001B[39mmode)\n",
      "\u001B[0;31mFileNotFoundError\u001B[0m: [Errno 2] No such file or directory: 'results/account_value_trade_ensemble_400.csv'"
     ]
    }
   ],
   "source": [
    "df_trade_date = pd.DataFrame({'datadate':unique_trade_date})\n",
    "\n",
    "df_account_value=pd.DataFrame()\n",
    "for i in range(rebalance_window+validation_window, len(unique_trade_date)+1,rebalance_window):\n",
    "    temp = pd.read_csv('results/account_value_trade_{}_{}.csv'.format('ensemble',i))\n",
    "    df_account_value = pd.concat([df_account_value, temp], ignore_index=True)\n",
    "sharpe=(252**0.5)*df_account_value.account_value.pct_change(1).mean()/df_account_value.account_value.pct_change(1).std()\n",
    "print('Sharpe Ratio: ',sharpe)\n",
    "df_account_value=df_account_value.join(df_trade_date[validation_window:].reset_index(drop=True))"
   ]
  },
  {
   "cell_type": "code",
   "execution_count": 17,
   "metadata": {
    "id": "oyosyW7_tj1g"
   },
   "outputs": [
    {
     "data": {
      "text/html": [
       "<div>\n",
       "<style scoped>\n",
       "    .dataframe tbody tr th:only-of-type {\n",
       "        vertical-align: middle;\n",
       "    }\n",
       "\n",
       "    .dataframe tbody tr th {\n",
       "        vertical-align: top;\n",
       "    }\n",
       "\n",
       "    .dataframe thead th {\n",
       "        text-align: right;\n",
       "    }\n",
       "</style>\n",
       "<table border=\"1\" class=\"dataframe\">\n",
       "  <thead>\n",
       "    <tr style=\"text-align: right;\">\n",
       "      <th></th>\n",
       "      <th>account_value</th>\n",
       "      <th>date</th>\n",
       "      <th>daily_return</th>\n",
       "      <th>datadate</th>\n",
       "    </tr>\n",
       "  </thead>\n",
       "  <tbody>\n",
       "    <tr>\n",
       "      <th>0</th>\n",
       "      <td>1000000.000000</td>\n",
       "      <td>2024-01-26</td>\n",
       "      <td>NaN</td>\n",
       "      <td>2024-01-26</td>\n",
       "    </tr>\n",
       "    <tr>\n",
       "      <th>1</th>\n",
       "      <td>999948.581878</td>\n",
       "      <td>2024-01-29</td>\n",
       "      <td>-0.000051</td>\n",
       "      <td>2024-01-29</td>\n",
       "    </tr>\n",
       "    <tr>\n",
       "      <th>2</th>\n",
       "      <td>999936.210695</td>\n",
       "      <td>2024-01-30</td>\n",
       "      <td>-0.000012</td>\n",
       "      <td>2024-01-30</td>\n",
       "    </tr>\n",
       "    <tr>\n",
       "      <th>3</th>\n",
       "      <td>999601.844153</td>\n",
       "      <td>2024-01-31</td>\n",
       "      <td>-0.000334</td>\n",
       "      <td>2024-01-31</td>\n",
       "    </tr>\n",
       "    <tr>\n",
       "      <th>4</th>\n",
       "      <td>999829.587885</td>\n",
       "      <td>2024-02-01</td>\n",
       "      <td>0.000228</td>\n",
       "      <td>2024-02-01</td>\n",
       "    </tr>\n",
       "  </tbody>\n",
       "</table>\n",
       "</div>"
      ],
      "text/plain": [
       "    account_value        date  daily_return    datadate\n",
       "0  1000000.000000  2024-01-26           NaN  2024-01-26\n",
       "1   999948.581878  2024-01-29     -0.000051  2024-01-29\n",
       "2   999936.210695  2024-01-30     -0.000012  2024-01-30\n",
       "3   999601.844153  2024-01-31     -0.000334  2024-01-31\n",
       "4   999829.587885  2024-02-01      0.000228  2024-02-01"
      ]
     },
     "execution_count": 17,
     "metadata": {},
     "output_type": "execute_result"
    }
   ],
   "source": [
    "df_account_value.head()"
   ]
  },
  {
   "cell_type": "code",
   "metadata": {
    "id": "wLsRdw2Ctj1h",
    "ExecuteTime": {
     "end_time": "2024-11-30T01:43:43.150078Z",
     "start_time": "2024-11-30T01:43:43.098039Z"
    }
   },
   "source": [
    "import matplotlib.pyplot as plt\n",
    "import pandas as pd\n",
    "%matplotlib inline\n",
    "# Convert the date column to datetime format\n",
    "#df_account_value['date'] = pd.to_datetime(df_account_value['date'])\n",
    "\n",
    "# Set the date column as the index\n",
    "#df_account_value.set_index('date', inplace=True)\n",
    "\n",
    "# Visualization 1: Line plot for account value over time, with weekly xticks\n",
    "plt.figure(figsize=(12, 6))\n",
    "plt.plot(df_account_value.index, df_account_value['account_value'], marker='o', color='b')\n",
    "plt.title('Account Value Over Time')\n",
    "plt.xlabel('Date')\n",
    "plt.ylabel('Account Value')\n",
    "\n",
    "# Set xticks to display weekly intervals\n",
    "plt.xticks(pd.date_range(start=df_account_value.index.min(), end=df_account_value.index.max(), freq='W'))\n",
    "plt.gca().xaxis.set_major_formatter(plt.matplotlib.dates.DateFormatter('%Y-%m-%d'))\n",
    "\n",
    "plt.xticks(rotation=45)\n",
    "plt.grid(True)\n",
    "plt.tight_layout()\n",
    "plt.show()"
   ],
   "outputs": [
    {
     "ename": "NameError",
     "evalue": "name 'df_account_value' is not defined",
     "output_type": "error",
     "traceback": [
      "\u001B[0;31m---------------------------------------------------------------------------\u001B[0m",
      "\u001B[0;31mNameError\u001B[0m                                 Traceback (most recent call last)",
      "Cell \u001B[0;32mIn[69], line 12\u001B[0m\n\u001B[1;32m      4\u001B[0m \u001B[38;5;66;03m# Convert the date column to datetime format\u001B[39;00m\n\u001B[1;32m      5\u001B[0m \u001B[38;5;66;03m#df_account_value['date'] = pd.to_datetime(df_account_value['date'])\u001B[39;00m\n\u001B[1;32m      6\u001B[0m \n\u001B[0;32m   (...)\u001B[0m\n\u001B[1;32m      9\u001B[0m \n\u001B[1;32m     10\u001B[0m \u001B[38;5;66;03m# Visualization 1: Line plot for account value over time, with weekly xticks\u001B[39;00m\n\u001B[1;32m     11\u001B[0m plt\u001B[38;5;241m.\u001B[39mfigure(figsize\u001B[38;5;241m=\u001B[39m(\u001B[38;5;241m12\u001B[39m, \u001B[38;5;241m6\u001B[39m))\n\u001B[0;32m---> 12\u001B[0m plt\u001B[38;5;241m.\u001B[39mplot(\u001B[43mdf_account_value\u001B[49m\u001B[38;5;241m.\u001B[39mindex, df_account_value[\u001B[38;5;124m'\u001B[39m\u001B[38;5;124maccount_value\u001B[39m\u001B[38;5;124m'\u001B[39m], marker\u001B[38;5;241m=\u001B[39m\u001B[38;5;124m'\u001B[39m\u001B[38;5;124mo\u001B[39m\u001B[38;5;124m'\u001B[39m, color\u001B[38;5;241m=\u001B[39m\u001B[38;5;124m'\u001B[39m\u001B[38;5;124mb\u001B[39m\u001B[38;5;124m'\u001B[39m)\n\u001B[1;32m     13\u001B[0m plt\u001B[38;5;241m.\u001B[39mtitle(\u001B[38;5;124m'\u001B[39m\u001B[38;5;124mAccount Value Over Time\u001B[39m\u001B[38;5;124m'\u001B[39m)\n\u001B[1;32m     14\u001B[0m plt\u001B[38;5;241m.\u001B[39mxlabel(\u001B[38;5;124m'\u001B[39m\u001B[38;5;124mDate\u001B[39m\u001B[38;5;124m'\u001B[39m)\n",
      "\u001B[0;31mNameError\u001B[0m: name 'df_account_value' is not defined"
     ]
    },
    {
     "data": {
      "text/plain": [
       "<Figure size 1200x600 with 0 Axes>"
      ]
     },
     "metadata": {},
     "output_type": "display_data"
    }
   ],
   "execution_count": 69
  },
  {
   "cell_type": "code",
   "metadata": {
    "ExecuteTime": {
     "end_time": "2024-11-30T02:25:12.690725Z",
     "start_time": "2024-11-30T02:25:12.355164Z"
    }
   },
   "source": [
    "import pandas as pd\n",
    "import matplotlib.pyplot as plt\n",
    "\n",
    "# Create a copy of the processed dataframe\n",
    "portfolio_data = processed.copy()\n",
    "\n",
    "# Ensure the date column is in datetime format in the copied dataframe\n",
    "portfolio_data['date'] = pd.to_datetime(portfolio_data['date'])\n",
    "\n",
    "# Set the initial investment amount\n",
    "initial_investment = 1_000_000\n",
    "\n",
    "# Define the start and end dates for the analysis\n",
    "start_date = pd.to_datetime('2022-11-14')\n",
    "end_date = pd.to_datetime('2024-02-08')\n",
    "\n",
    "# Filter the dataframe for the starting date to get initial prices\n",
    "initial_prices = portfolio_data[portfolio_data['date'] == start_date].copy()\n",
    "\n",
    "# Calculate the number of shares purchased for each stock\n",
    "initial_prices['shares'] = initial_investment / len(initial_prices) / initial_prices['open']\n",
    "\n",
    "# Merge the number of shares into the copied dataframe\n",
    "portfolio_data = portfolio_data.merge(initial_prices[['tic', 'shares']], on='tic', how='inner')\n",
    "\n",
    "# Calculate the daily portfolio value\n",
    "portfolio_data['daily_value'] = portfolio_data['close'] * portfolio_data['shares']\n",
    "df_account_value_buynhold = portfolio_data.groupby('date')['daily_value'].sum().reset_index()\n",
    "df_account_value_buynhold.rename(columns={'daily_value': 'account_value'}, inplace=True)\n",
    "\n",
    "# Filter the data between the start_date and end_date\n",
    "df_account_value_buynhold['date'] = pd.to_datetime(df_account_value_buynhold['date'])\n",
    "df_account_value_buynhold = df_account_value_buynhold[\n",
    "    (df_account_value_buynhold['date'] >= start_date) & (df_account_value_buynhold['date'] <= end_date)\n",
    "]\n",
    "\n",
    "# Set the date column as the index\n",
    "df_account_value_buynhold.set_index('date', inplace=True)\n",
    "\n",
    "# Visualization\n",
    "plt.figure(figsize=(12, 6))\n",
    "plt.plot(df_account_value_buynhold.index, df_account_value_buynhold['account_value'], marker='o', color='b')\n",
    "plt.title('Portfolio Value Over Time (Buy and Hold Strategy)')\n",
    "plt.xlabel('Date')\n",
    "plt.ylabel('Portfolio Value ($)')\n",
    "\n",
    "# Set xticks to display weekly intervals\n",
    "plt.xticks(pd.date_range(start=df_account_value_buynhold.index.min(),\n",
    "                         end=df_account_value_buynhold.index.max(), freq='W'))\n",
    "plt.gca().xaxis.set_major_formatter(plt.matplotlib.dates.DateFormatter('%Y-%m-%d'))\n",
    "\n",
    "plt.xticks(rotation=45)\n",
    "plt.grid(True)\n",
    "plt.tight_layout()\n",
    "plt.show()\n",
    "\n",
    "now = datetime.datetime.now().strftime('%Y%m%d-%Hh%M')\n",
    "df_account_value_buynhold['datadate'] = list(df_account_value_buynhold.index)\n",
    "df_account_value_buynhold['date'] = list(df_account_value_buynhold.index)\n",
    "perf_stats_all = backtest_stats(account_value=df_account_value_buynhold)\n",
    "perf_stats_all = pd.DataFrame(perf_stats_all)\n",
    "\n"
   ],
   "outputs": [
    {
     "data": {
      "text/plain": [
       "<Figure size 1200x600 with 1 Axes>"
      ],
      "image/png": "[encoded data removed]"
     },
     "metadata": {},
     "output_type": "display_data"
    },
    {
     "name": "stdout",
     "output_type": "stream",
     "text": [
      "Annual return          0.320718\n",
      "Cumulative returns     0.408042\n",
      "Annual volatility      0.403973\n",
      "Sharpe ratio           0.892573\n",
      "Calmar ratio           1.619210\n",
      "Stability              0.819204\n",
      "Max drawdown          -0.198071\n",
      "Omega ratio            1.167261\n",
      "Sortino ratio          1.330988\n",
      "Skew                        NaN\n",
      "Kurtosis                    NaN\n",
      "Tail ratio             1.144855\n",
      "Daily value at risk   -0.049465\n",
      "dtype: float64\n"
     ]
    }
   ],
   "execution_count": 26
  },
  {
   "cell_type": "code",
   "execution_count": 58,
   "metadata": {
    "ExecuteTime": {
     "end_time": "2024-11-29T05:41:47.715566Z",
     "start_time": "2024-11-29T05:41:47.415088Z"
    }
   },
   "outputs": [
    {
     "data": {
      "image/png": "[encoded data removed]",
      "text/plain": [
       "<Figure size 1200x600 with 1 Axes>"
      ]
     },
     "metadata": {},
     "output_type": "display_data"
    },
    {
     "name": "stdout",
     "output_type": "stream",
     "text": [
      "Annual return         -0.259010\n",
      "Cumulative returns    -0.192749\n",
      "Annual volatility      0.291997\n",
      "Sharpe ratio          -0.885534\n",
      "Calmar ratio          -0.798794\n",
      "Stability              0.786265\n",
      "Max drawdown          -0.324251\n",
      "Omega ratio            0.861795\n",
      "Sortino ratio         -1.190751\n",
      "Skew                        NaN\n",
      "Kurtosis                    NaN\n",
      "Tail ratio             1.232643\n",
      "Daily value at risk   -0.037814\n",
      "dtype: float64\n"
     ]
    }
   ],
   "source": [
    "import pandas as pd\n",
    "import matplotlib.pyplot as plt\n",
    "\n",
    "# Create a copy of the processed dataframe\n",
    "portfolio_data = processed.copy()\n",
    "\n",
    "# Ensure the date column is in datetime format in the copied dataframe\n",
    "portfolio_data['date'] = pd.to_datetime(portfolio_data['date'])\n",
    "\n",
    "# Set the initial investment amount\n",
    "initial_investment = 1_000_000\n",
    "\n",
    "# Define the start and end dates for the analysis\n",
    "start_date = pd.to_datetime('2024-01-26')\n",
    "end_date = pd.to_datetime('2024-10-11')\n",
    "\n",
    "# Filter the dataframe for the starting date to get initial prices\n",
    "initial_prices = portfolio_data[portfolio_data['date'] == start_date].copy()\n",
    "\n",
    "# Calculate the number of shares purchased for each stock\n",
    "initial_prices['shares'] = initial_investment / len(initial_prices) / initial_prices['open']\n",
    "\n",
    "# Merge the number of shares into the copied dataframe\n",
    "portfolio_data = portfolio_data.merge(initial_prices[['tic', 'shares']], on='tic', how='inner')\n",
    "\n",
    "# Calculate the daily portfolio value\n",
    "portfolio_data['daily_value'] = portfolio_data['close'] * portfolio_data['shares']\n",
    "df_account_value_buynhold = portfolio_data.groupby('date')['daily_value'].sum().reset_index()\n",
    "df_account_value_buynhold.rename(columns={'daily_value': 'account_value'}, inplace=True)\n",
    "\n",
    "# Filter the data between the start_date and end_date\n",
    "df_account_value_buynhold['date'] = pd.to_datetime(df_account_value_buynhold['date'])\n",
    "df_account_value_buynhold = df_account_value_buynhold[\n",
    "    (df_account_value_buynhold['date'] >= start_date) & (df_account_value_buynhold['date'] <= end_date)\n",
    "]\n",
    "\n",
    "# Set the date column as the index\n",
    "df_account_value_buynhold.set_index('date', inplace=True)\n",
    "\n",
    "# Visualization\n",
    "plt.figure(figsize=(12, 6))\n",
    "plt.plot(df_account_value_buynhold.index, df_account_value_buynhold['account_value'], marker='o', color='b')\n",
    "plt.title('Portfolio Value Over Time (Buy and Hold Strategy)')\n",
    "plt.xlabel('Date')\n",
    "plt.ylabel('Portfolio Value ($)')\n",
    "\n",
    "# Set xticks to display weekly intervals\n",
    "plt.xticks(pd.date_range(start=df_account_value_buynhold.index.min(),\n",
    "                         end=df_account_value_buynhold.index.max(), freq='W'))\n",
    "plt.gca().xaxis.set_major_formatter(plt.matplotlib.dates.DateFormatter('%Y-%m-%d'))\n",
    "\n",
    "plt.xticks(rotation=45)\n",
    "plt.grid(True)\n",
    "plt.tight_layout()\n",
    "plt.show()\n",
    "\n",
    "now = datetime.datetime.now().strftime('%Y%m%d-%Hh%M')\n",
    "df_account_value_buynhold['datadate'] = list(df_account_value_buynhold.index)\n",
    "df_account_value_buynhold['date'] = list(df_account_value_buynhold.index)\n",
    "perf_stats_all = backtest_stats(account_value=df_account_value_buynhold)\n",
    "perf_stats_all = pd.DataFrame(perf_stats_all)\n",
    "\n"
   ]
  },
  {
   "cell_type": "markdown",
   "metadata": {
    "id": "Lr2zX7ZxNyFQ"
   },
   "source": [
    "<a id='6.1'></a>\n",
    "## 7.1 BackTestStats\n",
    "pass in df_account_value, this information is stored in env class\n"
   ]
  },
  {
   "cell_type": "code",
   "execution_count": null,
   "metadata": {},
   "outputs": [],
   "source": []
  },
  {
   "cell_type": "code",
   "execution_count": null,
   "metadata": {},
   "outputs": [],
   "source": []
  },
  {
   "cell_type": "code",
   "execution_count": null,
   "metadata": {},
   "outputs": [],
   "source": [
    "df_account_value = df_account_value.reset_index()"
   ]
  },
  {
   "cell_type": "code",
   "execution_count": null,
   "metadata": {
    "id": "Nzkr9yv-AdV_",
    "scrolled": true
   },
   "outputs": [],
   "source": [
    "print(\"==============Get Backtest Results===========\")\n",
    "now = datetime.datetime.now().strftime('%Y%m%d-%Hh%M')\n",
    "\n",
    "perf_stats_all = backtest_stats(account_value=df_account_value)\n",
    "perf_stats_all = pd.DataFrame(perf_stats_all)"
   ]
  },
  {
   "cell_type": "code",
   "execution_count": null,
   "metadata": {
    "id": "DiHhM1YkoCel"
   },
   "outputs": [],
   "source": [
    "#baseline stats\n",
    "print(\"==============Get Baseline Stats===========\")\n",
    "df_dji_ = get_baseline(\n",
    "        ticker=\"^DJI\",\n",
    "        start = df_account_value.loc[0,'date'],\n",
    "        end = df_account_value.loc[len(df_account_value)-1,'date'])\n",
    "\n",
    "stats = backtest_stats(df_dji_, value_col_name = 'close')"
   ]
  },
  {
   "cell_type": "code",
   "execution_count": null,
   "metadata": {
    "id": "RhJ9whD75WTs"
   },
   "outputs": [],
   "source": [
    "df_dji = pd.DataFrame()\n",
    "df_dji['date'] = df_account_value['date']\n",
    "df_dji['dji'] = df_dji_['close'] / df_dji_['close'][0] * env_kwargs[\"initial_amount\"]\n",
    "print(\"df_dji: \", df_dji)\n",
    "df_dji.to_csv(\"df_dji.csv\")\n",
    "df_dji = df_dji.set_index(df_dji.columns[0])\n",
    "print(\"df_dji: \", df_dji)\n",
    "df_dji.to_csv(\"df_dji+.csv\")\n",
    "\n",
    "df_account_value.to_csv('df_account_value.csv')\n"
   ]
  },
  {
   "cell_type": "markdown",
   "metadata": {
    "id": "9U6Suru3h1jc"
   },
   "source": [
    "<a id='6.2'></a>\n",
    "## 7.2 BackTestPlot"
   ]
  },
  {
   "cell_type": "code",
   "execution_count": null,
   "metadata": {
    "id": "HggausPRoCem"
   },
   "outputs": [],
   "source": [
    "\n",
    "\n",
    "# print(\"==============Compare to DJIA===========\")\n",
    "# %matplotlib inline\n",
    "# # S&P 500: ^GSPC\n",
    "# # Dow Jones Index: ^DJI\n",
    "# # NASDAQ 100: ^NDX\n",
    "# backtest_plot(df_account_value,\n",
    "#               baseline_ticker = '^DJI',\n",
    "#               baseline_start = df_account_value.loc[0,'date'],\n",
    "#               baseline_end = df_account_value.loc[len(df_account_value)-1,'date'])\n",
    "df.to_csv(\"df.csv\")\n",
    "df_result_ensemble = pd.DataFrame({'date': df_account_value['date'], 'ensemble': df_account_value['account_value']})\n",
    "df_result_ensemble = df_result_ensemble.set_index('date')\n",
    "\n",
    "print(\"df_result_ensemble.columns: \", df_result_ensemble.columns)\n",
    "\n",
    "# df_result_ensemble.drop(df_result_ensemble.columns[0], axis = 1)\n",
    "print(\"df_trade_date: \", df_trade_date)\n",
    "# df_result_ensemble['date'] = df_trade_date['datadate']\n",
    "# df_result_ensemble['account_value'] = df_account_value['account_value']\n",
    "df_result_ensemble.to_csv(\"df_result_ensemble.csv\")\n",
    "print(\"df_result_ensemble: \", df_result_ensemble)\n",
    "print(\"==============Compare to DJIA===========\")\n",
    "result = pd.DataFrame()\n",
    "# result = pd.merge(result, df_result_ensemble, left_index=True, right_index=True)\n",
    "# result = pd.merge(result, df_dji, left_index=True, right_index=True)\n",
    "result = pd.merge(df_result_ensemble, df_dji, left_index=True, right_index=True)\n",
    "print(\"result: \", result)\n",
    "result.to_csv(\"result.csv\")\n",
    "result.columns = ['ensemble', 'dji']\n",
    "\n",
    "%matplotlib inline\n",
    "plt.rcParams[\"figure.figsize\"] = (15,5)\n",
    "plt.figure();\n",
    "result.plot();"
   ]
  },
  {
   "cell_type": "code",
   "execution_count": null,
   "metadata": {},
   "outputs": [],
   "source": []
  },
  {
   "cell_type": "markdown",
   "metadata": {
    "id": "oBQx4bVQFi-a"
   },
   "source": []
  }
 ],
 "metadata": {
  "accelerator": "GPU",
  "colab": {
   "provenance": []
  },
  "kernelspec": {
   "display_name": "Python 3 (ipykernel)",
   "language": "python",
   "name": "python3"
  },
  "language_info": {
   "codemirror_mode": {
    "name": "ipython",
    "version": 3
   },
   "file_extension": ".py",
   "mimetype": "text/x-python",
   "name": "python",
   "nbconvert_exporter": "python",
   "pygments_lexer": "ipython3",
   "version": "3.10.15"
  },
  "pycharm": {
   "stem_cell": {
    "cell_type": "raw",
    "metadata": {
     "collapsed": false
    },
    "source": []
   }
  }
 },
 "nbformat": 4,
 "nbformat_minor": 4
}
